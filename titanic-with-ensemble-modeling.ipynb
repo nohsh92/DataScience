{
 "cells": [
  {
   "cell_type": "code",
   "execution_count": 1,
   "id": "d238d6e3",
   "metadata": {
    "_cell_guid": "b1076dfc-b9ad-4769-8c92-a6c4dae69d19",
    "_uuid": "8f2839f25d086af736a60e9eeb907d3b93b6e0e5",
    "execution": {
     "iopub.execute_input": "2022-03-13T14:35:34.628101Z",
     "iopub.status.busy": "2022-03-13T14:35:34.627309Z",
     "iopub.status.idle": "2022-03-13T14:35:34.634558Z",
     "shell.execute_reply": "2022-03-13T14:35:34.633871Z",
     "shell.execute_reply.started": "2022-03-13T13:56:08.227765Z"
    },
    "papermill": {
     "duration": 0.060527,
     "end_time": "2022-03-13T14:35:34.634720",
     "exception": false,
     "start_time": "2022-03-13T14:35:34.574193",
     "status": "completed"
    },
    "tags": []
   },
   "outputs": [
    {
     "name": "stdout",
     "output_type": "stream",
     "text": [
      "/kaggle/input/titanic/train.csv\n",
      "/kaggle/input/titanic/test.csv\n",
      "/kaggle/input/titanic/gender_submission.csv\n"
     ]
    }
   ],
   "source": [
    "# This Python 3 environment comes with many helpful analytics libraries installed\n",
    "# It is defined by the kaggle/python Docker image: https://github.com/kaggle/docker-python\n",
    "# For example, here's several helpful packages to load\n",
    "\n",
    "import numpy as np # linear algebra\n",
    "import pandas as pd # data processing, CSV file I/O (e.g. pd.read_csv)\n",
    "\n",
    "# Input data files are available in the read-only \"../input/\" directory\n",
    "# For example, running this (by clicking run or pressing Shift+Enter) will list all files under the input directory\n",
    "\n",
    "import os\n",
    "for dirname, _, filenames in os.walk('/kaggle/input/titanic'):\n",
    "    for filename in filenames:\n",
    "        print(os.path.join(dirname, filename))\n",
    "\n",
    "# You can write up to 20GB to the current directory (/kaggle/working/) that gets preserved as output when you create a version using \"Save & Run All\" \n",
    "# You can also write temporary files to /kaggle/temp/, but they won't be saved outside of the current session"
   ]
  },
  {
   "cell_type": "markdown",
   "id": "edbed91e",
   "metadata": {
    "execution": {
     "iopub.execute_input": "2022-03-13T13:38:19.228402Z",
     "iopub.status.busy": "2022-03-13T13:38:19.228137Z",
     "iopub.status.idle": "2022-03-13T13:38:19.231887Z",
     "shell.execute_reply": "2022-03-13T13:38:19.231172Z",
     "shell.execute_reply.started": "2022-03-13T13:38:19.228374Z"
    },
    "papermill": {
     "duration": 0.039095,
     "end_time": "2022-03-13T14:35:34.714503",
     "exception": false,
     "start_time": "2022-03-13T14:35:34.675408",
     "status": "completed"
    },
    "tags": []
   },
   "source": [
    "# 1. Introduction"
   ]
  },
  {
   "cell_type": "code",
   "execution_count": 2,
   "id": "b69b7296",
   "metadata": {
    "execution": {
     "iopub.execute_input": "2022-03-13T14:35:34.798516Z",
     "iopub.status.busy": "2022-03-13T14:35:34.797975Z",
     "iopub.status.idle": "2022-03-13T14:35:36.521743Z",
     "shell.execute_reply": "2022-03-13T14:35:36.521156Z",
     "shell.execute_reply.started": "2022-03-13T13:56:08.240337Z"
    },
    "papermill": {
     "duration": 1.769028,
     "end_time": "2022-03-13T14:35:36.521860",
     "exception": false,
     "start_time": "2022-03-13T14:35:34.752832",
     "status": "completed"
    },
    "tags": []
   },
   "outputs": [],
   "source": [
    "import pandas as pd\n",
    "import numpy as np\n",
    "import matplotlib.pyplot as plt\n",
    "import seaborn as sns\n",
    "%matplotlib inline\n",
    "\n",
    "from collections import Counter\n",
    "\n",
    "from sklearn.ensemble import RandomForestClassifier, AdaBoostClassifier, GradientBoostingClassifier, ExtraTreesClassifier, VotingClassifier\n",
    "from sklearn.discriminant_analysis import LinearDiscriminantAnalysis\n",
    "from sklearn.linear_model import LogisticRegression\n",
    "from sklearn.neighbors import KNeighborsClassifier\n",
    "from sklearn.tree import DecisionTreeClassifier\n",
    "from sklearn.neural_network import MLPClassifier\n",
    "from sklearn.svm import SVC\n",
    "from sklearn.model_selection import GridSearchCV, cross_val_score, StratifiedKFold, learning_curve\n",
    "\n",
    "sns.set(style='white', context='notebook', palette='deep')"
   ]
  },
  {
   "cell_type": "markdown",
   "id": "e4b8f126",
   "metadata": {
    "papermill": {
     "duration": 0.037945,
     "end_time": "2022-03-13T14:35:36.598068",
     "exception": false,
     "start_time": "2022-03-13T14:35:36.560123",
     "status": "completed"
    },
    "tags": []
   },
   "source": [
    "# 2. Load and check data"
   ]
  },
  {
   "cell_type": "markdown",
   "id": "a0aa77b0",
   "metadata": {
    "papermill": {
     "duration": 0.037452,
     "end_time": "2022-03-13T14:35:36.672905",
     "exception": false,
     "start_time": "2022-03-13T14:35:36.635453",
     "status": "completed"
    },
    "tags": []
   },
   "source": [
    "## 2.1 Load data"
   ]
  },
  {
   "cell_type": "code",
   "execution_count": 3,
   "id": "13381038",
   "metadata": {
    "execution": {
     "iopub.execute_input": "2022-03-13T14:35:36.754515Z",
     "iopub.status.busy": "2022-03-13T14:35:36.753977Z",
     "iopub.status.idle": "2022-03-13T14:35:36.786604Z",
     "shell.execute_reply": "2022-03-13T14:35:36.786011Z",
     "shell.execute_reply.started": "2022-03-13T13:56:08.250514Z"
    },
    "papermill": {
     "duration": 0.075949,
     "end_time": "2022-03-13T14:35:36.786713",
     "exception": false,
     "start_time": "2022-03-13T14:35:36.710764",
     "status": "completed"
    },
    "tags": []
   },
   "outputs": [],
   "source": [
    "# Load data\n",
    "##### Load train and Test set\n",
    "\n",
    "train = pd.read_csv(\"/kaggle/input/titanic/train.csv\")\n",
    "test = pd.read_csv(\"/kaggle/input/titanic/test.csv\")\n",
    "IDtest = test[\"PassengerId\"]"
   ]
  },
  {
   "cell_type": "markdown",
   "id": "ea918356",
   "metadata": {
    "papermill": {
     "duration": 0.037211,
     "end_time": "2022-03-13T14:35:36.862180",
     "exception": false,
     "start_time": "2022-03-13T14:35:36.824969",
     "status": "completed"
    },
    "tags": []
   },
   "source": [
    "## 2.2 Outlier detection"
   ]
  },
  {
   "cell_type": "code",
   "execution_count": 4,
   "id": "7edac032",
   "metadata": {
    "execution": {
     "iopub.execute_input": "2022-03-13T14:35:36.946534Z",
     "iopub.status.busy": "2022-03-13T14:35:36.945915Z",
     "iopub.status.idle": "2022-03-13T14:35:36.959285Z",
     "shell.execute_reply": "2022-03-13T14:35:36.959751Z",
     "shell.execute_reply.started": "2022-03-13T13:56:08.273735Z"
    },
    "papermill": {
     "duration": 0.059962,
     "end_time": "2022-03-13T14:35:36.959894",
     "exception": false,
     "start_time": "2022-03-13T14:35:36.899932",
     "status": "completed"
    },
    "tags": []
   },
   "outputs": [],
   "source": [
    "# Outlier detection \n",
    "\n",
    "def detect_outliers(df,n,features):\n",
    "    \"\"\"\n",
    "    Takes a dataframe df of features and returns a list of the indices\n",
    "    corresponding to the observations containing more than n outliers according\n",
    "    to the Tukey method.\n",
    "    \"\"\"\n",
    "    outlier_indices = []\n",
    "    \n",
    "    # iterate over features(columns)\n",
    "    for col in features:\n",
    "        # 1st quartile (25%)\n",
    "        Q1 = np.percentile(df[col], 25)\n",
    "        # 3rd quartile (75%)\n",
    "        Q3 = np.percentile(df[col],75)\n",
    "        # Interquartile range (IQR)\n",
    "        IQR = Q3 - Q1\n",
    "        \n",
    "        # outlier step\n",
    "        outlier_step = 1.5 * IQR\n",
    "        \n",
    "        # Determine a list of indices of outliers for feature col\n",
    "        outlier_list_col = df[(df[col] < Q1 - outlier_step) | (df[col] > Q3 + outlier_step )].index\n",
    "        \n",
    "        # append the found outlier indices for col to the list of outlier indices \n",
    "        outlier_indices.extend(outlier_list_col)\n",
    "        \n",
    "    # select observations containing more than 2 outliers\n",
    "    outlier_indices = Counter(outlier_indices)        \n",
    "    multiple_outliers = list( k for k, v in outlier_indices.items() if v > n )\n",
    "    \n",
    "    return multiple_outliers   \n",
    "\n",
    "# detect outliers from Age, SibSp , Parch and Fare\n",
    "Outliers_to_drop = detect_outliers(train,2,[\"Age\",\"SibSp\",\"Parch\",\"Fare\"])"
   ]
  },
  {
   "cell_type": "code",
   "execution_count": 5,
   "id": "5623ee0b",
   "metadata": {
    "execution": {
     "iopub.execute_input": "2022-03-13T14:35:37.039813Z",
     "iopub.status.busy": "2022-03-13T14:35:37.039269Z",
     "iopub.status.idle": "2022-03-13T14:35:37.068141Z",
     "shell.execute_reply": "2022-03-13T14:35:37.068683Z",
     "shell.execute_reply.started": "2022-03-13T13:56:08.285922Z"
    },
    "papermill": {
     "duration": 0.070362,
     "end_time": "2022-03-13T14:35:37.068858",
     "exception": false,
     "start_time": "2022-03-13T14:35:36.998496",
     "status": "completed"
    },
    "tags": []
   },
   "outputs": [
    {
     "data": {
      "text/html": [
       "<div>\n",
       "<style scoped>\n",
       "    .dataframe tbody tr th:only-of-type {\n",
       "        vertical-align: middle;\n",
       "    }\n",
       "\n",
       "    .dataframe tbody tr th {\n",
       "        vertical-align: top;\n",
       "    }\n",
       "\n",
       "    .dataframe thead th {\n",
       "        text-align: right;\n",
       "    }\n",
       "</style>\n",
       "<table border=\"1\" class=\"dataframe\">\n",
       "  <thead>\n",
       "    <tr style=\"text-align: right;\">\n",
       "      <th></th>\n",
       "      <th>PassengerId</th>\n",
       "      <th>Survived</th>\n",
       "      <th>Pclass</th>\n",
       "      <th>Name</th>\n",
       "      <th>Sex</th>\n",
       "      <th>Age</th>\n",
       "      <th>SibSp</th>\n",
       "      <th>Parch</th>\n",
       "      <th>Ticket</th>\n",
       "      <th>Fare</th>\n",
       "      <th>Cabin</th>\n",
       "      <th>Embarked</th>\n",
       "    </tr>\n",
       "  </thead>\n",
       "  <tbody>\n",
       "    <tr>\n",
       "      <th>27</th>\n",
       "      <td>28</td>\n",
       "      <td>0</td>\n",
       "      <td>1</td>\n",
       "      <td>Fortune, Mr. Charles Alexander</td>\n",
       "      <td>male</td>\n",
       "      <td>19.0</td>\n",
       "      <td>3</td>\n",
       "      <td>2</td>\n",
       "      <td>19950</td>\n",
       "      <td>263.00</td>\n",
       "      <td>C23 C25 C27</td>\n",
       "      <td>S</td>\n",
       "    </tr>\n",
       "    <tr>\n",
       "      <th>88</th>\n",
       "      <td>89</td>\n",
       "      <td>1</td>\n",
       "      <td>1</td>\n",
       "      <td>Fortune, Miss. Mabel Helen</td>\n",
       "      <td>female</td>\n",
       "      <td>23.0</td>\n",
       "      <td>3</td>\n",
       "      <td>2</td>\n",
       "      <td>19950</td>\n",
       "      <td>263.00</td>\n",
       "      <td>C23 C25 C27</td>\n",
       "      <td>S</td>\n",
       "    </tr>\n",
       "    <tr>\n",
       "      <th>159</th>\n",
       "      <td>160</td>\n",
       "      <td>0</td>\n",
       "      <td>3</td>\n",
       "      <td>Sage, Master. Thomas Henry</td>\n",
       "      <td>male</td>\n",
       "      <td>NaN</td>\n",
       "      <td>8</td>\n",
       "      <td>2</td>\n",
       "      <td>CA. 2343</td>\n",
       "      <td>69.55</td>\n",
       "      <td>NaN</td>\n",
       "      <td>S</td>\n",
       "    </tr>\n",
       "    <tr>\n",
       "      <th>180</th>\n",
       "      <td>181</td>\n",
       "      <td>0</td>\n",
       "      <td>3</td>\n",
       "      <td>Sage, Miss. Constance Gladys</td>\n",
       "      <td>female</td>\n",
       "      <td>NaN</td>\n",
       "      <td>8</td>\n",
       "      <td>2</td>\n",
       "      <td>CA. 2343</td>\n",
       "      <td>69.55</td>\n",
       "      <td>NaN</td>\n",
       "      <td>S</td>\n",
       "    </tr>\n",
       "    <tr>\n",
       "      <th>201</th>\n",
       "      <td>202</td>\n",
       "      <td>0</td>\n",
       "      <td>3</td>\n",
       "      <td>Sage, Mr. Frederick</td>\n",
       "      <td>male</td>\n",
       "      <td>NaN</td>\n",
       "      <td>8</td>\n",
       "      <td>2</td>\n",
       "      <td>CA. 2343</td>\n",
       "      <td>69.55</td>\n",
       "      <td>NaN</td>\n",
       "      <td>S</td>\n",
       "    </tr>\n",
       "    <tr>\n",
       "      <th>324</th>\n",
       "      <td>325</td>\n",
       "      <td>0</td>\n",
       "      <td>3</td>\n",
       "      <td>Sage, Mr. George John Jr</td>\n",
       "      <td>male</td>\n",
       "      <td>NaN</td>\n",
       "      <td>8</td>\n",
       "      <td>2</td>\n",
       "      <td>CA. 2343</td>\n",
       "      <td>69.55</td>\n",
       "      <td>NaN</td>\n",
       "      <td>S</td>\n",
       "    </tr>\n",
       "    <tr>\n",
       "      <th>341</th>\n",
       "      <td>342</td>\n",
       "      <td>1</td>\n",
       "      <td>1</td>\n",
       "      <td>Fortune, Miss. Alice Elizabeth</td>\n",
       "      <td>female</td>\n",
       "      <td>24.0</td>\n",
       "      <td>3</td>\n",
       "      <td>2</td>\n",
       "      <td>19950</td>\n",
       "      <td>263.00</td>\n",
       "      <td>C23 C25 C27</td>\n",
       "      <td>S</td>\n",
       "    </tr>\n",
       "    <tr>\n",
       "      <th>792</th>\n",
       "      <td>793</td>\n",
       "      <td>0</td>\n",
       "      <td>3</td>\n",
       "      <td>Sage, Miss. Stella Anna</td>\n",
       "      <td>female</td>\n",
       "      <td>NaN</td>\n",
       "      <td>8</td>\n",
       "      <td>2</td>\n",
       "      <td>CA. 2343</td>\n",
       "      <td>69.55</td>\n",
       "      <td>NaN</td>\n",
       "      <td>S</td>\n",
       "    </tr>\n",
       "    <tr>\n",
       "      <th>846</th>\n",
       "      <td>847</td>\n",
       "      <td>0</td>\n",
       "      <td>3</td>\n",
       "      <td>Sage, Mr. Douglas Bullen</td>\n",
       "      <td>male</td>\n",
       "      <td>NaN</td>\n",
       "      <td>8</td>\n",
       "      <td>2</td>\n",
       "      <td>CA. 2343</td>\n",
       "      <td>69.55</td>\n",
       "      <td>NaN</td>\n",
       "      <td>S</td>\n",
       "    </tr>\n",
       "    <tr>\n",
       "      <th>863</th>\n",
       "      <td>864</td>\n",
       "      <td>0</td>\n",
       "      <td>3</td>\n",
       "      <td>Sage, Miss. Dorothy Edith \"Dolly\"</td>\n",
       "      <td>female</td>\n",
       "      <td>NaN</td>\n",
       "      <td>8</td>\n",
       "      <td>2</td>\n",
       "      <td>CA. 2343</td>\n",
       "      <td>69.55</td>\n",
       "      <td>NaN</td>\n",
       "      <td>S</td>\n",
       "    </tr>\n",
       "  </tbody>\n",
       "</table>\n",
       "</div>"
      ],
      "text/plain": [
       "     PassengerId  Survived  Pclass                               Name     Sex  \\\n",
       "27            28         0       1     Fortune, Mr. Charles Alexander    male   \n",
       "88            89         1       1         Fortune, Miss. Mabel Helen  female   \n",
       "159          160         0       3         Sage, Master. Thomas Henry    male   \n",
       "180          181         0       3       Sage, Miss. Constance Gladys  female   \n",
       "201          202         0       3                Sage, Mr. Frederick    male   \n",
       "324          325         0       3           Sage, Mr. George John Jr    male   \n",
       "341          342         1       1     Fortune, Miss. Alice Elizabeth  female   \n",
       "792          793         0       3            Sage, Miss. Stella Anna  female   \n",
       "846          847         0       3           Sage, Mr. Douglas Bullen    male   \n",
       "863          864         0       3  Sage, Miss. Dorothy Edith \"Dolly\"  female   \n",
       "\n",
       "      Age  SibSp  Parch    Ticket    Fare        Cabin Embarked  \n",
       "27   19.0      3      2     19950  263.00  C23 C25 C27        S  \n",
       "88   23.0      3      2     19950  263.00  C23 C25 C27        S  \n",
       "159   NaN      8      2  CA. 2343   69.55          NaN        S  \n",
       "180   NaN      8      2  CA. 2343   69.55          NaN        S  \n",
       "201   NaN      8      2  CA. 2343   69.55          NaN        S  \n",
       "324   NaN      8      2  CA. 2343   69.55          NaN        S  \n",
       "341  24.0      3      2     19950  263.00  C23 C25 C27        S  \n",
       "792   NaN      8      2  CA. 2343   69.55          NaN        S  \n",
       "846   NaN      8      2  CA. 2343   69.55          NaN        S  \n",
       "863   NaN      8      2  CA. 2343   69.55          NaN        S  "
      ]
     },
     "execution_count": 5,
     "metadata": {},
     "output_type": "execute_result"
    }
   ],
   "source": [
    "train.loc[Outliers_to_drop] # Show the outliers rows\n"
   ]
  },
  {
   "cell_type": "code",
   "execution_count": 6,
   "id": "866bc618",
   "metadata": {
    "execution": {
     "iopub.execute_input": "2022-03-13T14:35:37.191495Z",
     "iopub.status.busy": "2022-03-13T14:35:37.190876Z",
     "iopub.status.idle": "2022-03-13T14:35:37.194365Z",
     "shell.execute_reply": "2022-03-13T14:35:37.194885Z",
     "shell.execute_reply.started": "2022-03-13T13:56:08.311637Z"
    },
    "papermill": {
     "duration": 0.067241,
     "end_time": "2022-03-13T14:35:37.195082",
     "exception": false,
     "start_time": "2022-03-13T14:35:37.127841",
     "status": "completed"
    },
    "tags": []
   },
   "outputs": [],
   "source": [
    "# Drop outliers\n",
    "train = train.drop(Outliers_to_drop, axis = 0).reset_index(drop=True)"
   ]
  },
  {
   "cell_type": "markdown",
   "id": "fe533726",
   "metadata": {
    "papermill": {
     "duration": 0.058689,
     "end_time": "2022-03-13T14:35:37.314188",
     "exception": false,
     "start_time": "2022-03-13T14:35:37.255499",
     "status": "completed"
    },
    "tags": []
   },
   "source": [
    "## 2.3 Joining train and test set"
   ]
  },
  {
   "cell_type": "code",
   "execution_count": 7,
   "id": "1c44c56f",
   "metadata": {
    "execution": {
     "iopub.execute_input": "2022-03-13T14:35:37.441968Z",
     "iopub.status.busy": "2022-03-13T14:35:37.441174Z",
     "iopub.status.idle": "2022-03-13T14:35:37.446330Z",
     "shell.execute_reply": "2022-03-13T14:35:37.446903Z",
     "shell.execute_reply.started": "2022-03-13T13:56:08.324530Z"
    },
    "papermill": {
     "duration": 0.073762,
     "end_time": "2022-03-13T14:35:37.447076",
     "exception": false,
     "start_time": "2022-03-13T14:35:37.373314",
     "status": "completed"
    },
    "tags": []
   },
   "outputs": [],
   "source": [
    "## Join train and test datasets in order to obtain the same number of features during categorical conversion\n",
    "train_len = len(train)\n",
    "dataset =  pd.concat(objs=[train, test], axis=0).reset_index(drop=True)"
   ]
  },
  {
   "cell_type": "code",
   "execution_count": 8,
   "id": "cc30b5c1",
   "metadata": {
    "execution": {
     "iopub.execute_input": "2022-03-13T14:35:37.569948Z",
     "iopub.status.busy": "2022-03-13T14:35:37.567729Z",
     "iopub.status.idle": "2022-03-13T14:35:37.575217Z",
     "shell.execute_reply": "2022-03-13T14:35:37.574792Z",
     "shell.execute_reply.started": "2022-03-13T13:59:37.179776Z"
    },
    "papermill": {
     "duration": 0.069328,
     "end_time": "2022-03-13T14:35:37.575352",
     "exception": false,
     "start_time": "2022-03-13T14:35:37.506024",
     "status": "completed"
    },
    "tags": []
   },
   "outputs": [
    {
     "data": {
      "text/plain": [
       "PassengerId      0\n",
       "Pclass           0\n",
       "Name             0\n",
       "Sex              0\n",
       "Age             86\n",
       "SibSp            0\n",
       "Parch            0\n",
       "Ticket           0\n",
       "Fare             1\n",
       "Cabin          327\n",
       "Embarked         0\n",
       "dtype: int64"
      ]
     },
     "execution_count": 8,
     "metadata": {},
     "output_type": "execute_result"
    }
   ],
   "source": [
    "test.isnull().sum()"
   ]
  },
  {
   "cell_type": "markdown",
   "id": "de090176",
   "metadata": {
    "papermill": {
     "duration": 0.040287,
     "end_time": "2022-03-13T14:35:37.653919",
     "exception": false,
     "start_time": "2022-03-13T14:35:37.613632",
     "status": "completed"
    },
    "tags": []
   },
   "source": [
    "## 2.4 Check for null and missing values"
   ]
  },
  {
   "cell_type": "code",
   "execution_count": 9,
   "id": "db4a7370",
   "metadata": {
    "execution": {
     "iopub.execute_input": "2022-03-13T14:35:37.736676Z",
     "iopub.status.busy": "2022-03-13T14:35:37.733855Z",
     "iopub.status.idle": "2022-03-13T14:35:37.745524Z",
     "shell.execute_reply": "2022-03-13T14:35:37.745871Z",
     "shell.execute_reply.started": "2022-03-13T13:56:08.480217Z"
    },
    "papermill": {
     "duration": 0.053174,
     "end_time": "2022-03-13T14:35:37.746014",
     "exception": false,
     "start_time": "2022-03-13T14:35:37.692840",
     "status": "completed"
    },
    "tags": []
   },
   "outputs": [
    {
     "data": {
      "text/plain": [
       "PassengerId       0\n",
       "Survived        418\n",
       "Pclass            0\n",
       "Name              0\n",
       "Sex               0\n",
       "Age             256\n",
       "SibSp             0\n",
       "Parch             0\n",
       "Ticket            0\n",
       "Fare              1\n",
       "Cabin          1007\n",
       "Embarked          2\n",
       "dtype: int64"
      ]
     },
     "execution_count": 9,
     "metadata": {},
     "output_type": "execute_result"
    }
   ],
   "source": [
    "# Fill empty and NaNs values with NaN\n",
    "dataset = dataset.fillna(np.nan)\n",
    "\n",
    "# Check for Null values\n",
    "dataset.isnull().sum()"
   ]
  },
  {
   "cell_type": "code",
   "execution_count": 10,
   "id": "bc398573",
   "metadata": {
    "execution": {
     "iopub.execute_input": "2022-03-13T14:35:37.827792Z",
     "iopub.status.busy": "2022-03-13T14:35:37.827104Z",
     "iopub.status.idle": "2022-03-13T14:35:37.852784Z",
     "shell.execute_reply": "2022-03-13T14:35:37.852138Z",
     "shell.execute_reply.started": "2022-03-13T13:56:08.491544Z"
    },
    "papermill": {
     "duration": 0.067945,
     "end_time": "2022-03-13T14:35:37.852930",
     "exception": false,
     "start_time": "2022-03-13T14:35:37.784985",
     "status": "completed"
    },
    "tags": []
   },
   "outputs": [
    {
     "name": "stdout",
     "output_type": "stream",
     "text": [
      "<class 'pandas.core.frame.DataFrame'>\n",
      "RangeIndex: 881 entries, 0 to 880\n",
      "Data columns (total 12 columns):\n",
      " #   Column       Non-Null Count  Dtype  \n",
      "---  ------       --------------  -----  \n",
      " 0   PassengerId  881 non-null    int64  \n",
      " 1   Survived     881 non-null    int64  \n",
      " 2   Pclass       881 non-null    int64  \n",
      " 3   Name         881 non-null    object \n",
      " 4   Sex          881 non-null    object \n",
      " 5   Age          711 non-null    float64\n",
      " 6   SibSp        881 non-null    int64  \n",
      " 7   Parch        881 non-null    int64  \n",
      " 8   Ticket       881 non-null    object \n",
      " 9   Fare         881 non-null    float64\n",
      " 10  Cabin        201 non-null    object \n",
      " 11  Embarked     879 non-null    object \n",
      "dtypes: float64(2), int64(5), object(5)\n",
      "memory usage: 82.7+ KB\n"
     ]
    },
    {
     "data": {
      "text/plain": [
       "PassengerId      0\n",
       "Survived         0\n",
       "Pclass           0\n",
       "Name             0\n",
       "Sex              0\n",
       "Age            170\n",
       "SibSp            0\n",
       "Parch            0\n",
       "Ticket           0\n",
       "Fare             0\n",
       "Cabin          680\n",
       "Embarked         2\n",
       "dtype: int64"
      ]
     },
     "execution_count": 10,
     "metadata": {},
     "output_type": "execute_result"
    }
   ],
   "source": [
    "# Infos\n",
    "train.info()\n",
    "train.isnull().sum()"
   ]
  },
  {
   "cell_type": "code",
   "execution_count": 11,
   "id": "63ee4a6b",
   "metadata": {
    "execution": {
     "iopub.execute_input": "2022-03-13T14:35:37.977754Z",
     "iopub.status.busy": "2022-03-13T14:35:37.977110Z",
     "iopub.status.idle": "2022-03-13T14:35:37.991782Z",
     "shell.execute_reply": "2022-03-13T14:35:37.992409Z",
     "shell.execute_reply.started": "2022-03-13T13:56:08.505857Z"
    },
    "papermill": {
     "duration": 0.078631,
     "end_time": "2022-03-13T14:35:37.992570",
     "exception": false,
     "start_time": "2022-03-13T14:35:37.913939",
     "status": "completed"
    },
    "tags": []
   },
   "outputs": [
    {
     "data": {
      "text/html": [
       "<div>\n",
       "<style scoped>\n",
       "    .dataframe tbody tr th:only-of-type {\n",
       "        vertical-align: middle;\n",
       "    }\n",
       "\n",
       "    .dataframe tbody tr th {\n",
       "        vertical-align: top;\n",
       "    }\n",
       "\n",
       "    .dataframe thead th {\n",
       "        text-align: right;\n",
       "    }\n",
       "</style>\n",
       "<table border=\"1\" class=\"dataframe\">\n",
       "  <thead>\n",
       "    <tr style=\"text-align: right;\">\n",
       "      <th></th>\n",
       "      <th>PassengerId</th>\n",
       "      <th>Survived</th>\n",
       "      <th>Pclass</th>\n",
       "      <th>Name</th>\n",
       "      <th>Sex</th>\n",
       "      <th>Age</th>\n",
       "      <th>SibSp</th>\n",
       "      <th>Parch</th>\n",
       "      <th>Ticket</th>\n",
       "      <th>Fare</th>\n",
       "      <th>Cabin</th>\n",
       "      <th>Embarked</th>\n",
       "    </tr>\n",
       "  </thead>\n",
       "  <tbody>\n",
       "    <tr>\n",
       "      <th>0</th>\n",
       "      <td>1</td>\n",
       "      <td>0</td>\n",
       "      <td>3</td>\n",
       "      <td>Braund, Mr. Owen Harris</td>\n",
       "      <td>male</td>\n",
       "      <td>22.0</td>\n",
       "      <td>1</td>\n",
       "      <td>0</td>\n",
       "      <td>A/5 21171</td>\n",
       "      <td>7.2500</td>\n",
       "      <td>NaN</td>\n",
       "      <td>S</td>\n",
       "    </tr>\n",
       "    <tr>\n",
       "      <th>1</th>\n",
       "      <td>2</td>\n",
       "      <td>1</td>\n",
       "      <td>1</td>\n",
       "      <td>Cumings, Mrs. John Bradley (Florence Briggs Th...</td>\n",
       "      <td>female</td>\n",
       "      <td>38.0</td>\n",
       "      <td>1</td>\n",
       "      <td>0</td>\n",
       "      <td>PC 17599</td>\n",
       "      <td>71.2833</td>\n",
       "      <td>C85</td>\n",
       "      <td>C</td>\n",
       "    </tr>\n",
       "    <tr>\n",
       "      <th>2</th>\n",
       "      <td>3</td>\n",
       "      <td>1</td>\n",
       "      <td>3</td>\n",
       "      <td>Heikkinen, Miss. Laina</td>\n",
       "      <td>female</td>\n",
       "      <td>26.0</td>\n",
       "      <td>0</td>\n",
       "      <td>0</td>\n",
       "      <td>STON/O2. 3101282</td>\n",
       "      <td>7.9250</td>\n",
       "      <td>NaN</td>\n",
       "      <td>S</td>\n",
       "    </tr>\n",
       "    <tr>\n",
       "      <th>3</th>\n",
       "      <td>4</td>\n",
       "      <td>1</td>\n",
       "      <td>1</td>\n",
       "      <td>Futrelle, Mrs. Jacques Heath (Lily May Peel)</td>\n",
       "      <td>female</td>\n",
       "      <td>35.0</td>\n",
       "      <td>1</td>\n",
       "      <td>0</td>\n",
       "      <td>113803</td>\n",
       "      <td>53.1000</td>\n",
       "      <td>C123</td>\n",
       "      <td>S</td>\n",
       "    </tr>\n",
       "    <tr>\n",
       "      <th>4</th>\n",
       "      <td>5</td>\n",
       "      <td>0</td>\n",
       "      <td>3</td>\n",
       "      <td>Allen, Mr. William Henry</td>\n",
       "      <td>male</td>\n",
       "      <td>35.0</td>\n",
       "      <td>0</td>\n",
       "      <td>0</td>\n",
       "      <td>373450</td>\n",
       "      <td>8.0500</td>\n",
       "      <td>NaN</td>\n",
       "      <td>S</td>\n",
       "    </tr>\n",
       "  </tbody>\n",
       "</table>\n",
       "</div>"
      ],
      "text/plain": [
       "   PassengerId  Survived  Pclass  \\\n",
       "0            1         0       3   \n",
       "1            2         1       1   \n",
       "2            3         1       3   \n",
       "3            4         1       1   \n",
       "4            5         0       3   \n",
       "\n",
       "                                                Name     Sex   Age  SibSp  \\\n",
       "0                            Braund, Mr. Owen Harris    male  22.0      1   \n",
       "1  Cumings, Mrs. John Bradley (Florence Briggs Th...  female  38.0      1   \n",
       "2                             Heikkinen, Miss. Laina  female  26.0      0   \n",
       "3       Futrelle, Mrs. Jacques Heath (Lily May Peel)  female  35.0      1   \n",
       "4                           Allen, Mr. William Henry    male  35.0      0   \n",
       "\n",
       "   Parch            Ticket     Fare Cabin Embarked  \n",
       "0      0         A/5 21171   7.2500   NaN        S  \n",
       "1      0          PC 17599  71.2833   C85        C  \n",
       "2      0  STON/O2. 3101282   7.9250   NaN        S  \n",
       "3      0            113803  53.1000  C123        S  \n",
       "4      0            373450   8.0500   NaN        S  "
      ]
     },
     "execution_count": 11,
     "metadata": {},
     "output_type": "execute_result"
    }
   ],
   "source": [
    "train.head()\n"
   ]
  },
  {
   "cell_type": "code",
   "execution_count": 12,
   "id": "4520f23d",
   "metadata": {
    "execution": {
     "iopub.execute_input": "2022-03-13T14:35:38.119519Z",
     "iopub.status.busy": "2022-03-13T14:35:38.118920Z",
     "iopub.status.idle": "2022-03-13T14:35:38.126222Z",
     "shell.execute_reply": "2022-03-13T14:35:38.126783Z",
     "shell.execute_reply.started": "2022-03-13T13:56:08.520913Z"
    },
    "papermill": {
     "duration": 0.072117,
     "end_time": "2022-03-13T14:35:38.126970",
     "exception": false,
     "start_time": "2022-03-13T14:35:38.054853",
     "status": "completed"
    },
    "tags": []
   },
   "outputs": [
    {
     "data": {
      "text/plain": [
       "PassengerId      int64\n",
       "Survived         int64\n",
       "Pclass           int64\n",
       "Name            object\n",
       "Sex             object\n",
       "Age            float64\n",
       "SibSp            int64\n",
       "Parch            int64\n",
       "Ticket          object\n",
       "Fare           float64\n",
       "Cabin           object\n",
       "Embarked        object\n",
       "dtype: object"
      ]
     },
     "execution_count": 12,
     "metadata": {},
     "output_type": "execute_result"
    }
   ],
   "source": [
    "train.dtypes"
   ]
  },
  {
   "cell_type": "code",
   "execution_count": 13,
   "id": "b3b8180e",
   "metadata": {
    "execution": {
     "iopub.execute_input": "2022-03-13T14:35:38.253661Z",
     "iopub.status.busy": "2022-03-13T14:35:38.253061Z",
     "iopub.status.idle": "2022-03-13T14:35:38.280927Z",
     "shell.execute_reply": "2022-03-13T14:35:38.281467Z",
     "shell.execute_reply.started": "2022-03-13T13:56:08.534191Z"
    },
    "papermill": {
     "duration": 0.092547,
     "end_time": "2022-03-13T14:35:38.281639",
     "exception": false,
     "start_time": "2022-03-13T14:35:38.189092",
     "status": "completed"
    },
    "tags": []
   },
   "outputs": [
    {
     "data": {
      "text/html": [
       "<div>\n",
       "<style scoped>\n",
       "    .dataframe tbody tr th:only-of-type {\n",
       "        vertical-align: middle;\n",
       "    }\n",
       "\n",
       "    .dataframe tbody tr th {\n",
       "        vertical-align: top;\n",
       "    }\n",
       "\n",
       "    .dataframe thead th {\n",
       "        text-align: right;\n",
       "    }\n",
       "</style>\n",
       "<table border=\"1\" class=\"dataframe\">\n",
       "  <thead>\n",
       "    <tr style=\"text-align: right;\">\n",
       "      <th></th>\n",
       "      <th>PassengerId</th>\n",
       "      <th>Survived</th>\n",
       "      <th>Pclass</th>\n",
       "      <th>Age</th>\n",
       "      <th>SibSp</th>\n",
       "      <th>Parch</th>\n",
       "      <th>Fare</th>\n",
       "    </tr>\n",
       "  </thead>\n",
       "  <tbody>\n",
       "    <tr>\n",
       "      <th>count</th>\n",
       "      <td>881.000000</td>\n",
       "      <td>881.000000</td>\n",
       "      <td>881.000000</td>\n",
       "      <td>711.000000</td>\n",
       "      <td>881.000000</td>\n",
       "      <td>881.000000</td>\n",
       "      <td>881.000000</td>\n",
       "    </tr>\n",
       "    <tr>\n",
       "      <th>mean</th>\n",
       "      <td>446.713961</td>\n",
       "      <td>0.385925</td>\n",
       "      <td>2.307605</td>\n",
       "      <td>29.731603</td>\n",
       "      <td>0.455165</td>\n",
       "      <td>0.363224</td>\n",
       "      <td>31.121566</td>\n",
       "    </tr>\n",
       "    <tr>\n",
       "      <th>std</th>\n",
       "      <td>256.617021</td>\n",
       "      <td>0.487090</td>\n",
       "      <td>0.835055</td>\n",
       "      <td>14.547835</td>\n",
       "      <td>0.871571</td>\n",
       "      <td>0.791839</td>\n",
       "      <td>47.996249</td>\n",
       "    </tr>\n",
       "    <tr>\n",
       "      <th>min</th>\n",
       "      <td>1.000000</td>\n",
       "      <td>0.000000</td>\n",
       "      <td>1.000000</td>\n",
       "      <td>0.420000</td>\n",
       "      <td>0.000000</td>\n",
       "      <td>0.000000</td>\n",
       "      <td>0.000000</td>\n",
       "    </tr>\n",
       "    <tr>\n",
       "      <th>25%</th>\n",
       "      <td>226.000000</td>\n",
       "      <td>0.000000</td>\n",
       "      <td>2.000000</td>\n",
       "      <td>20.250000</td>\n",
       "      <td>0.000000</td>\n",
       "      <td>0.000000</td>\n",
       "      <td>7.895800</td>\n",
       "    </tr>\n",
       "    <tr>\n",
       "      <th>50%</th>\n",
       "      <td>448.000000</td>\n",
       "      <td>0.000000</td>\n",
       "      <td>3.000000</td>\n",
       "      <td>28.000000</td>\n",
       "      <td>0.000000</td>\n",
       "      <td>0.000000</td>\n",
       "      <td>14.454200</td>\n",
       "    </tr>\n",
       "    <tr>\n",
       "      <th>75%</th>\n",
       "      <td>668.000000</td>\n",
       "      <td>1.000000</td>\n",
       "      <td>3.000000</td>\n",
       "      <td>38.000000</td>\n",
       "      <td>1.000000</td>\n",
       "      <td>0.000000</td>\n",
       "      <td>30.500000</td>\n",
       "    </tr>\n",
       "    <tr>\n",
       "      <th>max</th>\n",
       "      <td>891.000000</td>\n",
       "      <td>1.000000</td>\n",
       "      <td>3.000000</td>\n",
       "      <td>80.000000</td>\n",
       "      <td>5.000000</td>\n",
       "      <td>6.000000</td>\n",
       "      <td>512.329200</td>\n",
       "    </tr>\n",
       "  </tbody>\n",
       "</table>\n",
       "</div>"
      ],
      "text/plain": [
       "       PassengerId    Survived      Pclass         Age       SibSp  \\\n",
       "count   881.000000  881.000000  881.000000  711.000000  881.000000   \n",
       "mean    446.713961    0.385925    2.307605   29.731603    0.455165   \n",
       "std     256.617021    0.487090    0.835055   14.547835    0.871571   \n",
       "min       1.000000    0.000000    1.000000    0.420000    0.000000   \n",
       "25%     226.000000    0.000000    2.000000   20.250000    0.000000   \n",
       "50%     448.000000    0.000000    3.000000   28.000000    0.000000   \n",
       "75%     668.000000    1.000000    3.000000   38.000000    1.000000   \n",
       "max     891.000000    1.000000    3.000000   80.000000    5.000000   \n",
       "\n",
       "            Parch        Fare  \n",
       "count  881.000000  881.000000  \n",
       "mean     0.363224   31.121566  \n",
       "std      0.791839   47.996249  \n",
       "min      0.000000    0.000000  \n",
       "25%      0.000000    7.895800  \n",
       "50%      0.000000   14.454200  \n",
       "75%      0.000000   30.500000  \n",
       "max      6.000000  512.329200  "
      ]
     },
     "execution_count": 13,
     "metadata": {},
     "output_type": "execute_result"
    }
   ],
   "source": [
    "### Summarize data\n",
    "# Summarie and statistics\n",
    "train.describe()"
   ]
  },
  {
   "cell_type": "markdown",
   "id": "9e4392c8",
   "metadata": {
    "papermill": {
     "duration": 0.06211,
     "end_time": "2022-03-13T14:35:38.405980",
     "exception": false,
     "start_time": "2022-03-13T14:35:38.343870",
     "status": "completed"
    },
    "tags": []
   },
   "source": [
    "# 3. Feature analysis"
   ]
  },
  {
   "cell_type": "markdown",
   "id": "9c31cbbc",
   "metadata": {
    "papermill": {
     "duration": 0.063318,
     "end_time": "2022-03-13T14:35:38.531300",
     "exception": false,
     "start_time": "2022-03-13T14:35:38.467982",
     "status": "completed"
    },
    "tags": []
   },
   "source": [
    "## 3.1 Numerical values"
   ]
  },
  {
   "cell_type": "code",
   "execution_count": 14,
   "id": "b4824ac3",
   "metadata": {
    "execution": {
     "iopub.execute_input": "2022-03-13T14:35:38.662466Z",
     "iopub.status.busy": "2022-03-13T14:35:38.661847Z",
     "iopub.status.idle": "2022-03-13T14:35:38.993036Z",
     "shell.execute_reply": "2022-03-13T14:35:38.993654Z",
     "shell.execute_reply.started": "2022-03-13T13:56:08.561604Z"
    },
    "papermill": {
     "duration": 0.398391,
     "end_time": "2022-03-13T14:35:38.993857",
     "exception": false,
     "start_time": "2022-03-13T14:35:38.595466",
     "status": "completed"
    },
    "tags": []
   },
   "outputs": [
    {
     "data": {
      "image/png": "[encoded data removed]",
      "text/plain": [
       "<Figure size 432x288 with 2 Axes>"
      ]
     },
     "metadata": {},
     "output_type": "display_data"
    }
   ],
   "source": [
    "# Correlation matrix between numerical values (SibSp Parch Age and Fare values) and Survived \n",
    "g = sns.heatmap(train[[\"Survived\",\"SibSp\",\"Parch\",\"Age\",\"Fare\"]].corr(),annot=True, fmt = \".2f\", cmap = \"coolwarm\")"
   ]
  },
  {
   "cell_type": "markdown",
   "id": "dcee1503",
   "metadata": {
    "papermill": {
     "duration": 0.063898,
     "end_time": "2022-03-13T14:35:39.122580",
     "exception": false,
     "start_time": "2022-03-13T14:35:39.058682",
     "status": "completed"
    },
    "tags": []
   },
   "source": [
    "### SipSP"
   ]
  },
  {
   "cell_type": "code",
   "execution_count": 15,
   "id": "23d8eaf2",
   "metadata": {
    "execution": {
     "iopub.execute_input": "2022-03-13T14:35:39.261230Z",
     "iopub.status.busy": "2022-03-13T14:35:39.259109Z",
     "iopub.status.idle": "2022-03-13T14:35:39.663383Z",
     "shell.execute_reply": "2022-03-13T14:35:39.662704Z",
     "shell.execute_reply.started": "2022-03-13T14:01:50.904937Z"
    },
    "papermill": {
     "duration": 0.475978,
     "end_time": "2022-03-13T14:35:39.663523",
     "exception": false,
     "start_time": "2022-03-13T14:35:39.187545",
     "status": "completed"
    },
    "tags": []
   },
   "outputs": [
    {
     "data": {
      "image/png": "[encoded data removed]",
      "text/plain": [
       "<Figure size 432x432 with 1 Axes>"
      ]
     },
     "metadata": {},
     "output_type": "display_data"
    }
   ],
   "source": [
    "# Explore SibSp feature vs Survived\n",
    "g = sns.catplot(x=\"SibSp\",y=\"Survived\",data=train,kind=\"bar\", height = 6 , \n",
    "palette = \"muted\")\n",
    "g.despine(left=True)\n",
    "g = g.set_ylabels(\"survival probability\")"
   ]
  },
  {
   "cell_type": "markdown",
   "id": "b5635ea5",
   "metadata": {
    "papermill": {
     "duration": 0.06571,
     "end_time": "2022-03-13T14:35:39.795715",
     "exception": false,
     "start_time": "2022-03-13T14:35:39.730005",
     "status": "completed"
    },
    "tags": []
   },
   "source": [
    "### Parch"
   ]
  },
  {
   "cell_type": "code",
   "execution_count": 16,
   "id": "0d43e387",
   "metadata": {
    "execution": {
     "iopub.execute_input": "2022-03-13T14:35:39.928297Z",
     "iopub.status.busy": "2022-03-13T14:35:39.927673Z",
     "iopub.status.idle": "2022-03-13T14:35:40.299948Z",
     "shell.execute_reply": "2022-03-13T14:35:40.300444Z",
     "shell.execute_reply.started": "2022-03-13T14:10:19.973328Z"
    },
    "papermill": {
     "duration": 0.440591,
     "end_time": "2022-03-13T14:35:40.300609",
     "exception": false,
     "start_time": "2022-03-13T14:35:39.860018",
     "status": "completed"
    },
    "tags": []
   },
   "outputs": [
    {
     "data": {
      "image/png": "[encoded data removed]",
      "text/plain": [
       "<Figure size 432x432 with 1 Axes>"
      ]
     },
     "metadata": {},
     "output_type": "display_data"
    }
   ],
   "source": [
    "# Explore Parch feature vs Survived\n",
    "g  = sns.catplot(x=\"Parch\",y=\"Survived\",data=train,kind=\"bar\", height = 6 , \n",
    "palette = \"muted\")\n",
    "g.despine(left=True)\n",
    "g = g.set_ylabels(\"survival probability\")"
   ]
  },
  {
   "cell_type": "markdown",
   "id": "a1ee178c",
   "metadata": {
    "papermill": {
     "duration": 0.066945,
     "end_time": "2022-03-13T14:35:40.433466",
     "exception": false,
     "start_time": "2022-03-13T14:35:40.366521",
     "status": "completed"
    },
    "tags": []
   },
   "source": [
    "### Age"
   ]
  },
  {
   "cell_type": "code",
   "execution_count": 17,
   "id": "940732cc",
   "metadata": {
    "execution": {
     "iopub.execute_input": "2022-03-13T14:35:40.572505Z",
     "iopub.status.busy": "2022-03-13T14:35:40.571808Z",
     "iopub.status.idle": "2022-03-13T14:35:41.145286Z",
     "shell.execute_reply": "2022-03-13T14:35:41.144809Z",
     "shell.execute_reply.started": "2022-03-13T14:12:29.895920Z"
    },
    "papermill": {
     "duration": 0.644309,
     "end_time": "2022-03-13T14:35:41.145437",
     "exception": false,
     "start_time": "2022-03-13T14:35:40.501128",
     "status": "completed"
    },
    "tags": []
   },
   "outputs": [
    {
     "data": {
      "image/png": "[encoded data removed]",
      "text/plain": [
       "<Figure size 432x216 with 2 Axes>"
      ]
     },
     "metadata": {},
     "output_type": "display_data"
    }
   ],
   "source": [
    "# Explore Age vs Survived\n",
    "g = sns.FacetGrid(train, col='Survived')\n",
    "g = g.map(sns.histplot, \"Age\")"
   ]
  },
  {
   "cell_type": "code",
   "execution_count": 18,
   "id": "326e08f1",
   "metadata": {
    "execution": {
     "iopub.execute_input": "2022-03-13T14:35:41.274054Z",
     "iopub.status.busy": "2022-03-13T14:35:41.243322Z",
     "iopub.status.idle": "2022-03-13T14:35:41.513361Z",
     "shell.execute_reply": "2022-03-13T14:35:41.511883Z",
     "shell.execute_reply.started": "2022-03-13T14:15:20.784125Z"
    },
    "papermill": {
     "duration": 0.322274,
     "end_time": "2022-03-13T14:35:41.513536",
     "exception": false,
     "start_time": "2022-03-13T14:35:41.191262",
     "status": "completed"
    },
    "tags": []
   },
   "outputs": [
    {
     "data": {
      "image/png": "[encoded data removed]",
      "text/plain": [
       "<Figure size 432x288 with 1 Axes>"
      ]
     },
     "metadata": {},
     "output_type": "display_data"
    }
   ],
   "source": [
    "# Explore Age distibution \n",
    "g = sns.kdeplot(train[\"Age\"][(train[\"Survived\"] == 0) & (train[\"Age\"].notnull())], color=\"Red\", shade = True)\n",
    "g = sns.kdeplot(train[\"Age\"][(train[\"Survived\"] == 1) & (train[\"Age\"].notnull())], ax =g, color=\"Blue\", shade= True)\n",
    "g.set_xlabel(\"Age\")\n",
    "g.set_ylabel(\"Frequency\")\n",
    "g = g.legend([\"Not Survived\",\"Survived\"])"
   ]
  },
  {
   "cell_type": "markdown",
   "id": "cad257e2",
   "metadata": {
    "papermill": {
     "duration": 0.069408,
     "end_time": "2022-03-13T14:35:41.652286",
     "exception": false,
     "start_time": "2022-03-13T14:35:41.582878",
     "status": "completed"
    },
    "tags": []
   },
   "source": [
    "### Fare"
   ]
  },
  {
   "cell_type": "code",
   "execution_count": 19,
   "id": "c943430b",
   "metadata": {
    "execution": {
     "iopub.execute_input": "2022-03-13T14:35:41.798027Z",
     "iopub.status.busy": "2022-03-13T14:35:41.797025Z",
     "iopub.status.idle": "2022-03-13T14:35:41.801987Z",
     "shell.execute_reply": "2022-03-13T14:35:41.801172Z",
     "shell.execute_reply.started": "2022-03-13T14:16:40.318880Z"
    },
    "papermill": {
     "duration": 0.080081,
     "end_time": "2022-03-13T14:35:41.802156",
     "exception": false,
     "start_time": "2022-03-13T14:35:41.722075",
     "status": "completed"
    },
    "tags": []
   },
   "outputs": [
    {
     "data": {
      "text/plain": [
       "1"
      ]
     },
     "execution_count": 19,
     "metadata": {},
     "output_type": "execute_result"
    }
   ],
   "source": [
    "dataset[\"Fare\"].isnull().sum()\n"
   ]
  },
  {
   "cell_type": "code",
   "execution_count": 20,
   "id": "7d46daf9",
   "metadata": {
    "execution": {
     "iopub.execute_input": "2022-03-13T14:35:41.946911Z",
     "iopub.status.busy": "2022-03-13T14:35:41.946235Z",
     "iopub.status.idle": "2022-03-13T14:35:41.949063Z",
     "shell.execute_reply": "2022-03-13T14:35:41.948460Z",
     "shell.execute_reply.started": "2022-03-13T14:16:45.246522Z"
    },
    "papermill": {
     "duration": 0.077223,
     "end_time": "2022-03-13T14:35:41.949230",
     "exception": false,
     "start_time": "2022-03-13T14:35:41.872007",
     "status": "completed"
    },
    "tags": []
   },
   "outputs": [],
   "source": [
    "#Fill Fare missing values with the median value\n",
    "dataset[\"Fare\"] = dataset[\"Fare\"].fillna(dataset[\"Fare\"].median())"
   ]
  },
  {
   "cell_type": "code",
   "execution_count": 21,
   "id": "35edd2cb",
   "metadata": {
    "execution": {
     "iopub.execute_input": "2022-03-13T14:35:42.104600Z",
     "iopub.status.busy": "2022-03-13T14:35:42.095275Z",
     "iopub.status.idle": "2022-03-13T14:35:42.744830Z",
     "shell.execute_reply": "2022-03-13T14:35:42.744257Z",
     "shell.execute_reply.started": "2022-03-13T14:16:59.432253Z"
    },
    "papermill": {
     "duration": 0.725155,
     "end_time": "2022-03-13T14:35:42.744987",
     "exception": false,
     "start_time": "2022-03-13T14:35:42.019832",
     "status": "completed"
    },
    "tags": []
   },
   "outputs": [
    {
     "data": {
      "image/png": "[encoded data removed]",
      "text/plain": [
       "<Figure size 432x288 with 1 Axes>"
      ]
     },
     "metadata": {},
     "output_type": "display_data"
    }
   ],
   "source": [
    "# Explore Fare distribution \n",
    "g = sns.histplot(dataset[\"Fare\"], color=\"m\", label=\"Skewness : %.2f\"%(dataset[\"Fare\"].skew()))\n",
    "g = g.legend(loc=\"best\")"
   ]
  },
  {
   "cell_type": "code",
   "execution_count": 22,
   "id": "5461ec85",
   "metadata": {
    "execution": {
     "iopub.execute_input": "2022-03-13T14:35:42.894586Z",
     "iopub.status.busy": "2022-03-13T14:35:42.893890Z",
     "iopub.status.idle": "2022-03-13T14:35:42.896514Z",
     "shell.execute_reply": "2022-03-13T14:35:42.897083Z",
     "shell.execute_reply.started": "2022-03-13T14:17:11.085931Z"
    },
    "papermill": {
     "duration": 0.081377,
     "end_time": "2022-03-13T14:35:42.897264",
     "exception": false,
     "start_time": "2022-03-13T14:35:42.815887",
     "status": "completed"
    },
    "tags": []
   },
   "outputs": [],
   "source": [
    "# Apply log to Fare to reduce skewness distribution\n",
    "dataset[\"Fare\"] = dataset[\"Fare\"].map(lambda i: np.log(i) if i > 0 else 0)"
   ]
  },
  {
   "cell_type": "code",
   "execution_count": 23,
   "id": "314eea41",
   "metadata": {
    "execution": {
     "iopub.execute_input": "2022-03-13T14:35:43.045013Z",
     "iopub.status.busy": "2022-03-13T14:35:43.044322Z",
     "iopub.status.idle": "2022-03-13T14:35:43.299456Z",
     "shell.execute_reply": "2022-03-13T14:35:43.300009Z",
     "shell.execute_reply.started": "2022-03-13T14:17:17.461488Z"
    },
    "papermill": {
     "duration": 0.332125,
     "end_time": "2022-03-13T14:35:43.300182",
     "exception": false,
     "start_time": "2022-03-13T14:35:42.968057",
     "status": "completed"
    },
    "tags": []
   },
   "outputs": [
    {
     "data": {
      "image/png": "[encoded data removed]",
      "text/plain": [
       "<Figure size 432x288 with 1 Axes>"
      ]
     },
     "metadata": {},
     "output_type": "display_data"
    }
   ],
   "source": [
    "g = sns.histplot(dataset[\"Fare\"], color=\"b\", label=\"Skewness : %.2f\"%(dataset[\"Fare\"].skew()))\n",
    "g = g.legend(loc=\"best\")"
   ]
  },
  {
   "cell_type": "markdown",
   "id": "dbecd599",
   "metadata": {
    "papermill": {
     "duration": 0.071442,
     "end_time": "2022-03-13T14:35:43.443262",
     "exception": false,
     "start_time": "2022-03-13T14:35:43.371820",
     "status": "completed"
    },
    "tags": []
   },
   "source": [
    "## 3.2 Categorical values"
   ]
  },
  {
   "cell_type": "code",
   "execution_count": 24,
   "id": "ba1f9ec4",
   "metadata": {
    "execution": {
     "iopub.execute_input": "2022-03-13T14:35:43.587904Z",
     "iopub.status.busy": "2022-03-13T14:35:43.587139Z",
     "iopub.status.idle": "2022-03-13T14:35:43.758838Z",
     "shell.execute_reply": "2022-03-13T14:35:43.759531Z",
     "shell.execute_reply.started": "2022-03-13T14:17:39.734313Z"
    },
    "papermill": {
     "duration": 0.245392,
     "end_time": "2022-03-13T14:35:43.759710",
     "exception": false,
     "start_time": "2022-03-13T14:35:43.514318",
     "status": "completed"
    },
    "tags": []
   },
   "outputs": [
    {
     "data": {
      "image/png": "[encoded data removed]",
      "text/plain": [
       "<Figure size 432x288 with 1 Axes>"
      ]
     },
     "metadata": {},
     "output_type": "display_data"
    }
   ],
   "source": [
    "g = sns.barplot(x=\"Sex\",y=\"Survived\",data=train)\n",
    "g = g.set_ylabel(\"Survival Probability\")"
   ]
  },
  {
   "cell_type": "code",
   "execution_count": 25,
   "id": "ba9013d6",
   "metadata": {
    "execution": {
     "iopub.execute_input": "2022-03-13T14:35:43.911115Z",
     "iopub.status.busy": "2022-03-13T14:35:43.910463Z",
     "iopub.status.idle": "2022-03-13T14:35:43.922256Z",
     "shell.execute_reply": "2022-03-13T14:35:43.922747Z",
     "shell.execute_reply.started": "2022-03-13T14:17:44.245383Z"
    },
    "papermill": {
     "duration": 0.086464,
     "end_time": "2022-03-13T14:35:43.922924",
     "exception": false,
     "start_time": "2022-03-13T14:35:43.836460",
     "status": "completed"
    },
    "tags": []
   },
   "outputs": [
    {
     "data": {
      "text/html": [
       "<div>\n",
       "<style scoped>\n",
       "    .dataframe tbody tr th:only-of-type {\n",
       "        vertical-align: middle;\n",
       "    }\n",
       "\n",
       "    .dataframe tbody tr th {\n",
       "        vertical-align: top;\n",
       "    }\n",
       "\n",
       "    .dataframe thead th {\n",
       "        text-align: right;\n",
       "    }\n",
       "</style>\n",
       "<table border=\"1\" class=\"dataframe\">\n",
       "  <thead>\n",
       "    <tr style=\"text-align: right;\">\n",
       "      <th></th>\n",
       "      <th>Survived</th>\n",
       "    </tr>\n",
       "    <tr>\n",
       "      <th>Sex</th>\n",
       "      <th></th>\n",
       "    </tr>\n",
       "  </thead>\n",
       "  <tbody>\n",
       "    <tr>\n",
       "      <th>female</th>\n",
       "      <td>0.747573</td>\n",
       "    </tr>\n",
       "    <tr>\n",
       "      <th>male</th>\n",
       "      <td>0.190559</td>\n",
       "    </tr>\n",
       "  </tbody>\n",
       "</table>\n",
       "</div>"
      ],
      "text/plain": [
       "        Survived\n",
       "Sex             \n",
       "female  0.747573\n",
       "male    0.190559"
      ]
     },
     "execution_count": 25,
     "metadata": {},
     "output_type": "execute_result"
    }
   ],
   "source": [
    "train[[\"Sex\",\"Survived\"]].groupby('Sex').mean()\n"
   ]
  },
  {
   "cell_type": "markdown",
   "id": "1f1165cb",
   "metadata": {
    "papermill": {
     "duration": 0.072584,
     "end_time": "2022-03-13T14:35:44.069005",
     "exception": false,
     "start_time": "2022-03-13T14:35:43.996421",
     "status": "completed"
    },
    "tags": []
   },
   "source": [
    "### Pclass"
   ]
  },
  {
   "cell_type": "code",
   "execution_count": 26,
   "id": "adaa2434",
   "metadata": {
    "execution": {
     "iopub.execute_input": "2022-03-13T14:35:44.216729Z",
     "iopub.status.busy": "2022-03-13T14:35:44.215997Z",
     "iopub.status.idle": "2022-03-13T14:35:44.519706Z",
     "shell.execute_reply": "2022-03-13T14:35:44.520294Z",
     "shell.execute_reply.started": "2022-03-13T14:18:18.842110Z"
    },
    "papermill": {
     "duration": 0.379341,
     "end_time": "2022-03-13T14:35:44.520474",
     "exception": false,
     "start_time": "2022-03-13T14:35:44.141133",
     "status": "completed"
    },
    "tags": []
   },
   "outputs": [
    {
     "data": {
      "image/png": "[encoded data removed]",
      "text/plain": [
       "<Figure size 432x432 with 1 Axes>"
      ]
     },
     "metadata": {},
     "output_type": "display_data"
    }
   ],
   "source": [
    "# Explore Pclass vs Survived\n",
    "g = sns.catplot(x=\"Pclass\",y=\"Survived\",data=train,kind=\"bar\", height = 6 , \n",
    "palette = \"muted\")\n",
    "g.despine(left=True)\n",
    "g = g.set_ylabels(\"survival probability\")"
   ]
  },
  {
   "cell_type": "code",
   "execution_count": 27,
   "id": "597ae1dc",
   "metadata": {
    "execution": {
     "iopub.execute_input": "2022-03-13T14:35:44.669820Z",
     "iopub.status.busy": "2022-03-13T14:35:44.669181Z",
     "iopub.status.idle": "2022-03-13T14:35:45.094967Z",
     "shell.execute_reply": "2022-03-13T14:35:45.095582Z",
     "shell.execute_reply.started": "2022-03-13T14:18:37.317438Z"
    },
    "papermill": {
     "duration": 0.501994,
     "end_time": "2022-03-13T14:35:45.095741",
     "exception": false,
     "start_time": "2022-03-13T14:35:44.593747",
     "status": "completed"
    },
    "tags": []
   },
   "outputs": [
    {
     "data": {
      "image/png": "[encoded data removed]",
      "text/plain": [
       "<Figure size 509.975x432 with 1 Axes>"
      ]
     },
     "metadata": {},
     "output_type": "display_data"
    }
   ],
   "source": [
    "# Explore Pclass vs Survived by Sex\n",
    "g = sns.catplot(x=\"Pclass\", y=\"Survived\", hue=\"Sex\", data=train,\n",
    "                   height=6, kind=\"bar\", palette=\"muted\")\n",
    "g.despine(left=True)\n",
    "g = g.set_ylabels(\"survival probability\")"
   ]
  },
  {
   "cell_type": "markdown",
   "id": "c29c7f31",
   "metadata": {
    "papermill": {
     "duration": 0.074733,
     "end_time": "2022-03-13T14:35:45.245217",
     "exception": false,
     "start_time": "2022-03-13T14:35:45.170484",
     "status": "completed"
    },
    "tags": []
   },
   "source": [
    "### Embarked"
   ]
  },
  {
   "cell_type": "code",
   "execution_count": 28,
   "id": "6f97e2eb",
   "metadata": {
    "execution": {
     "iopub.execute_input": "2022-03-13T14:35:45.400392Z",
     "iopub.status.busy": "2022-03-13T14:35:45.399722Z",
     "iopub.status.idle": "2022-03-13T14:35:45.404541Z",
     "shell.execute_reply": "2022-03-13T14:35:45.405066Z",
     "shell.execute_reply.started": "2022-03-13T14:18:54.237939Z"
    },
    "papermill": {
     "duration": 0.082824,
     "end_time": "2022-03-13T14:35:45.405251",
     "exception": false,
     "start_time": "2022-03-13T14:35:45.322427",
     "status": "completed"
    },
    "tags": []
   },
   "outputs": [
    {
     "data": {
      "text/plain": [
       "2"
      ]
     },
     "execution_count": 28,
     "metadata": {},
     "output_type": "execute_result"
    }
   ],
   "source": [
    "dataset[\"Embarked\"].isnull().sum()\n"
   ]
  },
  {
   "cell_type": "code",
   "execution_count": 29,
   "id": "5f1f6ba6",
   "metadata": {
    "execution": {
     "iopub.execute_input": "2022-03-13T14:35:45.559004Z",
     "iopub.status.busy": "2022-03-13T14:35:45.558358Z",
     "iopub.status.idle": "2022-03-13T14:35:45.563011Z",
     "shell.execute_reply": "2022-03-13T14:35:45.563401Z",
     "shell.execute_reply.started": "2022-03-13T14:19:37.931239Z"
    },
    "papermill": {
     "duration": 0.083157,
     "end_time": "2022-03-13T14:35:45.563546",
     "exception": false,
     "start_time": "2022-03-13T14:35:45.480389",
     "status": "completed"
    },
    "tags": []
   },
   "outputs": [],
   "source": [
    "#Fill Embarked nan values of dataset set with 'S' most frequent value\n",
    "dataset[\"Embarked\"] = dataset[\"Embarked\"].fillna(\"S\")"
   ]
  },
  {
   "cell_type": "code",
   "execution_count": 30,
   "id": "468f530b",
   "metadata": {
    "execution": {
     "iopub.execute_input": "2022-03-13T14:35:45.671580Z",
     "iopub.status.busy": "2022-03-13T14:35:45.671036Z",
     "iopub.status.idle": "2022-03-13T14:35:46.060173Z",
     "shell.execute_reply": "2022-03-13T14:35:46.059721Z",
     "shell.execute_reply.started": "2022-03-13T14:19:51.462406Z"
    },
    "papermill": {
     "duration": 0.446318,
     "end_time": "2022-03-13T14:35:46.060279",
     "exception": false,
     "start_time": "2022-03-13T14:35:45.613961",
     "status": "completed"
    },
    "tags": []
   },
   "outputs": [
    {
     "data": {
      "image/png": "[encoded data removed]",
      "text/plain": [
       "<Figure size 432x432 with 1 Axes>"
      ]
     },
     "metadata": {},
     "output_type": "display_data"
    }
   ],
   "source": [
    "# Explore Embarked vs Survived \n",
    "g = sns.catplot(x=\"Embarked\", y=\"Survived\",  data=train,\n",
    "                   height=6, kind=\"bar\", palette=\"muted\")\n",
    "g.despine(left=True)\n",
    "g = g.set_ylabels(\"survival probability\")"
   ]
  },
  {
   "cell_type": "code",
   "execution_count": 31,
   "id": "68d6232e",
   "metadata": {
    "execution": {
     "iopub.execute_input": "2022-03-13T14:35:46.167730Z",
     "iopub.status.busy": "2022-03-13T14:35:46.166828Z",
     "iopub.status.idle": "2022-03-13T14:35:46.700174Z",
     "shell.execute_reply": "2022-03-13T14:35:46.699557Z",
     "shell.execute_reply.started": "2022-03-13T14:21:02.176897Z"
    },
    "papermill": {
     "duration": 0.588408,
     "end_time": "2022-03-13T14:35:46.700291",
     "exception": false,
     "start_time": "2022-03-13T14:35:46.111883",
     "status": "completed"
    },
    "tags": []
   },
   "outputs": [
    {
     "name": "stderr",
     "output_type": "stream",
     "text": [
      "/opt/conda/lib/python3.7/site-packages/seaborn/_decorators.py:43: FutureWarning: Pass the following variable as a keyword arg: x. From version 0.12, the only valid positional argument will be `data`, and passing other arguments without an explicit keyword will result in an error or misinterpretation.\n",
      "  FutureWarning\n"
     ]
    },
    {
     "data": {
      "image/png": "[encoded data removed]",
      "text/plain": [
       "<Figure size 1296x432 with 3 Axes>"
      ]
     },
     "metadata": {},
     "output_type": "display_data"
    }
   ],
   "source": [
    "# Explore Pclass vs Embarked \n",
    "g = sns.catplot(\"Pclass\", col=\"Embarked\",  data=train,\n",
    "                   height=6, kind=\"count\", palette=\"muted\")\n",
    "g.despine(left=True)\n",
    "g = g.set_ylabels(\"Count\")"
   ]
  },
  {
   "cell_type": "markdown",
   "id": "5a0d4a1b",
   "metadata": {
    "papermill": {
     "duration": 0.050221,
     "end_time": "2022-03-13T14:35:46.801192",
     "exception": false,
     "start_time": "2022-03-13T14:35:46.750971",
     "status": "completed"
    },
    "tags": []
   },
   "source": [
    "# 4. Filling missing Values"
   ]
  },
  {
   "cell_type": "markdown",
   "id": "7232fa25",
   "metadata": {
    "papermill": {
     "duration": 0.05323,
     "end_time": "2022-03-13T14:35:46.907820",
     "exception": false,
     "start_time": "2022-03-13T14:35:46.854590",
     "status": "completed"
    },
    "tags": []
   },
   "source": [
    "## 4.1 Age"
   ]
  },
  {
   "cell_type": "code",
   "execution_count": 32,
   "id": "1d6f631c",
   "metadata": {
    "execution": {
     "iopub.execute_input": "2022-03-13T14:35:47.017416Z",
     "iopub.status.busy": "2022-03-13T14:35:47.016861Z",
     "iopub.status.idle": "2022-03-13T14:35:48.300780Z",
     "shell.execute_reply": "2022-03-13T14:35:48.301289Z",
     "shell.execute_reply.started": "2022-03-13T14:23:40.980311Z"
    },
    "papermill": {
     "duration": 1.340514,
     "end_time": "2022-03-13T14:35:48.301465",
     "exception": false,
     "start_time": "2022-03-13T14:35:46.960951",
     "status": "completed"
    },
    "tags": []
   },
   "outputs": [
    {
     "data": {
      "image/png": "[encoded data removed]",
      "text/plain": [
       "<Figure size 360x360 with 1 Axes>"
      ]
     },
     "metadata": {},
     "output_type": "display_data"
    },
    {
     "data": {
      "image/png": "[encoded data removed]",
      "text/plain": [
       "<Figure size 406.6x360 with 1 Axes>"
      ]
     },
     "metadata": {},
     "output_type": "display_data"
    },
    {
     "data": {
      "image/png": "[encoded data removed]",
      "text/plain": [
       "<Figure size 360x360 with 1 Axes>"
      ]
     },
     "metadata": {},
     "output_type": "display_data"
    },
    {
     "data": {
      "image/png": "[encoded data removed]",
      "text/plain": [
       "<Figure size 360x360 with 1 Axes>"
      ]
     },
     "metadata": {},
     "output_type": "display_data"
    }
   ],
   "source": [
    "# Explore Age vs Sex, Parch , Pclass and SibSP\n",
    "g = sns.catplot(y=\"Age\",x=\"Sex\",data=dataset,kind=\"box\")\n",
    "g = sns.catplot(y=\"Age\",x=\"Sex\",hue=\"Pclass\", data=dataset,kind=\"box\")\n",
    "g = sns.catplot(y=\"Age\",x=\"Parch\", data=dataset,kind=\"box\")\n",
    "g = sns.catplot(y=\"Age\",x=\"SibSp\", data=dataset,kind=\"box\")"
   ]
  },
  {
   "cell_type": "code",
   "execution_count": 33,
   "id": "553e7d81",
   "metadata": {
    "execution": {
     "iopub.execute_input": "2022-03-13T14:35:48.433563Z",
     "iopub.status.busy": "2022-03-13T14:35:48.433064Z",
     "iopub.status.idle": "2022-03-13T14:35:48.435517Z",
     "shell.execute_reply": "2022-03-13T14:35:48.435953Z",
     "shell.execute_reply.started": "2022-03-13T14:25:34.966605Z"
    },
    "papermill": {
     "duration": 0.061648,
     "end_time": "2022-03-13T14:35:48.436103",
     "exception": false,
     "start_time": "2022-03-13T14:35:48.374455",
     "status": "completed"
    },
    "tags": []
   },
   "outputs": [],
   "source": [
    "# convert Sex into categorical value 0 for male and 1 for female\n",
    "dataset[\"Sex\"] = dataset[\"Sex\"].map({\"male\": 0, \"female\":1})"
   ]
  },
  {
   "cell_type": "code",
   "execution_count": 34,
   "id": "c84f65ed",
   "metadata": {
    "execution": {
     "iopub.execute_input": "2022-03-13T14:35:48.550870Z",
     "iopub.status.busy": "2022-03-13T14:35:48.550282Z",
     "iopub.status.idle": "2022-03-13T14:35:48.877226Z",
     "shell.execute_reply": "2022-03-13T14:35:48.876748Z",
     "shell.execute_reply.started": "2022-03-13T14:25:39.930899Z"
    },
    "papermill": {
     "duration": 0.384908,
     "end_time": "2022-03-13T14:35:48.877355",
     "exception": false,
     "start_time": "2022-03-13T14:35:48.492447",
     "status": "completed"
    },
    "tags": []
   },
   "outputs": [
    {
     "data": {
      "image/png": "[encoded data removed]",
      "text/plain": [
       "<Figure size 432x288 with 2 Axes>"
      ]
     },
     "metadata": {},
     "output_type": "display_data"
    }
   ],
   "source": [
    "g = sns.heatmap(dataset[[\"Age\",\"Sex\",\"SibSp\",\"Parch\",\"Pclass\"]].corr(),cmap=\"BrBG\",annot=True)"
   ]
  },
  {
   "cell_type": "code",
   "execution_count": 35,
   "id": "6a26b1b4",
   "metadata": {
    "execution": {
     "iopub.execute_input": "2022-03-13T14:35:48.997798Z",
     "iopub.status.busy": "2022-03-13T14:35:48.997161Z",
     "iopub.status.idle": "2022-03-13T14:35:49.478446Z",
     "shell.execute_reply": "2022-03-13T14:35:49.478916Z",
     "shell.execute_reply.started": "2022-03-13T14:27:33.850252Z"
    },
    "papermill": {
     "duration": 0.545643,
     "end_time": "2022-03-13T14:35:49.479108",
     "exception": false,
     "start_time": "2022-03-13T14:35:48.933465",
     "status": "completed"
    },
    "tags": []
   },
   "outputs": [
    {
     "name": "stderr",
     "output_type": "stream",
     "text": [
      "/opt/conda/lib/python3.7/site-packages/pandas/core/indexing.py:1732: SettingWithCopyWarning: \n",
      "A value is trying to be set on a copy of a slice from a DataFrame\n",
      "\n",
      "See the caveats in the documentation: https://pandas.pydata.org/pandas-docs/stable/user_guide/indexing.html#returning-a-view-versus-a-copy\n",
      "  self._setitem_single_block(indexer, value, name)\n"
     ]
    }
   ],
   "source": [
    "# Filling missing value of Age \n",
    "\n",
    "## Fill Age with the median age of similar rows according to Pclass, Parch and SibSp\n",
    "# Index of NaN age rows\n",
    "index_NaN_age = list(dataset[\"Age\"][dataset[\"Age\"].isnull()].index)\n",
    "\n",
    "for i in index_NaN_age :\n",
    "    age_med = dataset[\"Age\"].median()\n",
    "    age_pred = dataset[\"Age\"][((dataset['SibSp'] == dataset.iloc[i][\"SibSp\"]) & (dataset['Parch'] == dataset.iloc[i][\"Parch\"]) & (dataset['Pclass'] == dataset.iloc[i][\"Pclass\"]))].median()\n",
    "    if not np.isnan(age_pred) :\n",
    "        dataset['Age'].iloc[i] = age_pred\n",
    "    else :\n",
    "        dataset['Age'].iloc[i] = age_med"
   ]
  },
  {
   "cell_type": "code",
   "execution_count": 36,
   "id": "6c15a173",
   "metadata": {
    "execution": {
     "iopub.execute_input": "2022-03-13T14:35:49.624864Z",
     "iopub.status.busy": "2022-03-13T14:35:49.624113Z",
     "iopub.status.idle": "2022-03-13T14:35:50.175666Z",
     "shell.execute_reply": "2022-03-13T14:35:50.175067Z",
     "shell.execute_reply.started": "2022-03-13T14:28:12.959524Z"
    },
    "papermill": {
     "duration": 0.621105,
     "end_time": "2022-03-13T14:35:50.175786",
     "exception": false,
     "start_time": "2022-03-13T14:35:49.554681",
     "status": "completed"
    },
    "tags": []
   },
   "outputs": [
    {
     "data": {
      "image/png": "[encoded data removed]",
      "text/plain": [
       "<Figure size 360x360 with 1 Axes>"
      ]
     },
     "metadata": {},
     "output_type": "display_data"
    },
    {
     "data": {
      "image/png": "[encoded data removed]",
      "text/plain": [
       "<Figure size 360x360 with 1 Axes>"
      ]
     },
     "metadata": {},
     "output_type": "display_data"
    }
   ],
   "source": [
    "g = sns.catplot(x=\"Survived\", y = \"Age\",data = train, kind=\"box\")\n",
    "g = sns.catplot(x=\"Survived\", y = \"Age\",data = train, kind=\"violin\")"
   ]
  },
  {
   "cell_type": "code",
   "execution_count": null,
   "id": "696b4d97",
   "metadata": {
    "papermill": {
     "duration": 0.055791,
     "end_time": "2022-03-13T14:35:50.300177",
     "exception": false,
     "start_time": "2022-03-13T14:35:50.244386",
     "status": "completed"
    },
    "tags": []
   },
   "outputs": [],
   "source": []
  }
 ],
 "metadata": {
  "kernelspec": {
   "display_name": "Python 3",
   "language": "python",
   "name": "python3"
  },
  "language_info": {
   "codemirror_mode": {
    "name": "ipython",
    "version": 3
   },
   "file_extension": ".py",
   "mimetype": "text/x-python",
   "name": "python",
   "nbconvert_exporter": "python",
   "pygments_lexer": "ipython3",
   "version": "3.7.12"
  },
  "papermill": {
   "default_parameters": {},
   "duration": 28.355195,
   "end_time": "2022-03-13T14:35:51.371433",
   "environment_variables": {},
   "exception": null,
   "input_path": "__notebook__.ipynb",
   "output_path": "__notebook__.ipynb",
   "parameters": {},
   "start_time": "2022-03-13T14:35:23.016238",
   "version": "2.3.3"
  }
 },
 "nbformat": 4,
 "nbformat_minor": 5
}
