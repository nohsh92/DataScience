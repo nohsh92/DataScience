{
 "cells": [
  {
   "cell_type": "code",
   "execution_count": 1,
   "id": "6af2adb7",
   "metadata": {
    "_cell_guid": "b1076dfc-b9ad-4769-8c92-a6c4dae69d19",
    "_uuid": "8f2839f25d086af736a60e9eeb907d3b93b6e0e5",
    "execution": {
     "iopub.execute_input": "2022-02-26T14:48:10.154948Z",
     "iopub.status.busy": "2022-02-26T14:48:10.153871Z",
     "iopub.status.idle": "2022-02-26T14:48:10.163413Z",
     "shell.execute_reply": "2022-02-26T14:48:10.163871Z",
     "shell.execute_reply.started": "2022-02-26T13:15:54.134604Z"
    },
    "papermill": {
     "duration": 0.047612,
     "end_time": "2022-02-26T14:48:10.164145",
     "exception": false,
     "start_time": "2022-02-26T14:48:10.116533",
     "status": "completed"
    },
    "tags": []
   },
   "outputs": [
    {
     "name": "stdout",
     "output_type": "stream",
     "text": [
      "/kaggle/input/titanic/train.csv\n",
      "/kaggle/input/titanic/test.csv\n",
      "/kaggle/input/titanic/gender_submission.csv\n"
     ]
    }
   ],
   "source": [
    "# This Python 3 environment comes with many helpful analytics libraries installed\n",
    "# It is defined by the kaggle/python Docker image: https://github.com/kaggle/docker-python\n",
    "# For example, here's several helpful packages to load\n",
    "\n",
    "import numpy as np # linear algebra\n",
    "import pandas as pd # data processing, CSV file I/O (e.g. pd.read_csv)\n",
    "\n",
    "# Input data files are available in the read-only \"../input/\" directory\n",
    "# For example, running this (by clicking run or pressing Shift+Enter) will list all files under the input directory\n",
    "\n",
    "import os\n",
    "for dirname, _, filenames in os.walk('/kaggle/input'):\n",
    "    for filename in filenames:\n",
    "        print(os.path.join(dirname, filename))\n",
    "\n",
    "# You can write up to 20GB to the current directory (/kaggle/working/) that gets preserved as output when you create a version using \"Save & Run All\" \n",
    "# You can also write temporary files to /kaggle/temp/, but they won't be saved outside of the current session"
   ]
  },
  {
   "cell_type": "code",
   "execution_count": 2,
   "id": "3f3bf2a7",
   "metadata": {
    "execution": {
     "iopub.execute_input": "2022-02-26T14:48:10.234822Z",
     "iopub.status.busy": "2022-02-26T14:48:10.234278Z",
     "iopub.status.idle": "2022-02-26T14:48:11.159131Z",
     "shell.execute_reply": "2022-02-26T14:48:11.159569Z",
     "shell.execute_reply.started": "2022-02-26T13:19:31.911929Z"
    },
    "papermill": {
     "duration": 0.96081,
     "end_time": "2022-02-26T14:48:11.159739",
     "exception": false,
     "start_time": "2022-02-26T14:48:10.198929",
     "status": "completed"
    },
    "tags": []
   },
   "outputs": [],
   "source": [
    "import numpy as np \n",
    "import pandas as pd\n",
    "import matplotlib.pyplot as plt\n",
    "import seaborn as sns\n",
    "plt.style.use('fivethirtyeight')\n",
    "import warnings\n",
    "warnings.filterwarnings('ignore')\n",
    "%matplotlib inline"
   ]
  },
  {
   "cell_type": "code",
   "execution_count": 3,
   "id": "a00ef49f",
   "metadata": {
    "execution": {
     "iopub.execute_input": "2022-02-26T14:48:11.231680Z",
     "iopub.status.busy": "2022-02-26T14:48:11.231096Z",
     "iopub.status.idle": "2022-02-26T14:48:11.245670Z",
     "shell.execute_reply": "2022-02-26T14:48:11.246174Z",
     "shell.execute_reply.started": "2022-02-26T13:20:02.308941Z"
    },
    "papermill": {
     "duration": 0.051335,
     "end_time": "2022-02-26T14:48:11.246339",
     "exception": false,
     "start_time": "2022-02-26T14:48:11.195004",
     "status": "completed"
    },
    "tags": []
   },
   "outputs": [],
   "source": [
    "data=pd.read_csv('../input/titanic/train.csv')"
   ]
  },
  {
   "cell_type": "code",
   "execution_count": 4,
   "id": "a3b590df",
   "metadata": {
    "execution": {
     "iopub.execute_input": "2022-02-26T14:48:11.324232Z",
     "iopub.status.busy": "2022-02-26T14:48:11.323616Z",
     "iopub.status.idle": "2022-02-26T14:48:11.351509Z",
     "shell.execute_reply": "2022-02-26T14:48:11.352103Z",
     "shell.execute_reply.started": "2022-02-26T13:21:32.230276Z"
    },
    "papermill": {
     "duration": 0.071838,
     "end_time": "2022-02-26T14:48:11.352262",
     "exception": false,
     "start_time": "2022-02-26T14:48:11.280424",
     "status": "completed"
    },
    "tags": []
   },
   "outputs": [
    {
     "data": {
      "text/html": [
       "<div>\n",
       "<style scoped>\n",
       "    .dataframe tbody tr th:only-of-type {\n",
       "        vertical-align: middle;\n",
       "    }\n",
       "\n",
       "    .dataframe tbody tr th {\n",
       "        vertical-align: top;\n",
       "    }\n",
       "\n",
       "    .dataframe thead th {\n",
       "        text-align: right;\n",
       "    }\n",
       "</style>\n",
       "<table border=\"1\" class=\"dataframe\">\n",
       "  <thead>\n",
       "    <tr style=\"text-align: right;\">\n",
       "      <th></th>\n",
       "      <th>PassengerId</th>\n",
       "      <th>Survived</th>\n",
       "      <th>Pclass</th>\n",
       "      <th>Name</th>\n",
       "      <th>Sex</th>\n",
       "      <th>Age</th>\n",
       "      <th>SibSp</th>\n",
       "      <th>Parch</th>\n",
       "      <th>Ticket</th>\n",
       "      <th>Fare</th>\n",
       "      <th>Cabin</th>\n",
       "      <th>Embarked</th>\n",
       "    </tr>\n",
       "  </thead>\n",
       "  <tbody>\n",
       "    <tr>\n",
       "      <th>0</th>\n",
       "      <td>1</td>\n",
       "      <td>0</td>\n",
       "      <td>3</td>\n",
       "      <td>Braund, Mr. Owen Harris</td>\n",
       "      <td>male</td>\n",
       "      <td>22.0</td>\n",
       "      <td>1</td>\n",
       "      <td>0</td>\n",
       "      <td>A/5 21171</td>\n",
       "      <td>7.2500</td>\n",
       "      <td>NaN</td>\n",
       "      <td>S</td>\n",
       "    </tr>\n",
       "    <tr>\n",
       "      <th>1</th>\n",
       "      <td>2</td>\n",
       "      <td>1</td>\n",
       "      <td>1</td>\n",
       "      <td>Cumings, Mrs. John Bradley (Florence Briggs Th...</td>\n",
       "      <td>female</td>\n",
       "      <td>38.0</td>\n",
       "      <td>1</td>\n",
       "      <td>0</td>\n",
       "      <td>PC 17599</td>\n",
       "      <td>71.2833</td>\n",
       "      <td>C85</td>\n",
       "      <td>C</td>\n",
       "    </tr>\n",
       "    <tr>\n",
       "      <th>2</th>\n",
       "      <td>3</td>\n",
       "      <td>1</td>\n",
       "      <td>3</td>\n",
       "      <td>Heikkinen, Miss. Laina</td>\n",
       "      <td>female</td>\n",
       "      <td>26.0</td>\n",
       "      <td>0</td>\n",
       "      <td>0</td>\n",
       "      <td>STON/O2. 3101282</td>\n",
       "      <td>7.9250</td>\n",
       "      <td>NaN</td>\n",
       "      <td>S</td>\n",
       "    </tr>\n",
       "    <tr>\n",
       "      <th>3</th>\n",
       "      <td>4</td>\n",
       "      <td>1</td>\n",
       "      <td>1</td>\n",
       "      <td>Futrelle, Mrs. Jacques Heath (Lily May Peel)</td>\n",
       "      <td>female</td>\n",
       "      <td>35.0</td>\n",
       "      <td>1</td>\n",
       "      <td>0</td>\n",
       "      <td>113803</td>\n",
       "      <td>53.1000</td>\n",
       "      <td>C123</td>\n",
       "      <td>S</td>\n",
       "    </tr>\n",
       "    <tr>\n",
       "      <th>4</th>\n",
       "      <td>5</td>\n",
       "      <td>0</td>\n",
       "      <td>3</td>\n",
       "      <td>Allen, Mr. William Henry</td>\n",
       "      <td>male</td>\n",
       "      <td>35.0</td>\n",
       "      <td>0</td>\n",
       "      <td>0</td>\n",
       "      <td>373450</td>\n",
       "      <td>8.0500</td>\n",
       "      <td>NaN</td>\n",
       "      <td>S</td>\n",
       "    </tr>\n",
       "  </tbody>\n",
       "</table>\n",
       "</div>"
      ],
      "text/plain": [
       "   PassengerId  Survived  Pclass  \\\n",
       "0            1         0       3   \n",
       "1            2         1       1   \n",
       "2            3         1       3   \n",
       "3            4         1       1   \n",
       "4            5         0       3   \n",
       "\n",
       "                                                Name     Sex   Age  SibSp  \\\n",
       "0                            Braund, Mr. Owen Harris    male  22.0      1   \n",
       "1  Cumings, Mrs. John Bradley (Florence Briggs Th...  female  38.0      1   \n",
       "2                             Heikkinen, Miss. Laina  female  26.0      0   \n",
       "3       Futrelle, Mrs. Jacques Heath (Lily May Peel)  female  35.0      1   \n",
       "4                           Allen, Mr. William Henry    male  35.0      0   \n",
       "\n",
       "   Parch            Ticket     Fare Cabin Embarked  \n",
       "0      0         A/5 21171   7.2500   NaN        S  \n",
       "1      0          PC 17599  71.2833   C85        C  \n",
       "2      0  STON/O2. 3101282   7.9250   NaN        S  \n",
       "3      0            113803  53.1000  C123        S  \n",
       "4      0            373450   8.0500   NaN        S  "
      ]
     },
     "execution_count": 4,
     "metadata": {},
     "output_type": "execute_result"
    }
   ],
   "source": [
    "data.head()\n"
   ]
  },
  {
   "cell_type": "code",
   "execution_count": 5,
   "id": "8d9e34fe",
   "metadata": {
    "execution": {
     "iopub.execute_input": "2022-02-26T14:48:11.425243Z",
     "iopub.status.busy": "2022-02-26T14:48:11.424679Z",
     "iopub.status.idle": "2022-02-26T14:48:11.431205Z",
     "shell.execute_reply": "2022-02-26T14:48:11.431724Z",
     "shell.execute_reply.started": "2022-02-26T13:21:55.817349Z"
    },
    "papermill": {
     "duration": 0.042844,
     "end_time": "2022-02-26T14:48:11.431893",
     "exception": false,
     "start_time": "2022-02-26T14:48:11.389049",
     "status": "completed"
    },
    "tags": []
   },
   "outputs": [
    {
     "data": {
      "text/plain": [
       "PassengerId      0\n",
       "Survived         0\n",
       "Pclass           0\n",
       "Name             0\n",
       "Sex              0\n",
       "Age            177\n",
       "SibSp            0\n",
       "Parch            0\n",
       "Ticket           0\n",
       "Fare             0\n",
       "Cabin          687\n",
       "Embarked         2\n",
       "dtype: int64"
      ]
     },
     "execution_count": 5,
     "metadata": {},
     "output_type": "execute_result"
    }
   ],
   "source": [
    "data.isnull().sum() #checking for total null values\n"
   ]
  },
  {
   "cell_type": "code",
   "execution_count": 6,
   "id": "1701e93d",
   "metadata": {
    "execution": {
     "iopub.execute_input": "2022-02-26T14:48:11.502912Z",
     "iopub.status.busy": "2022-02-26T14:48:11.502311Z",
     "iopub.status.idle": "2022-02-26T14:48:11.828819Z",
     "shell.execute_reply": "2022-02-26T14:48:11.828348Z",
     "shell.execute_reply.started": "2022-02-26T13:24:26.915235Z"
    },
    "papermill": {
     "duration": 0.36297,
     "end_time": "2022-02-26T14:48:11.829017",
     "exception": false,
     "start_time": "2022-02-26T14:48:11.466047",
     "status": "completed"
    },
    "tags": []
   },
   "outputs": [
    {
     "data": {
      "image/png": "[encoded data removed]",
      "text/plain": [
       "<Figure size 1296x576 with 2 Axes>"
      ]
     },
     "metadata": {
      "needs_background": "light"
     },
     "output_type": "display_data"
    }
   ],
   "source": [
    "f,ax=plt.subplots(1,2,figsize=(18,8))\n",
    "data['Survived'].value_counts().plot.pie(explode=[0,0.1],autopct='%1.1f%%',ax=ax[0],shadow=True)\n",
    "ax[0].set_title('Survived')\n",
    "ax[0].set_ylabel('')\n",
    "sns.countplot('Survived',data=data,ax=ax[1])\n",
    "ax[1].set_title('Survived')\n",
    "plt.show()"
   ]
  },
  {
   "cell_type": "markdown",
   "id": "1cd4e559",
   "metadata": {
    "papermill": {
     "duration": 0.035147,
     "end_time": "2022-02-26T14:48:11.899599",
     "exception": false,
     "start_time": "2022-02-26T14:48:11.864452",
     "status": "completed"
    },
    "tags": []
   },
   "source": [
    "## Sex-> Categorical Feature"
   ]
  },
  {
   "cell_type": "code",
   "execution_count": 7,
   "id": "5d6b50e9",
   "metadata": {
    "execution": {
     "iopub.execute_input": "2022-02-26T14:48:11.973148Z",
     "iopub.status.busy": "2022-02-26T14:48:11.972500Z",
     "iopub.status.idle": "2022-02-26T14:48:11.980659Z",
     "shell.execute_reply": "2022-02-26T14:48:11.981263Z",
     "shell.execute_reply.started": "2022-02-26T13:35:22.942452Z"
    },
    "papermill": {
     "duration": 0.046358,
     "end_time": "2022-02-26T14:48:11.981423",
     "exception": false,
     "start_time": "2022-02-26T14:48:11.935065",
     "status": "completed"
    },
    "tags": []
   },
   "outputs": [
    {
     "data": {
      "text/plain": [
       "Sex     Survived\n",
       "female  0            81\n",
       "        1           233\n",
       "male    0           468\n",
       "        1           109\n",
       "Name: Survived, dtype: int64"
      ]
     },
     "execution_count": 7,
     "metadata": {},
     "output_type": "execute_result"
    }
   ],
   "source": [
    "data.groupby(['Sex','Survived'])['Survived'].count()\n"
   ]
  },
  {
   "cell_type": "code",
   "execution_count": 8,
   "id": "150b33fb",
   "metadata": {
    "execution": {
     "iopub.execute_input": "2022-02-26T14:48:12.056401Z",
     "iopub.status.busy": "2022-02-26T14:48:12.055416Z",
     "iopub.status.idle": "2022-02-26T14:48:12.382745Z",
     "shell.execute_reply": "2022-02-26T14:48:12.383630Z",
     "shell.execute_reply.started": "2022-02-26T13:38:31.128296Z"
    },
    "papermill": {
     "duration": 0.367371,
     "end_time": "2022-02-26T14:48:12.383912",
     "exception": false,
     "start_time": "2022-02-26T14:48:12.016541",
     "status": "completed"
    },
    "tags": []
   },
   "outputs": [
    {
     "data": {
      "image/png": "[encoded data removed]",
      "text/plain": [
       "<Figure size 1296x576 with 2 Axes>"
      ]
     },
     "metadata": {
      "needs_background": "light"
     },
     "output_type": "display_data"
    }
   ],
   "source": [
    "f,ax=plt.subplots(1,2,figsize=(18,8))\n",
    "data[['Sex','Survived']].groupby(['Sex']).mean().plot.bar(ax=ax[0])\n",
    "ax[0].set_title('Survived vs Sex')\n",
    "sns.countplot('Sex',hue='Survived',data=data,ax=ax[1])\n",
    "ax[1].set_title('Sex:Survived vs Dead')\n",
    "plt.show()"
   ]
  },
  {
   "cell_type": "markdown",
   "id": "7cad9319",
   "metadata": {
    "papermill": {
     "duration": 0.036178,
     "end_time": "2022-02-26T14:48:12.462599",
     "exception": false,
     "start_time": "2022-02-26T14:48:12.426421",
     "status": "completed"
    },
    "tags": []
   },
   "source": [
    "## Pclass --> Ordinal Feature"
   ]
  },
  {
   "cell_type": "code",
   "execution_count": 9,
   "id": "fcf85210",
   "metadata": {
    "execution": {
     "iopub.execute_input": "2022-02-26T14:48:12.539754Z",
     "iopub.status.busy": "2022-02-26T14:48:12.539188Z",
     "iopub.status.idle": "2022-02-26T14:48:12.635966Z",
     "shell.execute_reply": "2022-02-26T14:48:12.636404Z",
     "shell.execute_reply.started": "2022-02-26T13:50:12.02059Z"
    },
    "papermill": {
     "duration": 0.137321,
     "end_time": "2022-02-26T14:48:12.636585",
     "exception": false,
     "start_time": "2022-02-26T14:48:12.499264",
     "status": "completed"
    },
    "tags": []
   },
   "outputs": [
    {
     "data": {
      "text/html": [
       "<style type=\"text/css\">\n",
       "#T_a4d61_row0_col0, #T_a4d61_row1_col1, #T_a4d61_row1_col2 {\n",
       "  background-color: #ffff66;\n",
       "  color: #000000;\n",
       "}\n",
       "#T_a4d61_row0_col1 {\n",
       "  background-color: #cee666;\n",
       "  color: #000000;\n",
       "}\n",
       "#T_a4d61_row0_col2 {\n",
       "  background-color: #f4fa66;\n",
       "  color: #000000;\n",
       "}\n",
       "#T_a4d61_row1_col0 {\n",
       "  background-color: #f6fa66;\n",
       "  color: #000000;\n",
       "}\n",
       "#T_a4d61_row2_col0 {\n",
       "  background-color: #60b066;\n",
       "  color: #f1f1f1;\n",
       "}\n",
       "#T_a4d61_row2_col1 {\n",
       "  background-color: #dfef66;\n",
       "  color: #000000;\n",
       "}\n",
       "#T_a4d61_row2_col2 {\n",
       "  background-color: #90c866;\n",
       "  color: #000000;\n",
       "}\n",
       "#T_a4d61_row3_col0, #T_a4d61_row3_col1, #T_a4d61_row3_col2 {\n",
       "  background-color: #008066;\n",
       "  color: #f1f1f1;\n",
       "}\n",
       "</style>\n",
       "<table id=\"T_a4d61_\">\n",
       "  <thead>\n",
       "    <tr>\n",
       "      <th class=\"index_name level0\" >Survived</th>\n",
       "      <th class=\"col_heading level0 col0\" >0</th>\n",
       "      <th class=\"col_heading level0 col1\" >1</th>\n",
       "      <th class=\"col_heading level0 col2\" >All</th>\n",
       "    </tr>\n",
       "    <tr>\n",
       "      <th class=\"index_name level0\" >Pclass</th>\n",
       "      <th class=\"blank col0\" >&nbsp;</th>\n",
       "      <th class=\"blank col1\" >&nbsp;</th>\n",
       "      <th class=\"blank col2\" >&nbsp;</th>\n",
       "    </tr>\n",
       "  </thead>\n",
       "  <tbody>\n",
       "    <tr>\n",
       "      <th id=\"T_a4d61_level0_row0\" class=\"row_heading level0 row0\" >1</th>\n",
       "      <td id=\"T_a4d61_row0_col0\" class=\"data row0 col0\" >80</td>\n",
       "      <td id=\"T_a4d61_row0_col1\" class=\"data row0 col1\" >136</td>\n",
       "      <td id=\"T_a4d61_row0_col2\" class=\"data row0 col2\" >216</td>\n",
       "    </tr>\n",
       "    <tr>\n",
       "      <th id=\"T_a4d61_level0_row1\" class=\"row_heading level0 row1\" >2</th>\n",
       "      <td id=\"T_a4d61_row1_col0\" class=\"data row1 col0\" >97</td>\n",
       "      <td id=\"T_a4d61_row1_col1\" class=\"data row1 col1\" >87</td>\n",
       "      <td id=\"T_a4d61_row1_col2\" class=\"data row1 col2\" >184</td>\n",
       "    </tr>\n",
       "    <tr>\n",
       "      <th id=\"T_a4d61_level0_row2\" class=\"row_heading level0 row2\" >3</th>\n",
       "      <td id=\"T_a4d61_row2_col0\" class=\"data row2 col0\" >372</td>\n",
       "      <td id=\"T_a4d61_row2_col1\" class=\"data row2 col1\" >119</td>\n",
       "      <td id=\"T_a4d61_row2_col2\" class=\"data row2 col2\" >491</td>\n",
       "    </tr>\n",
       "    <tr>\n",
       "      <th id=\"T_a4d61_level0_row3\" class=\"row_heading level0 row3\" >All</th>\n",
       "      <td id=\"T_a4d61_row3_col0\" class=\"data row3 col0\" >549</td>\n",
       "      <td id=\"T_a4d61_row3_col1\" class=\"data row3 col1\" >342</td>\n",
       "      <td id=\"T_a4d61_row3_col2\" class=\"data row3 col2\" >891</td>\n",
       "    </tr>\n",
       "  </tbody>\n",
       "</table>\n"
      ],
      "text/plain": [
       "<pandas.io.formats.style.Styler at 0x7f292e348890>"
      ]
     },
     "execution_count": 9,
     "metadata": {},
     "output_type": "execute_result"
    }
   ],
   "source": [
    "pd.crosstab(data.Pclass,data.Survived,margins=True).style.background_gradient(cmap='summer_r')"
   ]
  },
  {
   "cell_type": "code",
   "execution_count": 10,
   "id": "7ff018a5",
   "metadata": {
    "execution": {
     "iopub.execute_input": "2022-02-26T14:48:12.724729Z",
     "iopub.status.busy": "2022-02-26T14:48:12.723732Z",
     "iopub.status.idle": "2022-02-26T14:48:13.027547Z",
     "shell.execute_reply": "2022-02-26T14:48:13.028045Z",
     "shell.execute_reply.started": "2022-02-26T13:51:05.748065Z"
    },
    "papermill": {
     "duration": 0.354362,
     "end_time": "2022-02-26T14:48:13.028220",
     "exception": false,
     "start_time": "2022-02-26T14:48:12.673858",
     "status": "completed"
    },
    "tags": []
   },
   "outputs": [
    {
     "data": {
      "image/png": "[encoded data removed]",
      "text/plain": [
       "<Figure size 1296x576 with 2 Axes>"
      ]
     },
     "metadata": {
      "needs_background": "light"
     },
     "output_type": "display_data"
    }
   ],
   "source": [
    "f,ax=plt.subplots(1,2,figsize=(18,8))\n",
    "data['Pclass'].value_counts().plot.bar(color=['#CD7F32','#FFDF00','#D3D3D3'],ax=ax[0])\n",
    "ax[0].set_title('Number Of Passengers By Pclass')\n",
    "ax[0].set_ylabel('Count')\n",
    "sns.countplot('Pclass',hue='Survived',data=data,ax=ax[1])\n",
    "ax[1].set_title('Pclass:Survived vs Dead')\n",
    "plt.show()"
   ]
  },
  {
   "cell_type": "code",
   "execution_count": 11,
   "id": "5ddf3dd7",
   "metadata": {
    "execution": {
     "iopub.execute_input": "2022-02-26T14:48:13.110503Z",
     "iopub.status.busy": "2022-02-26T14:48:13.109798Z",
     "iopub.status.idle": "2022-02-26T14:48:13.152379Z",
     "shell.execute_reply": "2022-02-26T14:48:13.151859Z",
     "shell.execute_reply.started": "2022-02-26T13:53:48.164957Z"
    },
    "papermill": {
     "duration": 0.086092,
     "end_time": "2022-02-26T14:48:13.152511",
     "exception": false,
     "start_time": "2022-02-26T14:48:13.066419",
     "status": "completed"
    },
    "tags": []
   },
   "outputs": [
    {
     "data": {
      "text/html": [
       "<style type=\"text/css\">\n",
       "#T_8188b_row0_col0, #T_8188b_row0_col1, #T_8188b_row0_col3, #T_8188b_row3_col2 {\n",
       "  background-color: #ffff66;\n",
       "  color: #000000;\n",
       "}\n",
       "#T_8188b_row0_col2, #T_8188b_row1_col2 {\n",
       "  background-color: #f1f866;\n",
       "  color: #000000;\n",
       "}\n",
       "#T_8188b_row1_col0 {\n",
       "  background-color: #96cb66;\n",
       "  color: #000000;\n",
       "}\n",
       "#T_8188b_row1_col1 {\n",
       "  background-color: #a3d166;\n",
       "  color: #000000;\n",
       "}\n",
       "#T_8188b_row1_col3 {\n",
       "  background-color: #cfe766;\n",
       "  color: #000000;\n",
       "}\n",
       "#T_8188b_row2_col0 {\n",
       "  background-color: #a7d366;\n",
       "  color: #000000;\n",
       "}\n",
       "#T_8188b_row2_col1, #T_8188b_row2_col3 {\n",
       "  background-color: #85c266;\n",
       "  color: #000000;\n",
       "}\n",
       "#T_8188b_row2_col2 {\n",
       "  background-color: #6eb666;\n",
       "  color: #f1f1f1;\n",
       "}\n",
       "#T_8188b_row3_col0 {\n",
       "  background-color: #cde666;\n",
       "  color: #000000;\n",
       "}\n",
       "#T_8188b_row3_col1 {\n",
       "  background-color: #f0f866;\n",
       "  color: #000000;\n",
       "}\n",
       "#T_8188b_row3_col3 {\n",
       "  background-color: #f7fb66;\n",
       "  color: #000000;\n",
       "}\n",
       "#T_8188b_row4_col0, #T_8188b_row4_col1, #T_8188b_row4_col2, #T_8188b_row4_col3 {\n",
       "  background-color: #008066;\n",
       "  color: #f1f1f1;\n",
       "}\n",
       "</style>\n",
       "<table id=\"T_8188b_\">\n",
       "  <thead>\n",
       "    <tr>\n",
       "      <th class=\"blank\" >&nbsp;</th>\n",
       "      <th class=\"index_name level0\" >Pclass</th>\n",
       "      <th class=\"col_heading level0 col0\" >1</th>\n",
       "      <th class=\"col_heading level0 col1\" >2</th>\n",
       "      <th class=\"col_heading level0 col2\" >3</th>\n",
       "      <th class=\"col_heading level0 col3\" >All</th>\n",
       "    </tr>\n",
       "    <tr>\n",
       "      <th class=\"index_name level0\" >Sex</th>\n",
       "      <th class=\"index_name level1\" >Survived</th>\n",
       "      <th class=\"blank col0\" >&nbsp;</th>\n",
       "      <th class=\"blank col1\" >&nbsp;</th>\n",
       "      <th class=\"blank col2\" >&nbsp;</th>\n",
       "      <th class=\"blank col3\" >&nbsp;</th>\n",
       "    </tr>\n",
       "  </thead>\n",
       "  <tbody>\n",
       "    <tr>\n",
       "      <th id=\"T_8188b_level0_row0\" class=\"row_heading level0 row0\" rowspan=\"2\">female</th>\n",
       "      <th id=\"T_8188b_level1_row0\" class=\"row_heading level1 row0\" >0</th>\n",
       "      <td id=\"T_8188b_row0_col0\" class=\"data row0 col0\" >3</td>\n",
       "      <td id=\"T_8188b_row0_col1\" class=\"data row0 col1\" >6</td>\n",
       "      <td id=\"T_8188b_row0_col2\" class=\"data row0 col2\" >72</td>\n",
       "      <td id=\"T_8188b_row0_col3\" class=\"data row0 col3\" >81</td>\n",
       "    </tr>\n",
       "    <tr>\n",
       "      <th id=\"T_8188b_level1_row1\" class=\"row_heading level1 row1\" >1</th>\n",
       "      <td id=\"T_8188b_row1_col0\" class=\"data row1 col0\" >91</td>\n",
       "      <td id=\"T_8188b_row1_col1\" class=\"data row1 col1\" >70</td>\n",
       "      <td id=\"T_8188b_row1_col2\" class=\"data row1 col2\" >72</td>\n",
       "      <td id=\"T_8188b_row1_col3\" class=\"data row1 col3\" >233</td>\n",
       "    </tr>\n",
       "    <tr>\n",
       "      <th id=\"T_8188b_level0_row2\" class=\"row_heading level0 row2\" rowspan=\"2\">male</th>\n",
       "      <th id=\"T_8188b_level1_row2\" class=\"row_heading level1 row2\" >0</th>\n",
       "      <td id=\"T_8188b_row2_col0\" class=\"data row2 col0\" >77</td>\n",
       "      <td id=\"T_8188b_row2_col1\" class=\"data row2 col1\" >91</td>\n",
       "      <td id=\"T_8188b_row2_col2\" class=\"data row2 col2\" >300</td>\n",
       "      <td id=\"T_8188b_row2_col3\" class=\"data row2 col3\" >468</td>\n",
       "    </tr>\n",
       "    <tr>\n",
       "      <th id=\"T_8188b_level1_row3\" class=\"row_heading level1 row3\" >1</th>\n",
       "      <td id=\"T_8188b_row3_col0\" class=\"data row3 col0\" >45</td>\n",
       "      <td id=\"T_8188b_row3_col1\" class=\"data row3 col1\" >17</td>\n",
       "      <td id=\"T_8188b_row3_col2\" class=\"data row3 col2\" >47</td>\n",
       "      <td id=\"T_8188b_row3_col3\" class=\"data row3 col3\" >109</td>\n",
       "    </tr>\n",
       "    <tr>\n",
       "      <th id=\"T_8188b_level0_row4\" class=\"row_heading level0 row4\" >All</th>\n",
       "      <th id=\"T_8188b_level1_row4\" class=\"row_heading level1 row4\" ></th>\n",
       "      <td id=\"T_8188b_row4_col0\" class=\"data row4 col0\" >216</td>\n",
       "      <td id=\"T_8188b_row4_col1\" class=\"data row4 col1\" >184</td>\n",
       "      <td id=\"T_8188b_row4_col2\" class=\"data row4 col2\" >491</td>\n",
       "      <td id=\"T_8188b_row4_col3\" class=\"data row4 col3\" >891</td>\n",
       "    </tr>\n",
       "  </tbody>\n",
       "</table>\n"
      ],
      "text/plain": [
       "<pandas.io.formats.style.Styler at 0x7f292e306550>"
      ]
     },
     "execution_count": 11,
     "metadata": {},
     "output_type": "execute_result"
    }
   ],
   "source": [
    "pd.crosstab([data.Sex,data.Survived],data.Pclass,margins=True).style.background_gradient(cmap='summer_r')"
   ]
  },
  {
   "cell_type": "code",
   "execution_count": 12,
   "id": "f5f91d3c",
   "metadata": {
    "execution": {
     "iopub.execute_input": "2022-02-26T14:48:13.233241Z",
     "iopub.status.busy": "2022-02-26T14:48:13.232630Z",
     "iopub.status.idle": "2022-02-26T14:48:13.740385Z",
     "shell.execute_reply": "2022-02-26T14:48:13.739752Z",
     "shell.execute_reply.started": "2022-02-26T13:55:40.642533Z"
    },
    "papermill": {
     "duration": 0.549282,
     "end_time": "2022-02-26T14:48:13.740519",
     "exception": false,
     "start_time": "2022-02-26T14:48:13.191237",
     "status": "completed"
    },
    "tags": []
   },
   "outputs": [
    {
     "data": {
      "image/png": "[encoded data removed]",
      "text/plain": [
       "<Figure size 430.5x360 with 1 Axes>"
      ]
     },
     "metadata": {
      "needs_background": "light"
     },
     "output_type": "display_data"
    }
   ],
   "source": [
    "sns.factorplot('Pclass','Survived',hue='Sex',data=data)\n",
    "plt.show()"
   ]
  },
  {
   "cell_type": "markdown",
   "id": "cef8e372",
   "metadata": {
    "papermill": {
     "duration": 0.03908,
     "end_time": "2022-02-26T14:48:13.818804",
     "exception": false,
     "start_time": "2022-02-26T14:48:13.779724",
     "status": "completed"
    },
    "tags": []
   },
   "source": [
    "## Age--> Continous Feature"
   ]
  },
  {
   "cell_type": "code",
   "execution_count": 13,
   "id": "0ddeba4c",
   "metadata": {
    "execution": {
     "iopub.execute_input": "2022-02-26T14:48:13.903796Z",
     "iopub.status.busy": "2022-02-26T14:48:13.903217Z",
     "iopub.status.idle": "2022-02-26T14:48:13.907539Z",
     "shell.execute_reply": "2022-02-26T14:48:13.907069Z",
     "shell.execute_reply.started": "2022-02-26T13:59:18.754937Z"
    },
    "papermill": {
     "duration": 0.049519,
     "end_time": "2022-02-26T14:48:13.907668",
     "exception": false,
     "start_time": "2022-02-26T14:48:13.858149",
     "status": "completed"
    },
    "tags": []
   },
   "outputs": [
    {
     "name": "stdout",
     "output_type": "stream",
     "text": [
      "Oldest Passenger was of: 80.0 Years\n",
      "Youngest Passenger was of: 0.42 Years\n",
      "Average Age on the ship: 29.69911764705882 Years\n"
     ]
    }
   ],
   "source": [
    "print('Oldest Passenger was of:',data['Age'].max(),'Years')\n",
    "print('Youngest Passenger was of:',data['Age'].min(),'Years')\n",
    "print('Average Age on the ship:',data['Age'].mean(),'Years')"
   ]
  },
  {
   "cell_type": "code",
   "execution_count": 14,
   "id": "6568c9a6",
   "metadata": {
    "execution": {
     "iopub.execute_input": "2022-02-26T14:48:14.006573Z",
     "iopub.status.busy": "2022-02-26T14:48:13.994161Z",
     "iopub.status.idle": "2022-02-26T14:48:14.480274Z",
     "shell.execute_reply": "2022-02-26T14:48:14.480720Z",
     "shell.execute_reply.started": "2022-02-26T13:59:40.031442Z"
    },
    "papermill": {
     "duration": 0.533734,
     "end_time": "2022-02-26T14:48:14.480890",
     "exception": false,
     "start_time": "2022-02-26T14:48:13.947156",
     "status": "completed"
    },
    "tags": []
   },
   "outputs": [
    {
     "data": {
      "image/png": "[encoded data removed]",
      "text/plain": [
       "<Figure size 1296x576 with 2 Axes>"
      ]
     },
     "metadata": {
      "needs_background": "light"
     },
     "output_type": "display_data"
    }
   ],
   "source": [
    "f,ax=plt.subplots(1,2,figsize=(18,8))\n",
    "sns.violinplot(\"Pclass\",\"Age\", hue=\"Survived\", data=data,split=True,ax=ax[0])\n",
    "ax[0].set_title('Pclass and Age vs Survived')\n",
    "ax[0].set_yticks(range(0,110,10))\n",
    "sns.violinplot(\"Sex\",\"Age\", hue=\"Survived\", data=data,split=True,ax=ax[1])\n",
    "ax[1].set_title('Sex and Age vs Survived')\n",
    "ax[1].set_yticks(range(0,110,10))\n",
    "plt.show()"
   ]
  },
  {
   "cell_type": "code",
   "execution_count": 15,
   "id": "86571203",
   "metadata": {
    "execution": {
     "iopub.execute_input": "2022-02-26T14:48:14.569330Z",
     "iopub.status.busy": "2022-02-26T14:48:14.568731Z",
     "iopub.status.idle": "2022-02-26T14:48:14.602036Z",
     "shell.execute_reply": "2022-02-26T14:48:14.602522Z",
     "shell.execute_reply.started": "2022-02-26T14:04:25.112321Z"
    },
    "papermill": {
     "duration": 0.080031,
     "end_time": "2022-02-26T14:48:14.602684",
     "exception": false,
     "start_time": "2022-02-26T14:48:14.522653",
     "status": "completed"
    },
    "tags": []
   },
   "outputs": [],
   "source": [
    "data['Initial']=0\n",
    "for i in data:\n",
    "    data['Initial']=data.Name.str.extract('([A-Za-z]+)\\.') #lets extract the Salutations"
   ]
  },
  {
   "cell_type": "code",
   "execution_count": 16,
   "id": "aa32f130",
   "metadata": {
    "execution": {
     "iopub.execute_input": "2022-02-26T14:48:14.691007Z",
     "iopub.status.busy": "2022-02-26T14:48:14.688458Z",
     "iopub.status.idle": "2022-02-26T14:48:14.729766Z",
     "shell.execute_reply": "2022-02-26T14:48:14.730341Z",
     "shell.execute_reply.started": "2022-02-26T14:04:37.322579Z"
    },
    "papermill": {
     "duration": 0.086282,
     "end_time": "2022-02-26T14:48:14.730502",
     "exception": false,
     "start_time": "2022-02-26T14:48:14.644220",
     "status": "completed"
    },
    "tags": []
   },
   "outputs": [
    {
     "data": {
      "text/html": [
       "<style type=\"text/css\">\n",
       "#T_4294c_row0_col0, #T_4294c_row0_col1, #T_4294c_row0_col3, #T_4294c_row0_col4, #T_4294c_row0_col5, #T_4294c_row0_col7, #T_4294c_row0_col8, #T_4294c_row0_col12, #T_4294c_row0_col15, #T_4294c_row0_col16, #T_4294c_row1_col2, #T_4294c_row1_col6, #T_4294c_row1_col9, #T_4294c_row1_col10, #T_4294c_row1_col11, #T_4294c_row1_col13, #T_4294c_row1_col14 {\n",
       "  background-color: #ffff66;\n",
       "  color: #000000;\n",
       "}\n",
       "#T_4294c_row0_col2, #T_4294c_row0_col6, #T_4294c_row0_col9, #T_4294c_row0_col10, #T_4294c_row0_col11, #T_4294c_row0_col13, #T_4294c_row0_col14, #T_4294c_row1_col0, #T_4294c_row1_col1, #T_4294c_row1_col3, #T_4294c_row1_col4, #T_4294c_row1_col5, #T_4294c_row1_col7, #T_4294c_row1_col8, #T_4294c_row1_col12, #T_4294c_row1_col15, #T_4294c_row1_col16 {\n",
       "  background-color: #008066;\n",
       "  color: #f1f1f1;\n",
       "}\n",
       "</style>\n",
       "<table id=\"T_4294c_\">\n",
       "  <thead>\n",
       "    <tr>\n",
       "      <th class=\"index_name level0\" >Initial</th>\n",
       "      <th class=\"col_heading level0 col0\" >Capt</th>\n",
       "      <th class=\"col_heading level0 col1\" >Col</th>\n",
       "      <th class=\"col_heading level0 col2\" >Countess</th>\n",
       "      <th class=\"col_heading level0 col3\" >Don</th>\n",
       "      <th class=\"col_heading level0 col4\" >Dr</th>\n",
       "      <th class=\"col_heading level0 col5\" >Jonkheer</th>\n",
       "      <th class=\"col_heading level0 col6\" >Lady</th>\n",
       "      <th class=\"col_heading level0 col7\" >Major</th>\n",
       "      <th class=\"col_heading level0 col8\" >Master</th>\n",
       "      <th class=\"col_heading level0 col9\" >Miss</th>\n",
       "      <th class=\"col_heading level0 col10\" >Mlle</th>\n",
       "      <th class=\"col_heading level0 col11\" >Mme</th>\n",
       "      <th class=\"col_heading level0 col12\" >Mr</th>\n",
       "      <th class=\"col_heading level0 col13\" >Mrs</th>\n",
       "      <th class=\"col_heading level0 col14\" >Ms</th>\n",
       "      <th class=\"col_heading level0 col15\" >Rev</th>\n",
       "      <th class=\"col_heading level0 col16\" >Sir</th>\n",
       "    </tr>\n",
       "    <tr>\n",
       "      <th class=\"index_name level0\" >Sex</th>\n",
       "      <th class=\"blank col0\" >&nbsp;</th>\n",
       "      <th class=\"blank col1\" >&nbsp;</th>\n",
       "      <th class=\"blank col2\" >&nbsp;</th>\n",
       "      <th class=\"blank col3\" >&nbsp;</th>\n",
       "      <th class=\"blank col4\" >&nbsp;</th>\n",
       "      <th class=\"blank col5\" >&nbsp;</th>\n",
       "      <th class=\"blank col6\" >&nbsp;</th>\n",
       "      <th class=\"blank col7\" >&nbsp;</th>\n",
       "      <th class=\"blank col8\" >&nbsp;</th>\n",
       "      <th class=\"blank col9\" >&nbsp;</th>\n",
       "      <th class=\"blank col10\" >&nbsp;</th>\n",
       "      <th class=\"blank col11\" >&nbsp;</th>\n",
       "      <th class=\"blank col12\" >&nbsp;</th>\n",
       "      <th class=\"blank col13\" >&nbsp;</th>\n",
       "      <th class=\"blank col14\" >&nbsp;</th>\n",
       "      <th class=\"blank col15\" >&nbsp;</th>\n",
       "      <th class=\"blank col16\" >&nbsp;</th>\n",
       "    </tr>\n",
       "  </thead>\n",
       "  <tbody>\n",
       "    <tr>\n",
       "      <th id=\"T_4294c_level0_row0\" class=\"row_heading level0 row0\" >female</th>\n",
       "      <td id=\"T_4294c_row0_col0\" class=\"data row0 col0\" >0</td>\n",
       "      <td id=\"T_4294c_row0_col1\" class=\"data row0 col1\" >0</td>\n",
       "      <td id=\"T_4294c_row0_col2\" class=\"data row0 col2\" >1</td>\n",
       "      <td id=\"T_4294c_row0_col3\" class=\"data row0 col3\" >0</td>\n",
       "      <td id=\"T_4294c_row0_col4\" class=\"data row0 col4\" >1</td>\n",
       "      <td id=\"T_4294c_row0_col5\" class=\"data row0 col5\" >0</td>\n",
       "      <td id=\"T_4294c_row0_col6\" class=\"data row0 col6\" >1</td>\n",
       "      <td id=\"T_4294c_row0_col7\" class=\"data row0 col7\" >0</td>\n",
       "      <td id=\"T_4294c_row0_col8\" class=\"data row0 col8\" >0</td>\n",
       "      <td id=\"T_4294c_row0_col9\" class=\"data row0 col9\" >182</td>\n",
       "      <td id=\"T_4294c_row0_col10\" class=\"data row0 col10\" >2</td>\n",
       "      <td id=\"T_4294c_row0_col11\" class=\"data row0 col11\" >1</td>\n",
       "      <td id=\"T_4294c_row0_col12\" class=\"data row0 col12\" >0</td>\n",
       "      <td id=\"T_4294c_row0_col13\" class=\"data row0 col13\" >125</td>\n",
       "      <td id=\"T_4294c_row0_col14\" class=\"data row0 col14\" >1</td>\n",
       "      <td id=\"T_4294c_row0_col15\" class=\"data row0 col15\" >0</td>\n",
       "      <td id=\"T_4294c_row0_col16\" class=\"data row0 col16\" >0</td>\n",
       "    </tr>\n",
       "    <tr>\n",
       "      <th id=\"T_4294c_level0_row1\" class=\"row_heading level0 row1\" >male</th>\n",
       "      <td id=\"T_4294c_row1_col0\" class=\"data row1 col0\" >1</td>\n",
       "      <td id=\"T_4294c_row1_col1\" class=\"data row1 col1\" >2</td>\n",
       "      <td id=\"T_4294c_row1_col2\" class=\"data row1 col2\" >0</td>\n",
       "      <td id=\"T_4294c_row1_col3\" class=\"data row1 col3\" >1</td>\n",
       "      <td id=\"T_4294c_row1_col4\" class=\"data row1 col4\" >6</td>\n",
       "      <td id=\"T_4294c_row1_col5\" class=\"data row1 col5\" >1</td>\n",
       "      <td id=\"T_4294c_row1_col6\" class=\"data row1 col6\" >0</td>\n",
       "      <td id=\"T_4294c_row1_col7\" class=\"data row1 col7\" >2</td>\n",
       "      <td id=\"T_4294c_row1_col8\" class=\"data row1 col8\" >40</td>\n",
       "      <td id=\"T_4294c_row1_col9\" class=\"data row1 col9\" >0</td>\n",
       "      <td id=\"T_4294c_row1_col10\" class=\"data row1 col10\" >0</td>\n",
       "      <td id=\"T_4294c_row1_col11\" class=\"data row1 col11\" >0</td>\n",
       "      <td id=\"T_4294c_row1_col12\" class=\"data row1 col12\" >517</td>\n",
       "      <td id=\"T_4294c_row1_col13\" class=\"data row1 col13\" >0</td>\n",
       "      <td id=\"T_4294c_row1_col14\" class=\"data row1 col14\" >0</td>\n",
       "      <td id=\"T_4294c_row1_col15\" class=\"data row1 col15\" >6</td>\n",
       "      <td id=\"T_4294c_row1_col16\" class=\"data row1 col16\" >1</td>\n",
       "    </tr>\n",
       "  </tbody>\n",
       "</table>\n"
      ],
      "text/plain": [
       "<pandas.io.formats.style.Styler at 0x7f2925ebe410>"
      ]
     },
     "execution_count": 16,
     "metadata": {},
     "output_type": "execute_result"
    }
   ],
   "source": [
    "pd.crosstab(data.Initial,data.Sex).T.style.background_gradient(cmap='summer_r') #Checking the Initials with the Sex"
   ]
  },
  {
   "cell_type": "code",
   "execution_count": 17,
   "id": "7d61bc8b",
   "metadata": {
    "execution": {
     "iopub.execute_input": "2022-02-26T14:48:14.819509Z",
     "iopub.status.busy": "2022-02-26T14:48:14.818579Z",
     "iopub.status.idle": "2022-02-26T14:48:14.824964Z",
     "shell.execute_reply": "2022-02-26T14:48:14.825375Z",
     "shell.execute_reply.started": "2022-02-26T14:04:43.984818Z"
    },
    "papermill": {
     "duration": 0.05254,
     "end_time": "2022-02-26T14:48:14.825535",
     "exception": false,
     "start_time": "2022-02-26T14:48:14.772995",
     "status": "completed"
    },
    "tags": []
   },
   "outputs": [],
   "source": [
    "data['Initial'].replace(['Mlle','Mme','Ms','Dr','Major','Lady','Countess','Jonkheer','Col','Rev','Capt','Sir','Don'],['Miss','Miss','Miss','Mr','Mr','Mrs','Mrs','Other','Other','Other','Mr','Mr','Mr'],inplace=True)"
   ]
  },
  {
   "cell_type": "code",
   "execution_count": 18,
   "id": "fc417884",
   "metadata": {
    "execution": {
     "iopub.execute_input": "2022-02-26T14:48:14.915568Z",
     "iopub.status.busy": "2022-02-26T14:48:14.914945Z",
     "iopub.status.idle": "2022-02-26T14:48:14.920360Z",
     "shell.execute_reply": "2022-02-26T14:48:14.920877Z",
     "shell.execute_reply.started": "2022-02-26T14:04:48.022187Z"
    },
    "papermill": {
     "duration": 0.05331,
     "end_time": "2022-02-26T14:48:14.921040",
     "exception": false,
     "start_time": "2022-02-26T14:48:14.867730",
     "status": "completed"
    },
    "tags": []
   },
   "outputs": [
    {
     "data": {
      "text/plain": [
       "Initial\n",
       "Master     4.574167\n",
       "Miss      21.860000\n",
       "Mr        32.739609\n",
       "Mrs       35.981818\n",
       "Other     45.888889\n",
       "Name: Age, dtype: float64"
      ]
     },
     "execution_count": 18,
     "metadata": {},
     "output_type": "execute_result"
    }
   ],
   "source": [
    "data.groupby('Initial')['Age'].mean() #lets check the average age by Initials"
   ]
  },
  {
   "cell_type": "code",
   "execution_count": 19,
   "id": "957d3e99",
   "metadata": {
    "execution": {
     "iopub.execute_input": "2022-02-26T14:48:15.011174Z",
     "iopub.status.busy": "2022-02-26T14:48:15.010541Z",
     "iopub.status.idle": "2022-02-26T14:48:15.020999Z",
     "shell.execute_reply": "2022-02-26T14:48:15.020511Z",
     "shell.execute_reply.started": "2022-02-26T14:05:33.553976Z"
    },
    "papermill": {
     "duration": 0.056385,
     "end_time": "2022-02-26T14:48:15.021145",
     "exception": false,
     "start_time": "2022-02-26T14:48:14.964760",
     "status": "completed"
    },
    "tags": []
   },
   "outputs": [],
   "source": [
    "## Assigning the NaN Values with the Ceil values of the mean ages\n",
    "data.loc[(data.Age.isnull())&(data.Initial=='Mr'),'Age']=33\n",
    "data.loc[(data.Age.isnull())&(data.Initial=='Mrs'),'Age']=36\n",
    "data.loc[(data.Age.isnull())&(data.Initial=='Master'),'Age']=5\n",
    "data.loc[(data.Age.isnull())&(data.Initial=='Miss'),'Age']=22\n",
    "data.loc[(data.Age.isnull())&(data.Initial=='Other'),'Age']=46"
   ]
  },
  {
   "cell_type": "code",
   "execution_count": 20,
   "id": "b2a33be4",
   "metadata": {
    "execution": {
     "iopub.execute_input": "2022-02-26T14:48:15.112452Z",
     "iopub.status.busy": "2022-02-26T14:48:15.111808Z",
     "iopub.status.idle": "2022-02-26T14:48:15.114573Z",
     "shell.execute_reply": "2022-02-26T14:48:15.115022Z",
     "shell.execute_reply.started": "2022-02-26T14:05:38.525592Z"
    },
    "papermill": {
     "duration": 0.051686,
     "end_time": "2022-02-26T14:48:15.115185",
     "exception": false,
     "start_time": "2022-02-26T14:48:15.063499",
     "status": "completed"
    },
    "tags": []
   },
   "outputs": [
    {
     "data": {
      "text/plain": [
       "False"
      ]
     },
     "execution_count": 20,
     "metadata": {},
     "output_type": "execute_result"
    }
   ],
   "source": [
    "data.Age.isnull().any() #So no null values left finally "
   ]
  },
  {
   "cell_type": "code",
   "execution_count": 21,
   "id": "4d18540c",
   "metadata": {
    "execution": {
     "iopub.execute_input": "2022-02-26T14:48:15.215706Z",
     "iopub.status.busy": "2022-02-26T14:48:15.203656Z",
     "iopub.status.idle": "2022-02-26T14:48:15.755129Z",
     "shell.execute_reply": "2022-02-26T14:48:15.755573Z",
     "shell.execute_reply.started": "2022-02-26T14:05:43.862271Z"
    },
    "papermill": {
     "duration": 0.597617,
     "end_time": "2022-02-26T14:48:15.755728",
     "exception": false,
     "start_time": "2022-02-26T14:48:15.158111",
     "status": "completed"
    },
    "tags": []
   },
   "outputs": [
    {
     "data": {
      "image/png": "[encoded data removed]",
      "text/plain": [
       "<Figure size 1440x720 with 2 Axes>"
      ]
     },
     "metadata": {
      "needs_background": "light"
     },
     "output_type": "display_data"
    }
   ],
   "source": [
    "f,ax=plt.subplots(1,2,figsize=(20,10))\n",
    "data[data['Survived']==0].Age.plot.hist(ax=ax[0],bins=20,edgecolor='black',color='red')\n",
    "ax[0].set_title('Survived= 0')\n",
    "x1=list(range(0,85,5))\n",
    "ax[0].set_xticks(x1)\n",
    "data[data['Survived']==1].Age.plot.hist(ax=ax[1],color='green',bins=20,edgecolor='black')\n",
    "ax[1].set_title('Survived= 1')\n",
    "x2=list(range(0,85,5))\n",
    "ax[1].set_xticks(x2)\n",
    "plt.show()"
   ]
  },
  {
   "cell_type": "code",
   "execution_count": 22,
   "id": "f406e100",
   "metadata": {
    "execution": {
     "iopub.execute_input": "2022-02-26T14:48:15.847184Z",
     "iopub.status.busy": "2022-02-26T14:48:15.846609Z",
     "iopub.status.idle": "2022-02-26T14:48:16.061050Z",
     "shell.execute_reply": "2022-02-26T14:48:16.061563Z",
     "shell.execute_reply.started": "2022-02-26T14:09:04.194568Z"
    },
    "papermill": {
     "duration": 0.261683,
     "end_time": "2022-02-26T14:48:16.061738",
     "exception": false,
     "start_time": "2022-02-26T14:48:15.800055",
     "status": "completed"
    },
    "tags": []
   },
   "outputs": [
    {
     "data": {
      "text/plain": [
       "<AxesSubplot:ylabel='Frequency'>"
      ]
     },
     "execution_count": 22,
     "metadata": {},
     "output_type": "execute_result"
    },
    {
     "data": {
      "image/png": "[encoded data removed]",
      "text/plain": [
       "<Figure size 432x288 with 1 Axes>"
      ]
     },
     "metadata": {
      "needs_background": "light"
     },
     "output_type": "display_data"
    }
   ],
   "source": [
    "data.Age.plot.hist()"
   ]
  },
  {
   "cell_type": "code",
   "execution_count": 23,
   "id": "4bd16acb",
   "metadata": {
    "execution": {
     "iopub.execute_input": "2022-02-26T14:48:16.157050Z",
     "iopub.status.busy": "2022-02-26T14:48:16.156424Z",
     "iopub.status.idle": "2022-02-26T14:48:17.239449Z",
     "shell.execute_reply": "2022-02-26T14:48:17.238881Z",
     "shell.execute_reply.started": "2022-02-26T14:10:08.078388Z"
    },
    "papermill": {
     "duration": 1.131595,
     "end_time": "2022-02-26T14:48:17.239578",
     "exception": false,
     "start_time": "2022-02-26T14:48:16.107983",
     "status": "completed"
    },
    "tags": []
   },
   "outputs": [
    {
     "data": {
      "image/png": "[encoded data removed]",
      "text/plain": [
       "<Figure size 1800x360 with 5 Axes>"
      ]
     },
     "metadata": {
      "needs_background": "light"
     },
     "output_type": "display_data"
    }
   ],
   "source": [
    "sns.factorplot('Pclass','Survived',col='Initial',data=data)\n",
    "plt.show()"
   ]
  },
  {
   "cell_type": "markdown",
   "id": "78740881",
   "metadata": {
    "papermill": {
     "duration": 0.045956,
     "end_time": "2022-02-26T14:48:17.332086",
     "exception": false,
     "start_time": "2022-02-26T14:48:17.286130",
     "status": "completed"
    },
    "tags": []
   },
   "source": [
    "## Embarked--> Categorical Value\n"
   ]
  },
  {
   "cell_type": "code",
   "execution_count": 24,
   "id": "18ab3812",
   "metadata": {
    "execution": {
     "iopub.execute_input": "2022-02-26T14:48:17.431188Z",
     "iopub.status.busy": "2022-02-26T14:48:17.430562Z",
     "iopub.status.idle": "2022-02-26T14:48:17.490340Z",
     "shell.execute_reply": "2022-02-26T14:48:17.490930Z",
     "shell.execute_reply.started": "2022-02-26T14:12:24.559403Z"
    },
    "papermill": {
     "duration": 0.112703,
     "end_time": "2022-02-26T14:48:17.491105",
     "exception": false,
     "start_time": "2022-02-26T14:48:17.378402",
     "status": "completed"
    },
    "tags": []
   },
   "outputs": [
    {
     "data": {
      "text/html": [
       "<style type=\"text/css\">\n",
       "#T_3fd3b_row0_col0, #T_3fd3b_row1_col2 {\n",
       "  background-color: #fcfe66;\n",
       "  color: #000000;\n",
       "}\n",
       "#T_3fd3b_row0_col1 {\n",
       "  background-color: #d2e866;\n",
       "  color: #000000;\n",
       "}\n",
       "#T_3fd3b_row0_col2 {\n",
       "  background-color: #f2f866;\n",
       "  color: #000000;\n",
       "}\n",
       "#T_3fd3b_row0_col3 {\n",
       "  background-color: #d8ec66;\n",
       "  color: #000000;\n",
       "}\n",
       "#T_3fd3b_row0_col4, #T_3fd3b_row2_col3 {\n",
       "  background-color: #e8f466;\n",
       "  color: #000000;\n",
       "}\n",
       "#T_3fd3b_row1_col0, #T_3fd3b_row3_col0, #T_3fd3b_row3_col1, #T_3fd3b_row3_col2, #T_3fd3b_row3_col3, #T_3fd3b_row3_col4, #T_3fd3b_row4_col0, #T_3fd3b_row4_col2, #T_3fd3b_row4_col3, #T_3fd3b_row4_col4 {\n",
       "  background-color: #ffff66;\n",
       "  color: #000000;\n",
       "}\n",
       "#T_3fd3b_row1_col1, #T_3fd3b_row6_col0 {\n",
       "  background-color: #f9fc66;\n",
       "  color: #000000;\n",
       "}\n",
       "#T_3fd3b_row1_col3, #T_3fd3b_row1_col4 {\n",
       "  background-color: #fbfd66;\n",
       "  color: #000000;\n",
       "}\n",
       "#T_3fd3b_row2_col0, #T_3fd3b_row5_col1 {\n",
       "  background-color: #e6f266;\n",
       "  color: #000000;\n",
       "}\n",
       "#T_3fd3b_row2_col1 {\n",
       "  background-color: #f0f866;\n",
       "  color: #000000;\n",
       "}\n",
       "#T_3fd3b_row2_col2 {\n",
       "  background-color: #eef666;\n",
       "  color: #000000;\n",
       "}\n",
       "#T_3fd3b_row2_col4, #T_3fd3b_row7_col0 {\n",
       "  background-color: #edf666;\n",
       "  color: #000000;\n",
       "}\n",
       "#T_3fd3b_row4_col1 {\n",
       "  background-color: #fefe66;\n",
       "  color: #000000;\n",
       "}\n",
       "#T_3fd3b_row5_col0 {\n",
       "  background-color: #e3f166;\n",
       "  color: #000000;\n",
       "}\n",
       "#T_3fd3b_row5_col2 {\n",
       "  background-color: #ecf666;\n",
       "  color: #000000;\n",
       "}\n",
       "#T_3fd3b_row5_col3 {\n",
       "  background-color: #f8fc66;\n",
       "  color: #000000;\n",
       "}\n",
       "#T_3fd3b_row5_col4 {\n",
       "  background-color: #ebf566;\n",
       "  color: #000000;\n",
       "}\n",
       "#T_3fd3b_row6_col1 {\n",
       "  background-color: #cde666;\n",
       "  color: #000000;\n",
       "}\n",
       "#T_3fd3b_row6_col2 {\n",
       "  background-color: #e4f266;\n",
       "  color: #000000;\n",
       "}\n",
       "#T_3fd3b_row6_col3 {\n",
       "  background-color: #bede66;\n",
       "  color: #000000;\n",
       "}\n",
       "#T_3fd3b_row6_col4 {\n",
       "  background-color: #dbed66;\n",
       "  color: #000000;\n",
       "}\n",
       "#T_3fd3b_row7_col1 {\n",
       "  background-color: #bdde66;\n",
       "  color: #000000;\n",
       "}\n",
       "#T_3fd3b_row7_col2 {\n",
       "  background-color: #d3e966;\n",
       "  color: #000000;\n",
       "}\n",
       "#T_3fd3b_row7_col3, #T_3fd3b_row8_col1 {\n",
       "  background-color: #dcee66;\n",
       "  color: #000000;\n",
       "}\n",
       "#T_3fd3b_row7_col4 {\n",
       "  background-color: #d1e866;\n",
       "  color: #000000;\n",
       "}\n",
       "#T_3fd3b_row8_col0 {\n",
       "  background-color: #52a866;\n",
       "  color: #f1f1f1;\n",
       "}\n",
       "#T_3fd3b_row8_col2 {\n",
       "  background-color: #81c066;\n",
       "  color: #000000;\n",
       "}\n",
       "#T_3fd3b_row8_col3 {\n",
       "  background-color: #b0d866;\n",
       "  color: #000000;\n",
       "}\n",
       "#T_3fd3b_row8_col4 {\n",
       "  background-color: #9acc66;\n",
       "  color: #000000;\n",
       "}\n",
       "#T_3fd3b_row9_col0, #T_3fd3b_row9_col1, #T_3fd3b_row9_col2, #T_3fd3b_row9_col3, #T_3fd3b_row9_col4 {\n",
       "  background-color: #008066;\n",
       "  color: #f1f1f1;\n",
       "}\n",
       "</style>\n",
       "<table id=\"T_3fd3b_\">\n",
       "  <thead>\n",
       "    <tr>\n",
       "      <th class=\"blank\" >&nbsp;</th>\n",
       "      <th class=\"index_name level0\" >Sex</th>\n",
       "      <th class=\"col_heading level0 col0\" colspan=\"2\">female</th>\n",
       "      <th class=\"col_heading level0 col2\" colspan=\"2\">male</th>\n",
       "      <th class=\"col_heading level0 col4\" >All</th>\n",
       "    </tr>\n",
       "    <tr>\n",
       "      <th class=\"blank\" >&nbsp;</th>\n",
       "      <th class=\"index_name level1\" >Survived</th>\n",
       "      <th class=\"col_heading level1 col0\" >0</th>\n",
       "      <th class=\"col_heading level1 col1\" >1</th>\n",
       "      <th class=\"col_heading level1 col2\" >0</th>\n",
       "      <th class=\"col_heading level1 col3\" >1</th>\n",
       "      <th class=\"col_heading level1 col4\" ></th>\n",
       "    </tr>\n",
       "    <tr>\n",
       "      <th class=\"index_name level0\" >Embarked</th>\n",
       "      <th class=\"index_name level1\" >Pclass</th>\n",
       "      <th class=\"blank col0\" >&nbsp;</th>\n",
       "      <th class=\"blank col1\" >&nbsp;</th>\n",
       "      <th class=\"blank col2\" >&nbsp;</th>\n",
       "      <th class=\"blank col3\" >&nbsp;</th>\n",
       "      <th class=\"blank col4\" >&nbsp;</th>\n",
       "    </tr>\n",
       "  </thead>\n",
       "  <tbody>\n",
       "    <tr>\n",
       "      <th id=\"T_3fd3b_level0_row0\" class=\"row_heading level0 row0\" rowspan=\"3\">C</th>\n",
       "      <th id=\"T_3fd3b_level1_row0\" class=\"row_heading level1 row0\" >1</th>\n",
       "      <td id=\"T_3fd3b_row0_col0\" class=\"data row0 col0\" >1</td>\n",
       "      <td id=\"T_3fd3b_row0_col1\" class=\"data row0 col1\" >42</td>\n",
       "      <td id=\"T_3fd3b_row0_col2\" class=\"data row0 col2\" >25</td>\n",
       "      <td id=\"T_3fd3b_row0_col3\" class=\"data row0 col3\" >17</td>\n",
       "      <td id=\"T_3fd3b_row0_col4\" class=\"data row0 col4\" >85</td>\n",
       "    </tr>\n",
       "    <tr>\n",
       "      <th id=\"T_3fd3b_level1_row1\" class=\"row_heading level1 row1\" >2</th>\n",
       "      <td id=\"T_3fd3b_row1_col0\" class=\"data row1 col0\" >0</td>\n",
       "      <td id=\"T_3fd3b_row1_col1\" class=\"data row1 col1\" >7</td>\n",
       "      <td id=\"T_3fd3b_row1_col2\" class=\"data row1 col2\" >8</td>\n",
       "      <td id=\"T_3fd3b_row1_col3\" class=\"data row1 col3\" >2</td>\n",
       "      <td id=\"T_3fd3b_row1_col4\" class=\"data row1 col4\" >17</td>\n",
       "    </tr>\n",
       "    <tr>\n",
       "      <th id=\"T_3fd3b_level1_row2\" class=\"row_heading level1 row2\" >3</th>\n",
       "      <td id=\"T_3fd3b_row2_col0\" class=\"data row2 col0\" >8</td>\n",
       "      <td id=\"T_3fd3b_row2_col1\" class=\"data row2 col1\" >15</td>\n",
       "      <td id=\"T_3fd3b_row2_col2\" class=\"data row2 col2\" >33</td>\n",
       "      <td id=\"T_3fd3b_row2_col3\" class=\"data row2 col3\" >10</td>\n",
       "      <td id=\"T_3fd3b_row2_col4\" class=\"data row2 col4\" >66</td>\n",
       "    </tr>\n",
       "    <tr>\n",
       "      <th id=\"T_3fd3b_level0_row3\" class=\"row_heading level0 row3\" rowspan=\"3\">Q</th>\n",
       "      <th id=\"T_3fd3b_level1_row3\" class=\"row_heading level1 row3\" >1</th>\n",
       "      <td id=\"T_3fd3b_row3_col0\" class=\"data row3 col0\" >0</td>\n",
       "      <td id=\"T_3fd3b_row3_col1\" class=\"data row3 col1\" >1</td>\n",
       "      <td id=\"T_3fd3b_row3_col2\" class=\"data row3 col2\" >1</td>\n",
       "      <td id=\"T_3fd3b_row3_col3\" class=\"data row3 col3\" >0</td>\n",
       "      <td id=\"T_3fd3b_row3_col4\" class=\"data row3 col4\" >2</td>\n",
       "    </tr>\n",
       "    <tr>\n",
       "      <th id=\"T_3fd3b_level1_row4\" class=\"row_heading level1 row4\" >2</th>\n",
       "      <td id=\"T_3fd3b_row4_col0\" class=\"data row4 col0\" >0</td>\n",
       "      <td id=\"T_3fd3b_row4_col1\" class=\"data row4 col1\" >2</td>\n",
       "      <td id=\"T_3fd3b_row4_col2\" class=\"data row4 col2\" >1</td>\n",
       "      <td id=\"T_3fd3b_row4_col3\" class=\"data row4 col3\" >0</td>\n",
       "      <td id=\"T_3fd3b_row4_col4\" class=\"data row4 col4\" >3</td>\n",
       "    </tr>\n",
       "    <tr>\n",
       "      <th id=\"T_3fd3b_level1_row5\" class=\"row_heading level1 row5\" >3</th>\n",
       "      <td id=\"T_3fd3b_row5_col0\" class=\"data row5 col0\" >9</td>\n",
       "      <td id=\"T_3fd3b_row5_col1\" class=\"data row5 col1\" >24</td>\n",
       "      <td id=\"T_3fd3b_row5_col2\" class=\"data row5 col2\" >36</td>\n",
       "      <td id=\"T_3fd3b_row5_col3\" class=\"data row5 col3\" >3</td>\n",
       "      <td id=\"T_3fd3b_row5_col4\" class=\"data row5 col4\" >72</td>\n",
       "    </tr>\n",
       "    <tr>\n",
       "      <th id=\"T_3fd3b_level0_row6\" class=\"row_heading level0 row6\" rowspan=\"3\">S</th>\n",
       "      <th id=\"T_3fd3b_level1_row6\" class=\"row_heading level1 row6\" >1</th>\n",
       "      <td id=\"T_3fd3b_row6_col0\" class=\"data row6 col0\" >2</td>\n",
       "      <td id=\"T_3fd3b_row6_col1\" class=\"data row6 col1\" >46</td>\n",
       "      <td id=\"T_3fd3b_row6_col2\" class=\"data row6 col2\" >51</td>\n",
       "      <td id=\"T_3fd3b_row6_col3\" class=\"data row6 col3\" >28</td>\n",
       "      <td id=\"T_3fd3b_row6_col4\" class=\"data row6 col4\" >127</td>\n",
       "    </tr>\n",
       "    <tr>\n",
       "      <th id=\"T_3fd3b_level1_row7\" class=\"row_heading level1 row7\" >2</th>\n",
       "      <td id=\"T_3fd3b_row7_col0\" class=\"data row7 col0\" >6</td>\n",
       "      <td id=\"T_3fd3b_row7_col1\" class=\"data row7 col1\" >61</td>\n",
       "      <td id=\"T_3fd3b_row7_col2\" class=\"data row7 col2\" >82</td>\n",
       "      <td id=\"T_3fd3b_row7_col3\" class=\"data row7 col3\" >15</td>\n",
       "      <td id=\"T_3fd3b_row7_col4\" class=\"data row7 col4\" >164</td>\n",
       "    </tr>\n",
       "    <tr>\n",
       "      <th id=\"T_3fd3b_level1_row8\" class=\"row_heading level1 row8\" >3</th>\n",
       "      <td id=\"T_3fd3b_row8_col0\" class=\"data row8 col0\" >55</td>\n",
       "      <td id=\"T_3fd3b_row8_col1\" class=\"data row8 col1\" >33</td>\n",
       "      <td id=\"T_3fd3b_row8_col2\" class=\"data row8 col2\" >231</td>\n",
       "      <td id=\"T_3fd3b_row8_col3\" class=\"data row8 col3\" >34</td>\n",
       "      <td id=\"T_3fd3b_row8_col4\" class=\"data row8 col4\" >353</td>\n",
       "    </tr>\n",
       "    <tr>\n",
       "      <th id=\"T_3fd3b_level0_row9\" class=\"row_heading level0 row9\" >All</th>\n",
       "      <th id=\"T_3fd3b_level1_row9\" class=\"row_heading level1 row9\" ></th>\n",
       "      <td id=\"T_3fd3b_row9_col0\" class=\"data row9 col0\" >81</td>\n",
       "      <td id=\"T_3fd3b_row9_col1\" class=\"data row9 col1\" >231</td>\n",
       "      <td id=\"T_3fd3b_row9_col2\" class=\"data row9 col2\" >468</td>\n",
       "      <td id=\"T_3fd3b_row9_col3\" class=\"data row9 col3\" >109</td>\n",
       "      <td id=\"T_3fd3b_row9_col4\" class=\"data row9 col4\" >889</td>\n",
       "    </tr>\n",
       "  </tbody>\n",
       "</table>\n"
      ],
      "text/plain": [
       "<pandas.io.formats.style.Styler at 0x7f292e1fca90>"
      ]
     },
     "execution_count": 24,
     "metadata": {},
     "output_type": "execute_result"
    }
   ],
   "source": [
    "pd.crosstab([data.Embarked,data.Pclass],[data.Sex,data.Survived],margins=True).style.background_gradient(cmap='summer_r')"
   ]
  },
  {
   "cell_type": "markdown",
   "id": "296dd501",
   "metadata": {
    "papermill": {
     "duration": 0.046739,
     "end_time": "2022-02-26T14:48:17.584804",
     "exception": false,
     "start_time": "2022-02-26T14:48:17.538065",
     "status": "completed"
    },
    "tags": []
   },
   "source": [
    "### Chances for Survival by Port Of Embarkation"
   ]
  },
  {
   "cell_type": "code",
   "execution_count": 25,
   "id": "7d1c18af",
   "metadata": {
    "execution": {
     "iopub.execute_input": "2022-02-26T14:48:17.683589Z",
     "iopub.status.busy": "2022-02-26T14:48:17.682942Z",
     "iopub.status.idle": "2022-02-26T14:48:17.994612Z",
     "shell.execute_reply": "2022-02-26T14:48:17.995154Z",
     "shell.execute_reply.started": "2022-02-26T14:15:41.474574Z"
    },
    "papermill": {
     "duration": 0.362058,
     "end_time": "2022-02-26T14:48:17.995323",
     "exception": false,
     "start_time": "2022-02-26T14:48:17.633265",
     "status": "completed"
    },
    "tags": []
   },
   "outputs": [
    {
     "data": {
      "image/png": "[encoded data removed]",
      "text/plain": [
       "<Figure size 360x216 with 1 Axes>"
      ]
     },
     "metadata": {
      "needs_background": "light"
     },
     "output_type": "display_data"
    }
   ],
   "source": [
    "sns.factorplot('Embarked','Survived',data=data)\n",
    "fig=plt.gcf()\n",
    "fig.set_size_inches(5,3)\n",
    "plt.show()"
   ]
  },
  {
   "cell_type": "code",
   "execution_count": 26,
   "id": "e89a73ba",
   "metadata": {
    "execution": {
     "iopub.execute_input": "2022-02-26T14:48:18.093813Z",
     "iopub.status.busy": "2022-02-26T14:48:18.093295Z",
     "iopub.status.idle": "2022-02-26T14:48:18.652076Z",
     "shell.execute_reply": "2022-02-26T14:48:18.652579Z",
     "shell.execute_reply.started": "2022-02-26T14:16:55.982333Z"
    },
    "papermill": {
     "duration": 0.609779,
     "end_time": "2022-02-26T14:48:18.652739",
     "exception": false,
     "start_time": "2022-02-26T14:48:18.042960",
     "status": "completed"
    },
    "tags": []
   },
   "outputs": [
    {
     "data": {
      "image/png": "[encoded data removed]",
      "text/plain": [
       "<Figure size 1440x1080 with 4 Axes>"
      ]
     },
     "metadata": {
      "needs_background": "light"
     },
     "output_type": "display_data"
    }
   ],
   "source": [
    "f,ax=plt.subplots(2,2,figsize=(20,15))\n",
    "sns.countplot('Embarked',data=data,ax=ax[0,0])\n",
    "ax[0,0].set_title('No. Of Passengers Boarded')\n",
    "sns.countplot('Embarked',hue='Sex',data=data,ax=ax[0,1])\n",
    "ax[0,1].set_title('Male-Female Split for Embarked')\n",
    "sns.countplot('Embarked',hue='Survived',data=data,ax=ax[1,0])\n",
    "ax[1,0].set_title('Embarked vs Survived')\n",
    "sns.countplot('Embarked',hue='Pclass',data=data,ax=ax[1,1])\n",
    "ax[1,1].set_title('Embarked vs Pclass')\n",
    "plt.subplots_adjust(wspace=0.2,hspace=0.5)\n",
    "plt.show()"
   ]
  },
  {
   "cell_type": "code",
   "execution_count": 27,
   "id": "2c31cd01",
   "metadata": {
    "execution": {
     "iopub.execute_input": "2022-02-26T14:48:18.756738Z",
     "iopub.status.busy": "2022-02-26T14:48:18.756178Z",
     "iopub.status.idle": "2022-02-26T14:48:19.817951Z",
     "shell.execute_reply": "2022-02-26T14:48:19.817325Z",
     "shell.execute_reply.started": "2022-02-26T14:19:58.676201Z"
    },
    "papermill": {
     "duration": 1.11442,
     "end_time": "2022-02-26T14:48:19.818089",
     "exception": false,
     "start_time": "2022-02-26T14:48:18.703669",
     "status": "completed"
    },
    "tags": []
   },
   "outputs": [
    {
     "data": {
      "image/png": "[encoded data removed]",
      "text/plain": [
       "<Figure size 1150.5x360 with 3 Axes>"
      ]
     },
     "metadata": {
      "needs_background": "light"
     },
     "output_type": "display_data"
    }
   ],
   "source": [
    "sns.factorplot('Pclass','Survived',hue='Sex',col='Embarked',data=data)\n",
    "plt.show()"
   ]
  },
  {
   "cell_type": "markdown",
   "id": "5f883c54",
   "metadata": {
    "papermill": {
     "duration": 0.050017,
     "end_time": "2022-02-26T14:48:19.918740",
     "exception": false,
     "start_time": "2022-02-26T14:48:19.868723",
     "status": "completed"
    },
    "tags": []
   },
   "source": [
    "### Filling Embarked NaN"
   ]
  },
  {
   "cell_type": "code",
   "execution_count": 28,
   "id": "807989e9",
   "metadata": {
    "execution": {
     "iopub.execute_input": "2022-02-26T14:48:20.026312Z",
     "iopub.status.busy": "2022-02-26T14:48:20.025526Z",
     "iopub.status.idle": "2022-02-26T14:48:20.027790Z",
     "shell.execute_reply": "2022-02-26T14:48:20.027340Z",
     "shell.execute_reply.started": "2022-02-26T14:22:40.248881Z"
    },
    "papermill": {
     "duration": 0.058443,
     "end_time": "2022-02-26T14:48:20.027952",
     "exception": false,
     "start_time": "2022-02-26T14:48:19.969509",
     "status": "completed"
    },
    "tags": []
   },
   "outputs": [],
   "source": [
    "data['Embarked'].fillna('S',inplace=True)"
   ]
  },
  {
   "cell_type": "code",
   "execution_count": 29,
   "id": "617979ed",
   "metadata": {
    "execution": {
     "iopub.execute_input": "2022-02-26T14:48:20.136639Z",
     "iopub.status.busy": "2022-02-26T14:48:20.135800Z",
     "iopub.status.idle": "2022-02-26T14:48:20.139427Z",
     "shell.execute_reply": "2022-02-26T14:48:20.138974Z",
     "shell.execute_reply.started": "2022-02-26T14:22:56.750004Z"
    },
    "papermill": {
     "duration": 0.059282,
     "end_time": "2022-02-26T14:48:20.139560",
     "exception": false,
     "start_time": "2022-02-26T14:48:20.080278",
     "status": "completed"
    },
    "tags": []
   },
   "outputs": [
    {
     "data": {
      "text/plain": [
       "False"
      ]
     },
     "execution_count": 29,
     "metadata": {},
     "output_type": "execute_result"
    }
   ],
   "source": [
    "data.Embarked.isnull().any()# Finally No NaN values\n"
   ]
  },
  {
   "cell_type": "markdown",
   "id": "67639a44",
   "metadata": {
    "papermill": {
     "duration": 0.0509,
     "end_time": "2022-02-26T14:48:20.241305",
     "exception": false,
     "start_time": "2022-02-26T14:48:20.190405",
     "status": "completed"
    },
    "tags": []
   },
   "source": [
    "## SibSip-->Discrete Feature"
   ]
  },
  {
   "cell_type": "code",
   "execution_count": 30,
   "id": "fcdf626f",
   "metadata": {
    "execution": {
     "iopub.execute_input": "2022-02-26T14:48:20.352816Z",
     "iopub.status.busy": "2022-02-26T14:48:20.352229Z",
     "iopub.status.idle": "2022-02-26T14:48:20.370337Z",
     "shell.execute_reply": "2022-02-26T14:48:20.369901Z",
     "shell.execute_reply.started": "2022-02-26T14:23:28.774192Z"
    },
    "papermill": {
     "duration": 0.076856,
     "end_time": "2022-02-26T14:48:20.370465",
     "exception": false,
     "start_time": "2022-02-26T14:48:20.293609",
     "status": "completed"
    },
    "tags": []
   },
   "outputs": [
    {
     "data": {
      "text/html": [
       "<style type=\"text/css\">\n",
       "#T_aab5d_row0_col0, #T_aab5d_row0_col1 {\n",
       "  background-color: #008066;\n",
       "  color: #f1f1f1;\n",
       "}\n",
       "#T_aab5d_row1_col0 {\n",
       "  background-color: #c4e266;\n",
       "  color: #000000;\n",
       "}\n",
       "#T_aab5d_row1_col1 {\n",
       "  background-color: #77bb66;\n",
       "  color: #f1f1f1;\n",
       "}\n",
       "#T_aab5d_row2_col0, #T_aab5d_row4_col0 {\n",
       "  background-color: #f9fc66;\n",
       "  color: #000000;\n",
       "}\n",
       "#T_aab5d_row2_col1 {\n",
       "  background-color: #f0f866;\n",
       "  color: #000000;\n",
       "}\n",
       "#T_aab5d_row3_col0, #T_aab5d_row3_col1 {\n",
       "  background-color: #fbfd66;\n",
       "  color: #000000;\n",
       "}\n",
       "#T_aab5d_row4_col1 {\n",
       "  background-color: #fcfe66;\n",
       "  color: #000000;\n",
       "}\n",
       "#T_aab5d_row5_col0, #T_aab5d_row5_col1, #T_aab5d_row6_col1 {\n",
       "  background-color: #ffff66;\n",
       "  color: #000000;\n",
       "}\n",
       "#T_aab5d_row6_col0 {\n",
       "  background-color: #fefe66;\n",
       "  color: #000000;\n",
       "}\n",
       "</style>\n",
       "<table id=\"T_aab5d_\">\n",
       "  <thead>\n",
       "    <tr>\n",
       "      <th class=\"index_name level0\" >Survived</th>\n",
       "      <th class=\"col_heading level0 col0\" >0</th>\n",
       "      <th class=\"col_heading level0 col1\" >1</th>\n",
       "    </tr>\n",
       "    <tr>\n",
       "      <th class=\"index_name level0\" >SibSp</th>\n",
       "      <th class=\"blank col0\" >&nbsp;</th>\n",
       "      <th class=\"blank col1\" >&nbsp;</th>\n",
       "    </tr>\n",
       "  </thead>\n",
       "  <tbody>\n",
       "    <tr>\n",
       "      <th id=\"T_aab5d_level0_row0\" class=\"row_heading level0 row0\" >0</th>\n",
       "      <td id=\"T_aab5d_row0_col0\" class=\"data row0 col0\" >398</td>\n",
       "      <td id=\"T_aab5d_row0_col1\" class=\"data row0 col1\" >210</td>\n",
       "    </tr>\n",
       "    <tr>\n",
       "      <th id=\"T_aab5d_level0_row1\" class=\"row_heading level0 row1\" >1</th>\n",
       "      <td id=\"T_aab5d_row1_col0\" class=\"data row1 col0\" >97</td>\n",
       "      <td id=\"T_aab5d_row1_col1\" class=\"data row1 col1\" >112</td>\n",
       "    </tr>\n",
       "    <tr>\n",
       "      <th id=\"T_aab5d_level0_row2\" class=\"row_heading level0 row2\" >2</th>\n",
       "      <td id=\"T_aab5d_row2_col0\" class=\"data row2 col0\" >15</td>\n",
       "      <td id=\"T_aab5d_row2_col1\" class=\"data row2 col1\" >13</td>\n",
       "    </tr>\n",
       "    <tr>\n",
       "      <th id=\"T_aab5d_level0_row3\" class=\"row_heading level0 row3\" >3</th>\n",
       "      <td id=\"T_aab5d_row3_col0\" class=\"data row3 col0\" >12</td>\n",
       "      <td id=\"T_aab5d_row3_col1\" class=\"data row3 col1\" >4</td>\n",
       "    </tr>\n",
       "    <tr>\n",
       "      <th id=\"T_aab5d_level0_row4\" class=\"row_heading level0 row4\" >4</th>\n",
       "      <td id=\"T_aab5d_row4_col0\" class=\"data row4 col0\" >15</td>\n",
       "      <td id=\"T_aab5d_row4_col1\" class=\"data row4 col1\" >3</td>\n",
       "    </tr>\n",
       "    <tr>\n",
       "      <th id=\"T_aab5d_level0_row5\" class=\"row_heading level0 row5\" >5</th>\n",
       "      <td id=\"T_aab5d_row5_col0\" class=\"data row5 col0\" >5</td>\n",
       "      <td id=\"T_aab5d_row5_col1\" class=\"data row5 col1\" >0</td>\n",
       "    </tr>\n",
       "    <tr>\n",
       "      <th id=\"T_aab5d_level0_row6\" class=\"row_heading level0 row6\" >8</th>\n",
       "      <td id=\"T_aab5d_row6_col0\" class=\"data row6 col0\" >7</td>\n",
       "      <td id=\"T_aab5d_row6_col1\" class=\"data row6 col1\" >0</td>\n",
       "    </tr>\n",
       "  </tbody>\n",
       "</table>\n"
      ],
      "text/plain": [
       "<pandas.io.formats.style.Styler at 0x7f292e09b1d0>"
      ]
     },
     "execution_count": 30,
     "metadata": {},
     "output_type": "execute_result"
    }
   ],
   "source": [
    "pd.crosstab([data.SibSp],data.Survived).style.background_gradient(cmap='summer_r')"
   ]
  },
  {
   "cell_type": "code",
   "execution_count": 31,
   "id": "a5112e3d",
   "metadata": {
    "execution": {
     "iopub.execute_input": "2022-02-26T14:48:20.498435Z",
     "iopub.status.busy": "2022-02-26T14:48:20.475494Z",
     "iopub.status.idle": "2022-02-26T14:48:21.303427Z",
     "shell.execute_reply": "2022-02-26T14:48:21.302784Z",
     "shell.execute_reply.started": "2022-02-26T14:26:53.012626Z"
    },
    "papermill": {
     "duration": 0.882084,
     "end_time": "2022-02-26T14:48:21.303578",
     "exception": false,
     "start_time": "2022-02-26T14:48:20.421494",
     "status": "completed"
    },
    "tags": []
   },
   "outputs": [
    {
     "data": {
      "image/png": "[encoded data removed]",
      "text/plain": [
       "<Figure size 1440x576 with 2 Axes>"
      ]
     },
     "metadata": {
      "needs_background": "light"
     },
     "output_type": "display_data"
    }
   ],
   "source": [
    "f,ax=plt.subplots(1,2,figsize=(20,8))\n",
    "sns.barplot('SibSp','Survived',data=data,ax=ax[0])\n",
    "ax[0].set_title('SibSp vs Survived')\n",
    "sns.factorplot('SibSp','Survived',data=data,ax=ax[1])\n",
    "ax[1].set_title('SibSp vs Survived')\n",
    "plt.close(2)\n",
    "plt.show()"
   ]
  },
  {
   "cell_type": "code",
   "execution_count": 32,
   "id": "87a0eeb8",
   "metadata": {
    "execution": {
     "iopub.execute_input": "2022-02-26T14:48:21.414148Z",
     "iopub.status.busy": "2022-02-26T14:48:21.413206Z",
     "iopub.status.idle": "2022-02-26T14:48:21.854275Z",
     "shell.execute_reply": "2022-02-26T14:48:21.854809Z",
     "shell.execute_reply.started": "2022-02-26T14:25:20.326168Z"
    },
    "papermill": {
     "duration": 0.499266,
     "end_time": "2022-02-26T14:48:21.854992",
     "exception": false,
     "start_time": "2022-02-26T14:48:21.355726",
     "status": "completed"
    },
    "tags": []
   },
   "outputs": [
    {
     "data": {
      "text/plain": [
       "Text(0.5, 1.0, 'SibSp vs Survived')"
      ]
     },
     "execution_count": 32,
     "metadata": {},
     "output_type": "execute_result"
    },
    {
     "data": {
      "image/png": "[encoded data removed]",
      "text/plain": [
       "<Figure size 360x360 with 1 Axes>"
      ]
     },
     "metadata": {
      "needs_background": "light"
     },
     "output_type": "display_data"
    }
   ],
   "source": [
    "sns.factorplot('SibSp','Survived',data=data,ax=ax[1])\n",
    "ax[1].set_title('SibSp vs Survived')"
   ]
  },
  {
   "cell_type": "code",
   "execution_count": 33,
   "id": "430b5827",
   "metadata": {
    "execution": {
     "iopub.execute_input": "2022-02-26T14:48:21.965535Z",
     "iopub.status.busy": "2022-02-26T14:48:21.964573Z",
     "iopub.status.idle": "2022-02-26T14:48:21.988346Z",
     "shell.execute_reply": "2022-02-26T14:48:21.988893Z",
     "shell.execute_reply.started": "2022-02-26T14:27:14.293915Z"
    },
    "papermill": {
     "duration": 0.080587,
     "end_time": "2022-02-26T14:48:21.989065",
     "exception": false,
     "start_time": "2022-02-26T14:48:21.908478",
     "status": "completed"
    },
    "tags": []
   },
   "outputs": [
    {
     "data": {
      "text/html": [
       "<style type=\"text/css\">\n",
       "#T_6ed24_row0_col0, #T_6ed24_row0_col1, #T_6ed24_row0_col2 {\n",
       "  background-color: #008066;\n",
       "  color: #f1f1f1;\n",
       "}\n",
       "#T_6ed24_row1_col0 {\n",
       "  background-color: #7bbd66;\n",
       "  color: #000000;\n",
       "}\n",
       "#T_6ed24_row1_col1 {\n",
       "  background-color: #8ac466;\n",
       "  color: #000000;\n",
       "}\n",
       "#T_6ed24_row1_col2 {\n",
       "  background-color: #c6e266;\n",
       "  color: #000000;\n",
       "}\n",
       "#T_6ed24_row2_col0, #T_6ed24_row4_col2 {\n",
       "  background-color: #f6fa66;\n",
       "  color: #000000;\n",
       "}\n",
       "#T_6ed24_row2_col1 {\n",
       "  background-color: #eef666;\n",
       "  color: #000000;\n",
       "}\n",
       "#T_6ed24_row2_col2 {\n",
       "  background-color: #f8fc66;\n",
       "  color: #000000;\n",
       "}\n",
       "#T_6ed24_row3_col0, #T_6ed24_row3_col2 {\n",
       "  background-color: #fafc66;\n",
       "  color: #000000;\n",
       "}\n",
       "#T_6ed24_row3_col1 {\n",
       "  background-color: #fdfe66;\n",
       "  color: #000000;\n",
       "}\n",
       "#T_6ed24_row4_col0, #T_6ed24_row4_col1, #T_6ed24_row5_col0, #T_6ed24_row5_col1, #T_6ed24_row5_col2, #T_6ed24_row6_col0, #T_6ed24_row6_col1 {\n",
       "  background-color: #ffff66;\n",
       "  color: #000000;\n",
       "}\n",
       "#T_6ed24_row6_col2 {\n",
       "  background-color: #fefe66;\n",
       "  color: #000000;\n",
       "}\n",
       "</style>\n",
       "<table id=\"T_6ed24_\">\n",
       "  <thead>\n",
       "    <tr>\n",
       "      <th class=\"index_name level0\" >Pclass</th>\n",
       "      <th class=\"col_heading level0 col0\" >1</th>\n",
       "      <th class=\"col_heading level0 col1\" >2</th>\n",
       "      <th class=\"col_heading level0 col2\" >3</th>\n",
       "    </tr>\n",
       "    <tr>\n",
       "      <th class=\"index_name level0\" >SibSp</th>\n",
       "      <th class=\"blank col0\" >&nbsp;</th>\n",
       "      <th class=\"blank col1\" >&nbsp;</th>\n",
       "      <th class=\"blank col2\" >&nbsp;</th>\n",
       "    </tr>\n",
       "  </thead>\n",
       "  <tbody>\n",
       "    <tr>\n",
       "      <th id=\"T_6ed24_level0_row0\" class=\"row_heading level0 row0\" >0</th>\n",
       "      <td id=\"T_6ed24_row0_col0\" class=\"data row0 col0\" >137</td>\n",
       "      <td id=\"T_6ed24_row0_col1\" class=\"data row0 col1\" >120</td>\n",
       "      <td id=\"T_6ed24_row0_col2\" class=\"data row0 col2\" >351</td>\n",
       "    </tr>\n",
       "    <tr>\n",
       "      <th id=\"T_6ed24_level0_row1\" class=\"row_heading level0 row1\" >1</th>\n",
       "      <td id=\"T_6ed24_row1_col0\" class=\"data row1 col0\" >71</td>\n",
       "      <td id=\"T_6ed24_row1_col1\" class=\"data row1 col1\" >55</td>\n",
       "      <td id=\"T_6ed24_row1_col2\" class=\"data row1 col2\" >83</td>\n",
       "    </tr>\n",
       "    <tr>\n",
       "      <th id=\"T_6ed24_level0_row2\" class=\"row_heading level0 row2\" >2</th>\n",
       "      <td id=\"T_6ed24_row2_col0\" class=\"data row2 col0\" >5</td>\n",
       "      <td id=\"T_6ed24_row2_col1\" class=\"data row2 col1\" >8</td>\n",
       "      <td id=\"T_6ed24_row2_col2\" class=\"data row2 col2\" >15</td>\n",
       "    </tr>\n",
       "    <tr>\n",
       "      <th id=\"T_6ed24_level0_row3\" class=\"row_heading level0 row3\" >3</th>\n",
       "      <td id=\"T_6ed24_row3_col0\" class=\"data row3 col0\" >3</td>\n",
       "      <td id=\"T_6ed24_row3_col1\" class=\"data row3 col1\" >1</td>\n",
       "      <td id=\"T_6ed24_row3_col2\" class=\"data row3 col2\" >12</td>\n",
       "    </tr>\n",
       "    <tr>\n",
       "      <th id=\"T_6ed24_level0_row4\" class=\"row_heading level0 row4\" >4</th>\n",
       "      <td id=\"T_6ed24_row4_col0\" class=\"data row4 col0\" >0</td>\n",
       "      <td id=\"T_6ed24_row4_col1\" class=\"data row4 col1\" >0</td>\n",
       "      <td id=\"T_6ed24_row4_col2\" class=\"data row4 col2\" >18</td>\n",
       "    </tr>\n",
       "    <tr>\n",
       "      <th id=\"T_6ed24_level0_row5\" class=\"row_heading level0 row5\" >5</th>\n",
       "      <td id=\"T_6ed24_row5_col0\" class=\"data row5 col0\" >0</td>\n",
       "      <td id=\"T_6ed24_row5_col1\" class=\"data row5 col1\" >0</td>\n",
       "      <td id=\"T_6ed24_row5_col2\" class=\"data row5 col2\" >5</td>\n",
       "    </tr>\n",
       "    <tr>\n",
       "      <th id=\"T_6ed24_level0_row6\" class=\"row_heading level0 row6\" >8</th>\n",
       "      <td id=\"T_6ed24_row6_col0\" class=\"data row6 col0\" >0</td>\n",
       "      <td id=\"T_6ed24_row6_col1\" class=\"data row6 col1\" >0</td>\n",
       "      <td id=\"T_6ed24_row6_col2\" class=\"data row6 col2\" >7</td>\n",
       "    </tr>\n",
       "  </tbody>\n",
       "</table>\n"
      ],
      "text/plain": [
       "<pandas.io.formats.style.Styler at 0x7f292407c890>"
      ]
     },
     "execution_count": 33,
     "metadata": {},
     "output_type": "execute_result"
    }
   ],
   "source": [
    "pd.crosstab(data.SibSp,data.Pclass).style.background_gradient(cmap='summer_r')"
   ]
  },
  {
   "cell_type": "markdown",
   "id": "46dafbd0",
   "metadata": {
    "papermill": {
     "duration": 0.054486,
     "end_time": "2022-02-26T14:48:22.097927",
     "exception": false,
     "start_time": "2022-02-26T14:48:22.043441",
     "status": "completed"
    },
    "tags": []
   },
   "source": [
    "### Parch"
   ]
  },
  {
   "cell_type": "code",
   "execution_count": 34,
   "id": "0edafd95",
   "metadata": {
    "execution": {
     "iopub.execute_input": "2022-02-26T14:48:22.210418Z",
     "iopub.status.busy": "2022-02-26T14:48:22.209483Z",
     "iopub.status.idle": "2022-02-26T14:48:22.232752Z",
     "shell.execute_reply": "2022-02-26T14:48:22.233184Z",
     "shell.execute_reply.started": "2022-02-26T14:28:46.207713Z"
    },
    "papermill": {
     "duration": 0.081337,
     "end_time": "2022-02-26T14:48:22.233349",
     "exception": false,
     "start_time": "2022-02-26T14:48:22.152012",
     "status": "completed"
    },
    "tags": []
   },
   "outputs": [
    {
     "data": {
      "text/html": [
       "<style type=\"text/css\">\n",
       "#T_62241_row0_col0, #T_62241_row0_col1, #T_62241_row0_col2 {\n",
       "  background-color: #008066;\n",
       "  color: #f1f1f1;\n",
       "}\n",
       "#T_62241_row1_col0 {\n",
       "  background-color: #cfe766;\n",
       "  color: #000000;\n",
       "}\n",
       "#T_62241_row1_col1 {\n",
       "  background-color: #c2e066;\n",
       "  color: #000000;\n",
       "}\n",
       "#T_62241_row1_col2 {\n",
       "  background-color: #dbed66;\n",
       "  color: #000000;\n",
       "}\n",
       "#T_62241_row2_col0 {\n",
       "  background-color: #dfef66;\n",
       "  color: #000000;\n",
       "}\n",
       "#T_62241_row2_col1 {\n",
       "  background-color: #e1f066;\n",
       "  color: #000000;\n",
       "}\n",
       "#T_62241_row2_col2 {\n",
       "  background-color: #e3f166;\n",
       "  color: #000000;\n",
       "}\n",
       "#T_62241_row3_col0, #T_62241_row4_col1, #T_62241_row5_col0, #T_62241_row5_col1, #T_62241_row6_col0, #T_62241_row6_col1, #T_62241_row6_col2 {\n",
       "  background-color: #ffff66;\n",
       "  color: #000000;\n",
       "}\n",
       "#T_62241_row3_col1 {\n",
       "  background-color: #fcfe66;\n",
       "  color: #000000;\n",
       "}\n",
       "#T_62241_row3_col2, #T_62241_row4_col0, #T_62241_row4_col2 {\n",
       "  background-color: #fefe66;\n",
       "  color: #000000;\n",
       "}\n",
       "#T_62241_row5_col2 {\n",
       "  background-color: #fdfe66;\n",
       "  color: #000000;\n",
       "}\n",
       "</style>\n",
       "<table id=\"T_62241_\">\n",
       "  <thead>\n",
       "    <tr>\n",
       "      <th class=\"index_name level0\" >Pclass</th>\n",
       "      <th class=\"col_heading level0 col0\" >1</th>\n",
       "      <th class=\"col_heading level0 col1\" >2</th>\n",
       "      <th class=\"col_heading level0 col2\" >3</th>\n",
       "    </tr>\n",
       "    <tr>\n",
       "      <th class=\"index_name level0\" >Parch</th>\n",
       "      <th class=\"blank col0\" >&nbsp;</th>\n",
       "      <th class=\"blank col1\" >&nbsp;</th>\n",
       "      <th class=\"blank col2\" >&nbsp;</th>\n",
       "    </tr>\n",
       "  </thead>\n",
       "  <tbody>\n",
       "    <tr>\n",
       "      <th id=\"T_62241_level0_row0\" class=\"row_heading level0 row0\" >0</th>\n",
       "      <td id=\"T_62241_row0_col0\" class=\"data row0 col0\" >163</td>\n",
       "      <td id=\"T_62241_row0_col1\" class=\"data row0 col1\" >134</td>\n",
       "      <td id=\"T_62241_row0_col2\" class=\"data row0 col2\" >381</td>\n",
       "    </tr>\n",
       "    <tr>\n",
       "      <th id=\"T_62241_level0_row1\" class=\"row_heading level0 row1\" >1</th>\n",
       "      <td id=\"T_62241_row1_col0\" class=\"data row1 col0\" >31</td>\n",
       "      <td id=\"T_62241_row1_col1\" class=\"data row1 col1\" >32</td>\n",
       "      <td id=\"T_62241_row1_col2\" class=\"data row1 col2\" >55</td>\n",
       "    </tr>\n",
       "    <tr>\n",
       "      <th id=\"T_62241_level0_row2\" class=\"row_heading level0 row2\" >2</th>\n",
       "      <td id=\"T_62241_row2_col0\" class=\"data row2 col0\" >21</td>\n",
       "      <td id=\"T_62241_row2_col1\" class=\"data row2 col1\" >16</td>\n",
       "      <td id=\"T_62241_row2_col2\" class=\"data row2 col2\" >43</td>\n",
       "    </tr>\n",
       "    <tr>\n",
       "      <th id=\"T_62241_level0_row3\" class=\"row_heading level0 row3\" >3</th>\n",
       "      <td id=\"T_62241_row3_col0\" class=\"data row3 col0\" >0</td>\n",
       "      <td id=\"T_62241_row3_col1\" class=\"data row3 col1\" >2</td>\n",
       "      <td id=\"T_62241_row3_col2\" class=\"data row3 col2\" >3</td>\n",
       "    </tr>\n",
       "    <tr>\n",
       "      <th id=\"T_62241_level0_row4\" class=\"row_heading level0 row4\" >4</th>\n",
       "      <td id=\"T_62241_row4_col0\" class=\"data row4 col0\" >1</td>\n",
       "      <td id=\"T_62241_row4_col1\" class=\"data row4 col1\" >0</td>\n",
       "      <td id=\"T_62241_row4_col2\" class=\"data row4 col2\" >3</td>\n",
       "    </tr>\n",
       "    <tr>\n",
       "      <th id=\"T_62241_level0_row5\" class=\"row_heading level0 row5\" >5</th>\n",
       "      <td id=\"T_62241_row5_col0\" class=\"data row5 col0\" >0</td>\n",
       "      <td id=\"T_62241_row5_col1\" class=\"data row5 col1\" >0</td>\n",
       "      <td id=\"T_62241_row5_col2\" class=\"data row5 col2\" >5</td>\n",
       "    </tr>\n",
       "    <tr>\n",
       "      <th id=\"T_62241_level0_row6\" class=\"row_heading level0 row6\" >6</th>\n",
       "      <td id=\"T_62241_row6_col0\" class=\"data row6 col0\" >0</td>\n",
       "      <td id=\"T_62241_row6_col1\" class=\"data row6 col1\" >0</td>\n",
       "      <td id=\"T_62241_row6_col2\" class=\"data row6 col2\" >1</td>\n",
       "    </tr>\n",
       "  </tbody>\n",
       "</table>\n"
      ],
      "text/plain": [
       "<pandas.io.formats.style.Styler at 0x7f291fd0aad0>"
      ]
     },
     "execution_count": 34,
     "metadata": {},
     "output_type": "execute_result"
    }
   ],
   "source": [
    "pd.crosstab(data.Parch,data.Pclass).style.background_gradient(cmap='summer_r')"
   ]
  },
  {
   "cell_type": "code",
   "execution_count": 35,
   "id": "cabbbfd0",
   "metadata": {
    "execution": {
     "iopub.execute_input": "2022-02-26T14:48:22.347131Z",
     "iopub.status.busy": "2022-02-26T14:48:22.346229Z",
     "iopub.status.idle": "2022-02-26T14:48:23.411050Z",
     "shell.execute_reply": "2022-02-26T14:48:23.411502Z",
     "shell.execute_reply.started": "2022-02-26T14:28:59.038138Z"
    },
    "papermill": {
     "duration": 1.122175,
     "end_time": "2022-02-26T14:48:23.411665",
     "exception": false,
     "start_time": "2022-02-26T14:48:22.289490",
     "status": "completed"
    },
    "tags": []
   },
   "outputs": [
    {
     "data": {
      "image/png": "[encoded data removed]",
      "text/plain": [
       "<Figure size 1440x576 with 2 Axes>"
      ]
     },
     "metadata": {
      "needs_background": "light"
     },
     "output_type": "display_data"
    },
    {
     "data": {
      "image/png": "[encoded data removed]",
      "text/plain": [
       "<Figure size 360x360 with 1 Axes>"
      ]
     },
     "metadata": {
      "needs_background": "light"
     },
     "output_type": "display_data"
    }
   ],
   "source": [
    "f,ax=plt.subplots(1,2,figsize=(20,8))\n",
    "sns.barplot('Parch','Survived',data=data,ax=ax[0])\n",
    "ax[0].set_title('Parch vs Survived')\n",
    "sns.factorplot('Parch','Survived',data=data,ax=ax[1])\n",
    "ax[1].set_title('Parch vs Survived')\n",
    "#plt.close(2)\n",
    "plt.show()"
   ]
  },
  {
   "cell_type": "markdown",
   "id": "4a6321f3",
   "metadata": {
    "papermill": {
     "duration": 0.055518,
     "end_time": "2022-02-26T14:48:23.522815",
     "exception": false,
     "start_time": "2022-02-26T14:48:23.467297",
     "status": "completed"
    },
    "tags": []
   },
   "source": [
    "## Fare--> Continous Feature"
   ]
  },
  {
   "cell_type": "code",
   "execution_count": 36,
   "id": "87bf7803",
   "metadata": {
    "execution": {
     "iopub.execute_input": "2022-02-26T14:48:23.639703Z",
     "iopub.status.busy": "2022-02-26T14:48:23.639137Z",
     "iopub.status.idle": "2022-02-26T14:48:23.644017Z",
     "shell.execute_reply": "2022-02-26T14:48:23.644448Z",
     "shell.execute_reply.started": "2022-02-26T14:30:37.055835Z"
    },
    "papermill": {
     "duration": 0.06606,
     "end_time": "2022-02-26T14:48:23.644601",
     "exception": false,
     "start_time": "2022-02-26T14:48:23.578541",
     "status": "completed"
    },
    "tags": []
   },
   "outputs": [
    {
     "name": "stdout",
     "output_type": "stream",
     "text": [
      "Highest Fare was: 512.3292\n",
      "Lowest Fare was: 0.0\n",
      "Average Fare was: 32.2042079685746\n"
     ]
    }
   ],
   "source": [
    "print('Highest Fare was:',data['Fare'].max())\n",
    "print('Lowest Fare was:',data['Fare'].min())\n",
    "print('Average Fare was:',data['Fare'].mean())"
   ]
  },
  {
   "cell_type": "code",
   "execution_count": 37,
   "id": "aff43653",
   "metadata": {
    "execution": {
     "iopub.execute_input": "2022-02-26T14:48:23.763325Z",
     "iopub.status.busy": "2022-02-26T14:48:23.762738Z",
     "iopub.status.idle": "2022-02-26T14:48:24.332411Z",
     "shell.execute_reply": "2022-02-26T14:48:24.332878Z",
     "shell.execute_reply.started": "2022-02-26T14:30:50.429624Z"
    },
    "papermill": {
     "duration": 0.63254,
     "end_time": "2022-02-26T14:48:24.333065",
     "exception": false,
     "start_time": "2022-02-26T14:48:23.700525",
     "status": "completed"
    },
    "tags": []
   },
   "outputs": [
    {
     "data": {
      "image/png": "[encoded data removed]",
      "text/plain": [
       "<Figure size 1440x576 with 3 Axes>"
      ]
     },
     "metadata": {
      "needs_background": "light"
     },
     "output_type": "display_data"
    }
   ],
   "source": [
    "f,ax=plt.subplots(1,3,figsize=(20,8))\n",
    "sns.distplot(data[data['Pclass']==1].Fare,ax=ax[0])\n",
    "ax[0].set_title('Fares in Pclass 1')\n",
    "sns.distplot(data[data['Pclass']==2].Fare,ax=ax[1])\n",
    "ax[1].set_title('Fares in Pclass 2')\n",
    "sns.distplot(data[data['Pclass']==3].Fare,ax=ax[2])\n",
    "ax[2].set_title('Fares in Pclass 3')\n",
    "plt.show()"
   ]
  },
  {
   "cell_type": "code",
   "execution_count": 38,
   "id": "1f8f022e",
   "metadata": {
    "execution": {
     "iopub.execute_input": "2022-02-26T14:48:24.452727Z",
     "iopub.status.busy": "2022-02-26T14:48:24.452165Z",
     "iopub.status.idle": "2022-02-26T14:48:24.469454Z",
     "shell.execute_reply": "2022-02-26T14:48:24.470003Z",
     "shell.execute_reply.started": "2022-02-26T14:32:49.952048Z"
    },
    "papermill": {
     "duration": 0.07911,
     "end_time": "2022-02-26T14:48:24.470175",
     "exception": false,
     "start_time": "2022-02-26T14:48:24.391065",
     "status": "completed"
    },
    "tags": []
   },
   "outputs": [
    {
     "data": {
      "text/html": [
       "<div>\n",
       "<style scoped>\n",
       "    .dataframe tbody tr th:only-of-type {\n",
       "        vertical-align: middle;\n",
       "    }\n",
       "\n",
       "    .dataframe tbody tr th {\n",
       "        vertical-align: top;\n",
       "    }\n",
       "\n",
       "    .dataframe thead th {\n",
       "        text-align: right;\n",
       "    }\n",
       "</style>\n",
       "<table border=\"1\" class=\"dataframe\">\n",
       "  <thead>\n",
       "    <tr style=\"text-align: right;\">\n",
       "      <th></th>\n",
       "      <th>PassengerId</th>\n",
       "      <th>Survived</th>\n",
       "      <th>Pclass</th>\n",
       "      <th>Name</th>\n",
       "      <th>Sex</th>\n",
       "      <th>Age</th>\n",
       "      <th>SibSp</th>\n",
       "      <th>Parch</th>\n",
       "      <th>Ticket</th>\n",
       "      <th>Fare</th>\n",
       "      <th>Cabin</th>\n",
       "      <th>Embarked</th>\n",
       "      <th>Initial</th>\n",
       "    </tr>\n",
       "  </thead>\n",
       "  <tbody>\n",
       "    <tr>\n",
       "      <th>179</th>\n",
       "      <td>180</td>\n",
       "      <td>0</td>\n",
       "      <td>3</td>\n",
       "      <td>Leonard, Mr. Lionel</td>\n",
       "      <td>male</td>\n",
       "      <td>36.0</td>\n",
       "      <td>0</td>\n",
       "      <td>0</td>\n",
       "      <td>LINE</td>\n",
       "      <td>0.0</td>\n",
       "      <td>NaN</td>\n",
       "      <td>S</td>\n",
       "      <td>Mr</td>\n",
       "    </tr>\n",
       "    <tr>\n",
       "      <th>263</th>\n",
       "      <td>264</td>\n",
       "      <td>0</td>\n",
       "      <td>1</td>\n",
       "      <td>Harrison, Mr. William</td>\n",
       "      <td>male</td>\n",
       "      <td>40.0</td>\n",
       "      <td>0</td>\n",
       "      <td>0</td>\n",
       "      <td>112059</td>\n",
       "      <td>0.0</td>\n",
       "      <td>B94</td>\n",
       "      <td>S</td>\n",
       "      <td>Mr</td>\n",
       "    </tr>\n",
       "    <tr>\n",
       "      <th>271</th>\n",
       "      <td>272</td>\n",
       "      <td>1</td>\n",
       "      <td>3</td>\n",
       "      <td>Tornquist, Mr. William Henry</td>\n",
       "      <td>male</td>\n",
       "      <td>25.0</td>\n",
       "      <td>0</td>\n",
       "      <td>0</td>\n",
       "      <td>LINE</td>\n",
       "      <td>0.0</td>\n",
       "      <td>NaN</td>\n",
       "      <td>S</td>\n",
       "      <td>Mr</td>\n",
       "    </tr>\n",
       "    <tr>\n",
       "      <th>277</th>\n",
       "      <td>278</td>\n",
       "      <td>0</td>\n",
       "      <td>2</td>\n",
       "      <td>Parkes, Mr. Francis \"Frank\"</td>\n",
       "      <td>male</td>\n",
       "      <td>33.0</td>\n",
       "      <td>0</td>\n",
       "      <td>0</td>\n",
       "      <td>239853</td>\n",
       "      <td>0.0</td>\n",
       "      <td>NaN</td>\n",
       "      <td>S</td>\n",
       "      <td>Mr</td>\n",
       "    </tr>\n",
       "    <tr>\n",
       "      <th>302</th>\n",
       "      <td>303</td>\n",
       "      <td>0</td>\n",
       "      <td>3</td>\n",
       "      <td>Johnson, Mr. William Cahoone Jr</td>\n",
       "      <td>male</td>\n",
       "      <td>19.0</td>\n",
       "      <td>0</td>\n",
       "      <td>0</td>\n",
       "      <td>LINE</td>\n",
       "      <td>0.0</td>\n",
       "      <td>NaN</td>\n",
       "      <td>S</td>\n",
       "      <td>Mr</td>\n",
       "    </tr>\n",
       "    <tr>\n",
       "      <th>413</th>\n",
       "      <td>414</td>\n",
       "      <td>0</td>\n",
       "      <td>2</td>\n",
       "      <td>Cunningham, Mr. Alfred Fleming</td>\n",
       "      <td>male</td>\n",
       "      <td>33.0</td>\n",
       "      <td>0</td>\n",
       "      <td>0</td>\n",
       "      <td>239853</td>\n",
       "      <td>0.0</td>\n",
       "      <td>NaN</td>\n",
       "      <td>S</td>\n",
       "      <td>Mr</td>\n",
       "    </tr>\n",
       "    <tr>\n",
       "      <th>466</th>\n",
       "      <td>467</td>\n",
       "      <td>0</td>\n",
       "      <td>2</td>\n",
       "      <td>Campbell, Mr. William</td>\n",
       "      <td>male</td>\n",
       "      <td>33.0</td>\n",
       "      <td>0</td>\n",
       "      <td>0</td>\n",
       "      <td>239853</td>\n",
       "      <td>0.0</td>\n",
       "      <td>NaN</td>\n",
       "      <td>S</td>\n",
       "      <td>Mr</td>\n",
       "    </tr>\n",
       "    <tr>\n",
       "      <th>481</th>\n",
       "      <td>482</td>\n",
       "      <td>0</td>\n",
       "      <td>2</td>\n",
       "      <td>Frost, Mr. Anthony Wood \"Archie\"</td>\n",
       "      <td>male</td>\n",
       "      <td>33.0</td>\n",
       "      <td>0</td>\n",
       "      <td>0</td>\n",
       "      <td>239854</td>\n",
       "      <td>0.0</td>\n",
       "      <td>NaN</td>\n",
       "      <td>S</td>\n",
       "      <td>Mr</td>\n",
       "    </tr>\n",
       "    <tr>\n",
       "      <th>597</th>\n",
       "      <td>598</td>\n",
       "      <td>0</td>\n",
       "      <td>3</td>\n",
       "      <td>Johnson, Mr. Alfred</td>\n",
       "      <td>male</td>\n",
       "      <td>49.0</td>\n",
       "      <td>0</td>\n",
       "      <td>0</td>\n",
       "      <td>LINE</td>\n",
       "      <td>0.0</td>\n",
       "      <td>NaN</td>\n",
       "      <td>S</td>\n",
       "      <td>Mr</td>\n",
       "    </tr>\n",
       "    <tr>\n",
       "      <th>633</th>\n",
       "      <td>634</td>\n",
       "      <td>0</td>\n",
       "      <td>1</td>\n",
       "      <td>Parr, Mr. William Henry Marsh</td>\n",
       "      <td>male</td>\n",
       "      <td>33.0</td>\n",
       "      <td>0</td>\n",
       "      <td>0</td>\n",
       "      <td>112052</td>\n",
       "      <td>0.0</td>\n",
       "      <td>NaN</td>\n",
       "      <td>S</td>\n",
       "      <td>Mr</td>\n",
       "    </tr>\n",
       "    <tr>\n",
       "      <th>674</th>\n",
       "      <td>675</td>\n",
       "      <td>0</td>\n",
       "      <td>2</td>\n",
       "      <td>Watson, Mr. Ennis Hastings</td>\n",
       "      <td>male</td>\n",
       "      <td>33.0</td>\n",
       "      <td>0</td>\n",
       "      <td>0</td>\n",
       "      <td>239856</td>\n",
       "      <td>0.0</td>\n",
       "      <td>NaN</td>\n",
       "      <td>S</td>\n",
       "      <td>Mr</td>\n",
       "    </tr>\n",
       "    <tr>\n",
       "      <th>732</th>\n",
       "      <td>733</td>\n",
       "      <td>0</td>\n",
       "      <td>2</td>\n",
       "      <td>Knight, Mr. Robert J</td>\n",
       "      <td>male</td>\n",
       "      <td>33.0</td>\n",
       "      <td>0</td>\n",
       "      <td>0</td>\n",
       "      <td>239855</td>\n",
       "      <td>0.0</td>\n",
       "      <td>NaN</td>\n",
       "      <td>S</td>\n",
       "      <td>Mr</td>\n",
       "    </tr>\n",
       "    <tr>\n",
       "      <th>806</th>\n",
       "      <td>807</td>\n",
       "      <td>0</td>\n",
       "      <td>1</td>\n",
       "      <td>Andrews, Mr. Thomas Jr</td>\n",
       "      <td>male</td>\n",
       "      <td>39.0</td>\n",
       "      <td>0</td>\n",
       "      <td>0</td>\n",
       "      <td>112050</td>\n",
       "      <td>0.0</td>\n",
       "      <td>A36</td>\n",
       "      <td>S</td>\n",
       "      <td>Mr</td>\n",
       "    </tr>\n",
       "    <tr>\n",
       "      <th>815</th>\n",
       "      <td>816</td>\n",
       "      <td>0</td>\n",
       "      <td>1</td>\n",
       "      <td>Fry, Mr. Richard</td>\n",
       "      <td>male</td>\n",
       "      <td>33.0</td>\n",
       "      <td>0</td>\n",
       "      <td>0</td>\n",
       "      <td>112058</td>\n",
       "      <td>0.0</td>\n",
       "      <td>B102</td>\n",
       "      <td>S</td>\n",
       "      <td>Mr</td>\n",
       "    </tr>\n",
       "    <tr>\n",
       "      <th>822</th>\n",
       "      <td>823</td>\n",
       "      <td>0</td>\n",
       "      <td>1</td>\n",
       "      <td>Reuchlin, Jonkheer. John George</td>\n",
       "      <td>male</td>\n",
       "      <td>38.0</td>\n",
       "      <td>0</td>\n",
       "      <td>0</td>\n",
       "      <td>19972</td>\n",
       "      <td>0.0</td>\n",
       "      <td>NaN</td>\n",
       "      <td>S</td>\n",
       "      <td>Other</td>\n",
       "    </tr>\n",
       "  </tbody>\n",
       "</table>\n",
       "</div>"
      ],
      "text/plain": [
       "     PassengerId  Survived  Pclass                              Name   Sex  \\\n",
       "179          180         0       3               Leonard, Mr. Lionel  male   \n",
       "263          264         0       1             Harrison, Mr. William  male   \n",
       "271          272         1       3      Tornquist, Mr. William Henry  male   \n",
       "277          278         0       2       Parkes, Mr. Francis \"Frank\"  male   \n",
       "302          303         0       3   Johnson, Mr. William Cahoone Jr  male   \n",
       "413          414         0       2    Cunningham, Mr. Alfred Fleming  male   \n",
       "466          467         0       2             Campbell, Mr. William  male   \n",
       "481          482         0       2  Frost, Mr. Anthony Wood \"Archie\"  male   \n",
       "597          598         0       3               Johnson, Mr. Alfred  male   \n",
       "633          634         0       1     Parr, Mr. William Henry Marsh  male   \n",
       "674          675         0       2        Watson, Mr. Ennis Hastings  male   \n",
       "732          733         0       2              Knight, Mr. Robert J  male   \n",
       "806          807         0       1            Andrews, Mr. Thomas Jr  male   \n",
       "815          816         0       1                  Fry, Mr. Richard  male   \n",
       "822          823         0       1   Reuchlin, Jonkheer. John George  male   \n",
       "\n",
       "      Age  SibSp  Parch  Ticket  Fare Cabin Embarked Initial  \n",
       "179  36.0      0      0    LINE   0.0   NaN        S      Mr  \n",
       "263  40.0      0      0  112059   0.0   B94        S      Mr  \n",
       "271  25.0      0      0    LINE   0.0   NaN        S      Mr  \n",
       "277  33.0      0      0  239853   0.0   NaN        S      Mr  \n",
       "302  19.0      0      0    LINE   0.0   NaN        S      Mr  \n",
       "413  33.0      0      0  239853   0.0   NaN        S      Mr  \n",
       "466  33.0      0      0  239853   0.0   NaN        S      Mr  \n",
       "481  33.0      0      0  239854   0.0   NaN        S      Mr  \n",
       "597  49.0      0      0    LINE   0.0   NaN        S      Mr  \n",
       "633  33.0      0      0  112052   0.0   NaN        S      Mr  \n",
       "674  33.0      0      0  239856   0.0   NaN        S      Mr  \n",
       "732  33.0      0      0  239855   0.0   NaN        S      Mr  \n",
       "806  39.0      0      0  112050   0.0   A36        S      Mr  \n",
       "815  33.0      0      0  112058   0.0  B102        S      Mr  \n",
       "822  38.0      0      0   19972   0.0   NaN        S   Other  "
      ]
     },
     "execution_count": 38,
     "metadata": {},
     "output_type": "execute_result"
    }
   ],
   "source": [
    "data[data.Fare==0]"
   ]
  },
  {
   "cell_type": "markdown",
   "id": "e3ba48d9",
   "metadata": {
    "papermill": {
     "duration": 0.058293,
     "end_time": "2022-02-26T14:48:24.587161",
     "exception": false,
     "start_time": "2022-02-26T14:48:24.528868",
     "status": "completed"
    },
    "tags": []
   },
   "source": [
    "### Correlation Between The Features"
   ]
  },
  {
   "cell_type": "code",
   "execution_count": 39,
   "id": "9b7fab82",
   "metadata": {
    "execution": {
     "iopub.execute_input": "2022-02-26T14:48:24.708940Z",
     "iopub.status.busy": "2022-02-26T14:48:24.708360Z",
     "iopub.status.idle": "2022-02-26T14:48:25.155262Z",
     "shell.execute_reply": "2022-02-26T14:48:25.155703Z",
     "shell.execute_reply.started": "2022-02-26T14:37:18.953192Z"
    },
    "papermill": {
     "duration": 0.509715,
     "end_time": "2022-02-26T14:48:25.155898",
     "exception": false,
     "start_time": "2022-02-26T14:48:24.646183",
     "status": "completed"
    },
    "tags": []
   },
   "outputs": [
    {
     "data": {
      "image/png": "[encoded data removed]",
      "text/plain": [
       "<Figure size 720x576 with 2 Axes>"
      ]
     },
     "metadata": {
      "needs_background": "light"
     },
     "output_type": "display_data"
    }
   ],
   "source": [
    "sns.heatmap(data.corr(),annot=True,cmap='RdYlGn',linewidths=0.2) #data.corr()-->correlation matrix\n",
    "fig=plt.gcf()\n",
    "fig.set_size_inches(10,8)\n",
    "plt.show()"
   ]
  },
  {
   "cell_type": "code",
   "execution_count": null,
   "id": "427170fe",
   "metadata": {
    "papermill": {
     "duration": 0.061809,
     "end_time": "2022-02-26T14:48:25.278585",
     "exception": false,
     "start_time": "2022-02-26T14:48:25.216776",
     "status": "completed"
    },
    "tags": []
   },
   "outputs": [],
   "source": []
  }
 ],
 "metadata": {
  "kernelspec": {
   "display_name": "Python 3",
   "language": "python",
   "name": "python3"
  },
  "language_info": {
   "codemirror_mode": {
    "name": "ipython",
    "version": 3
   },
   "file_extension": ".py",
   "mimetype": "text/x-python",
   "name": "python",
   "nbconvert_exporter": "python",
   "pygments_lexer": "ipython3",
   "version": "3.7.12"
  },
  "papermill": {
   "default_parameters": {},
   "duration": 24.362443,
   "end_time": "2022-02-26T14:48:26.049118",
   "environment_variables": {},
   "exception": null,
   "input_path": "__notebook__.ipynb",
   "output_path": "__notebook__.ipynb",
   "parameters": {},
   "start_time": "2022-02-26T14:48:01.686675",
   "version": "2.3.3"
  }
 },
 "nbformat": 4,
 "nbformat_minor": 5
}
