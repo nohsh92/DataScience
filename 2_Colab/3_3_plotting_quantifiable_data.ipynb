{
  "nbformat": 4,
  "nbformat_minor": 0,
  "metadata": {
    "colab": {
      "name": "3_3_plotting_quantifiable data",
      "provenance": [],
      "authorship_tag": "ABX9TyNE1l6FZFJeGVlQLeYlD0f9",
      "include_colab_link": true
    },
    "kernelspec": {
      "name": "python3",
      "display_name": "Python 3"
    },
    "language_info": {
      "name": "python"
    }
  },
  "cells": [
    {
      "cell_type": "markdown",
      "metadata": {
        "id": "view-in-github",
        "colab_type": "text"
      },
      "source": [
        "<a href=\"https://colab.research.google.com/github/nohsh92/DataScience/blob/main/3_3_plotting_quantifiable_data.ipynb\" target=\"_parent\"><img src=\"https://colab.research.google.com/assets/colab-badge.svg\" alt=\"Open In Colab\"/></a>"
      ]
    },
    {
      "cell_type": "code",
      "execution_count": 1,
      "metadata": {
        "id": "KNQDOCWbxjn7"
      },
      "outputs": [],
      "source": [
        "from matplotlib import pyplot as plt\n"
      ]
    },
    {
      "cell_type": "code",
      "source": [
        "# x축 지점의 값들로 정할 리스트를 생성합니다.\n",
        "x_values = [0, 1, 2, 3, 4]"
      ],
      "metadata": {
        "id": "bKH0Yp9Xxkv-"
      },
      "execution_count": 2,
      "outputs": []
    },
    {
      "cell_type": "code",
      "source": [
        "# y축 지점의 값들\n",
        "y_values = [0, 1, 4, 9, 16]"
      ],
      "metadata": {
        "id": "SxudsVosxl9V"
      },
      "execution_count": 3,
      "outputs": []
    },
    {
      "cell_type": "code",
      "source": [
        "# line 그래프를 그립니다\n",
        "plt.plot(x_values, y_values)"
      ],
      "metadata": {
        "colab": {
          "base_uri": "https://localhost:8080/",
          "height": 282
        },
        "id": "IDYZxEYFxmmg",
        "outputId": "b3afe5a5-8a30-4157-86c3-ff20f791507d"
      },
      "execution_count": 4,
      "outputs": [
        {
          "output_type": "execute_result",
          "data": {
            "text/plain": [
              "[<matplotlib.lines.Line2D at 0x7f16dd9896d0>]"
            ]
          },
          "metadata": {},
          "execution_count": 4
        },
        {
          "output_type": "display_data",
          "data": {
            "text/plain": [
              "<Figure size 432x288 with 1 Axes>"
            ],
            "image/png": "[encoded data removed]"
          },
          "metadata": {
            "needs_background": "light"
          }
        }
      ]
    },
    {
      "cell_type": "code",
      "source": [
        "# 그래프를 화면에 보여줍니다\n",
        "plt.show()"
      ],
      "metadata": {
        "id": "ca2SerbZxnTT"
      },
      "execution_count": 4,
      "outputs": []
    },
    {
      "cell_type": "code",
      "source": [
        "# 변수 분포를 갖는 리스트를 생성합니다.\n",
        "a = [1,2,3,3,3,4,4,4,4,5,5,5,5,5,6,6,7]"
      ],
      "metadata": {
        "id": "CxzzRrqKxolR"
      },
      "execution_count": 5,
      "outputs": []
    },
    {
      "cell_type": "code",
      "source": [
        "# hist() 매서드를 활용해 그래프를 그립니다.\n",
        "plt.hist(a)"
      ],
      "metadata": {
        "colab": {
          "base_uri": "https://localhost:8080/",
          "height": 317
        },
        "id": "A2dCMlYrx74D",
        "outputId": "ab32d1f6-dcca-4185-8431-701d02a9232d"
      },
      "execution_count": 6,
      "outputs": [
        {
          "output_type": "execute_result",
          "data": {
            "text/plain": [
              "(array([1., 1., 0., 3., 0., 4., 5., 0., 2., 1.]),\n",
              " array([1. , 1.6, 2.2, 2.8, 3.4, 4. , 4.6, 5.2, 5.8, 6.4, 7. ]),\n",
              " <a list of 10 Patch objects>)"
            ]
          },
          "metadata": {},
          "execution_count": 6
        },
        {
          "output_type": "display_data",
          "data": {
            "text/plain": [
              "<Figure size 432x288 with 1 Axes>"
            ],
            "image/png": "[encoded data removed]"
          },
          "metadata": {
            "needs_background": "light"
          }
        }
      ]
    },
    {
      "cell_type": "code",
      "source": [
        "# 그래프를 화면에 보여줍니다\n",
        "plt.show()"
      ],
      "metadata": {
        "id": "xm1FazWPx8j0"
      },
      "execution_count": 7,
      "outputs": []
    },
    {
      "cell_type": "code",
      "source": [
        ""
      ],
      "metadata": {
        "id": "-N-KUQmVx9V3"
      },
      "execution_count": null,
      "outputs": []
    }
  ]
}