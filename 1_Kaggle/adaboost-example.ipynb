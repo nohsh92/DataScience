{
 "cells": [
  {
   "cell_type": "code",
   "execution_count": 1,
   "id": "1a96e2c9",
   "metadata": {
    "_cell_guid": "b1076dfc-b9ad-4769-8c92-a6c4dae69d19",
    "_uuid": "8f2839f25d086af736a60e9eeb907d3b93b6e0e5",
    "execution": {
     "iopub.execute_input": "2022-03-08T15:27:49.074423Z",
     "iopub.status.busy": "2022-03-08T15:27:49.073800Z",
     "iopub.status.idle": "2022-03-08T15:27:49.087133Z",
     "shell.execute_reply": "2022-03-08T15:27:49.086072Z",
     "shell.execute_reply.started": "2022-03-08T15:19:36.191819Z"
    },
    "papermill": {
     "duration": 0.035646,
     "end_time": "2022-03-08T15:27:49.087389",
     "exception": false,
     "start_time": "2022-03-08T15:27:49.051743",
     "status": "completed"
    },
    "tags": []
   },
   "outputs": [
    {
     "name": "stdout",
     "output_type": "stream",
     "text": [
      "/kaggle/input/iris/Iris.csv\n",
      "/kaggle/input/iris/database.sqlite\n"
     ]
    }
   ],
   "source": [
    "# This Python 3 environment comes with many helpful analytics libraries installed\n",
    "# It is defined by the kaggle/python docker image: https://github.com/kaggle/docker-python\n",
    "# For example, here's several helpful packages to load in \n",
    "\n",
    "import numpy as np # linear algebra\n",
    "import pandas as pd # data processing, CSV file I/O (e.g. pd.read_csv)\n",
    "\n",
    "# Input data files are available in the \"../input/\" directory.\n",
    "# For example, running this (by clicking run or pressing Shift+Enter) will list all files under the input directory\n",
    "\n",
    "import os\n",
    "for dirname, _, filenames in os.walk('/kaggle/input'):\n",
    "    for filename in filenames:\n",
    "        print(os.path.join(dirname, filename))\n",
    "\n",
    "# Any results you write to the current directory are saved as output."
   ]
  },
  {
   "cell_type": "code",
   "execution_count": 2,
   "id": "1847443d",
   "metadata": {
    "execution": {
     "iopub.execute_input": "2022-03-08T15:27:49.112142Z",
     "iopub.status.busy": "2022-03-08T15:27:49.111579Z",
     "iopub.status.idle": "2022-03-08T15:27:49.125696Z",
     "shell.execute_reply": "2022-03-08T15:27:49.126182Z",
     "shell.execute_reply.started": "2022-03-08T15:19:43.626791Z"
    },
    "papermill": {
     "duration": 0.02737,
     "end_time": "2022-03-08T15:27:49.126358",
     "exception": false,
     "start_time": "2022-03-08T15:27:49.098988",
     "status": "completed"
    },
    "tags": []
   },
   "outputs": [],
   "source": [
    "iris = pd.read_csv('/kaggle/input/iris/Iris.csv')"
   ]
  },
  {
   "cell_type": "code",
   "execution_count": 3,
   "id": "b5c97e24",
   "metadata": {
    "execution": {
     "iopub.execute_input": "2022-03-08T15:27:49.149100Z",
     "iopub.status.busy": "2022-03-08T15:27:49.148481Z",
     "iopub.status.idle": "2022-03-08T15:27:49.167668Z",
     "shell.execute_reply": "2022-03-08T15:27:49.168128Z",
     "shell.execute_reply.started": "2022-03-08T15:19:55.579715Z"
    },
    "papermill": {
     "duration": 0.031914,
     "end_time": "2022-03-08T15:27:49.168345",
     "exception": false,
     "start_time": "2022-03-08T15:27:49.136431",
     "status": "completed"
    },
    "tags": []
   },
   "outputs": [
    {
     "data": {
      "text/html": [
       "<div>\n",
       "<style scoped>\n",
       "    .dataframe tbody tr th:only-of-type {\n",
       "        vertical-align: middle;\n",
       "    }\n",
       "\n",
       "    .dataframe tbody tr th {\n",
       "        vertical-align: top;\n",
       "    }\n",
       "\n",
       "    .dataframe thead th {\n",
       "        text-align: right;\n",
       "    }\n",
       "</style>\n",
       "<table border=\"1\" class=\"dataframe\">\n",
       "  <thead>\n",
       "    <tr style=\"text-align: right;\">\n",
       "      <th></th>\n",
       "      <th>Id</th>\n",
       "      <th>SepalLengthCm</th>\n",
       "      <th>SepalWidthCm</th>\n",
       "      <th>PetalLengthCm</th>\n",
       "      <th>PetalWidthCm</th>\n",
       "      <th>Species</th>\n",
       "    </tr>\n",
       "  </thead>\n",
       "  <tbody>\n",
       "    <tr>\n",
       "      <th>0</th>\n",
       "      <td>1</td>\n",
       "      <td>5.1</td>\n",
       "      <td>3.5</td>\n",
       "      <td>1.4</td>\n",
       "      <td>0.2</td>\n",
       "      <td>Iris-setosa</td>\n",
       "    </tr>\n",
       "    <tr>\n",
       "      <th>1</th>\n",
       "      <td>2</td>\n",
       "      <td>4.9</td>\n",
       "      <td>3.0</td>\n",
       "      <td>1.4</td>\n",
       "      <td>0.2</td>\n",
       "      <td>Iris-setosa</td>\n",
       "    </tr>\n",
       "    <tr>\n",
       "      <th>2</th>\n",
       "      <td>3</td>\n",
       "      <td>4.7</td>\n",
       "      <td>3.2</td>\n",
       "      <td>1.3</td>\n",
       "      <td>0.2</td>\n",
       "      <td>Iris-setosa</td>\n",
       "    </tr>\n",
       "    <tr>\n",
       "      <th>3</th>\n",
       "      <td>4</td>\n",
       "      <td>4.6</td>\n",
       "      <td>3.1</td>\n",
       "      <td>1.5</td>\n",
       "      <td>0.2</td>\n",
       "      <td>Iris-setosa</td>\n",
       "    </tr>\n",
       "    <tr>\n",
       "      <th>4</th>\n",
       "      <td>5</td>\n",
       "      <td>5.0</td>\n",
       "      <td>3.6</td>\n",
       "      <td>1.4</td>\n",
       "      <td>0.2</td>\n",
       "      <td>Iris-setosa</td>\n",
       "    </tr>\n",
       "  </tbody>\n",
       "</table>\n",
       "</div>"
      ],
      "text/plain": [
       "   Id  SepalLengthCm  SepalWidthCm  PetalLengthCm  PetalWidthCm      Species\n",
       "0   1            5.1           3.5            1.4           0.2  Iris-setosa\n",
       "1   2            4.9           3.0            1.4           0.2  Iris-setosa\n",
       "2   3            4.7           3.2            1.3           0.2  Iris-setosa\n",
       "3   4            4.6           3.1            1.5           0.2  Iris-setosa\n",
       "4   5            5.0           3.6            1.4           0.2  Iris-setosa"
      ]
     },
     "execution_count": 3,
     "metadata": {},
     "output_type": "execute_result"
    }
   ],
   "source": [
    "iris.head()\n"
   ]
  },
  {
   "cell_type": "code",
   "execution_count": 4,
   "id": "42ab4fd1",
   "metadata": {
    "execution": {
     "iopub.execute_input": "2022-03-08T15:27:49.208616Z",
     "iopub.status.busy": "2022-03-08T15:27:49.207926Z",
     "iopub.status.idle": "2022-03-08T15:27:49.212900Z",
     "shell.execute_reply": "2022-03-08T15:27:49.212008Z",
     "shell.execute_reply.started": "2022-03-08T15:20:04.377051Z"
    },
    "papermill": {
     "duration": 0.034086,
     "end_time": "2022-03-08T15:27:49.213094",
     "exception": false,
     "start_time": "2022-03-08T15:27:49.179008",
     "status": "completed"
    },
    "tags": []
   },
   "outputs": [
    {
     "name": "stdout",
     "output_type": "stream",
     "text": [
      "<class 'pandas.core.frame.DataFrame'>\n",
      "RangeIndex: 150 entries, 0 to 149\n",
      "Data columns (total 6 columns):\n",
      " #   Column         Non-Null Count  Dtype  \n",
      "---  ------         --------------  -----  \n",
      " 0   Id             150 non-null    int64  \n",
      " 1   SepalLengthCm  150 non-null    float64\n",
      " 2   SepalWidthCm   150 non-null    float64\n",
      " 3   PetalLengthCm  150 non-null    float64\n",
      " 4   PetalWidthCm   150 non-null    float64\n",
      " 5   Species        150 non-null    object \n",
      "dtypes: float64(4), int64(1), object(1)\n",
      "memory usage: 7.2+ KB\n"
     ]
    }
   ],
   "source": [
    "iris.info()\n"
   ]
  },
  {
   "cell_type": "code",
   "execution_count": 5,
   "id": "c01ca098",
   "metadata": {
    "execution": {
     "iopub.execute_input": "2022-03-08T15:27:49.249090Z",
     "iopub.status.busy": "2022-03-08T15:27:49.248516Z",
     "iopub.status.idle": "2022-03-08T15:27:49.250825Z",
     "shell.execute_reply": "2022-03-08T15:27:49.251259Z",
     "shell.execute_reply.started": "2022-03-08T15:20:13.112688Z"
    },
    "papermill": {
     "duration": 0.026257,
     "end_time": "2022-03-08T15:27:49.251415",
     "exception": false,
     "start_time": "2022-03-08T15:27:49.225158",
     "status": "completed"
    },
    "tags": []
   },
   "outputs": [
    {
     "data": {
      "text/html": [
       "<div>\n",
       "<style scoped>\n",
       "    .dataframe tbody tr th:only-of-type {\n",
       "        vertical-align: middle;\n",
       "    }\n",
       "\n",
       "    .dataframe tbody tr th {\n",
       "        vertical-align: top;\n",
       "    }\n",
       "\n",
       "    .dataframe thead th {\n",
       "        text-align: right;\n",
       "    }\n",
       "</style>\n",
       "<table border=\"1\" class=\"dataframe\">\n",
       "  <thead>\n",
       "    <tr style=\"text-align: right;\">\n",
       "      <th></th>\n",
       "      <th>SepalLengthCm</th>\n",
       "      <th>SepalWidthCm</th>\n",
       "      <th>PetalLengthCm</th>\n",
       "      <th>PetalWidthCm</th>\n",
       "    </tr>\n",
       "  </thead>\n",
       "  <tbody>\n",
       "    <tr>\n",
       "      <th>0</th>\n",
       "      <td>5.1</td>\n",
       "      <td>3.5</td>\n",
       "      <td>1.4</td>\n",
       "      <td>0.2</td>\n",
       "    </tr>\n",
       "    <tr>\n",
       "      <th>1</th>\n",
       "      <td>4.9</td>\n",
       "      <td>3.0</td>\n",
       "      <td>1.4</td>\n",
       "      <td>0.2</td>\n",
       "    </tr>\n",
       "    <tr>\n",
       "      <th>2</th>\n",
       "      <td>4.7</td>\n",
       "      <td>3.2</td>\n",
       "      <td>1.3</td>\n",
       "      <td>0.2</td>\n",
       "    </tr>\n",
       "    <tr>\n",
       "      <th>3</th>\n",
       "      <td>4.6</td>\n",
       "      <td>3.1</td>\n",
       "      <td>1.5</td>\n",
       "      <td>0.2</td>\n",
       "    </tr>\n",
       "    <tr>\n",
       "      <th>4</th>\n",
       "      <td>5.0</td>\n",
       "      <td>3.6</td>\n",
       "      <td>1.4</td>\n",
       "      <td>0.2</td>\n",
       "    </tr>\n",
       "  </tbody>\n",
       "</table>\n",
       "</div>"
      ],
      "text/plain": [
       "   SepalLengthCm  SepalWidthCm  PetalLengthCm  PetalWidthCm\n",
       "0            5.1           3.5            1.4           0.2\n",
       "1            4.9           3.0            1.4           0.2\n",
       "2            4.7           3.2            1.3           0.2\n",
       "3            4.6           3.1            1.5           0.2\n",
       "4            5.0           3.6            1.4           0.2"
      ]
     },
     "execution_count": 5,
     "metadata": {},
     "output_type": "execute_result"
    }
   ],
   "source": [
    "X = iris[['SepalLengthCm','SepalWidthCm','PetalLengthCm','PetalWidthCm']]\n",
    "\n",
    "X.head()"
   ]
  },
  {
   "cell_type": "code",
   "execution_count": 6,
   "id": "95bac50e",
   "metadata": {
    "execution": {
     "iopub.execute_input": "2022-03-08T15:27:49.280321Z",
     "iopub.status.busy": "2022-03-08T15:27:49.279655Z",
     "iopub.status.idle": "2022-03-08T15:27:49.282062Z",
     "shell.execute_reply": "2022-03-08T15:27:49.282515Z",
     "shell.execute_reply.started": "2022-03-08T15:20:33.672557Z"
    },
    "papermill": {
     "duration": 0.019969,
     "end_time": "2022-03-08T15:27:49.282671",
     "exception": false,
     "start_time": "2022-03-08T15:27:49.262702",
     "status": "completed"
    },
    "tags": []
   },
   "outputs": [
    {
     "data": {
      "text/plain": [
       "0    Iris-setosa\n",
       "1    Iris-setosa\n",
       "2    Iris-setosa\n",
       "3    Iris-setosa\n",
       "4    Iris-setosa\n",
       "Name: Species, dtype: object"
      ]
     },
     "execution_count": 6,
     "metadata": {},
     "output_type": "execute_result"
    }
   ],
   "source": [
    "y = iris['Species']\n",
    "\n",
    "y.head()"
   ]
  },
  {
   "cell_type": "code",
   "execution_count": 7,
   "id": "f08ebf13",
   "metadata": {
    "execution": {
     "iopub.execute_input": "2022-03-08T15:27:49.309928Z",
     "iopub.status.busy": "2022-03-08T15:27:49.308664Z",
     "iopub.status.idle": "2022-03-08T15:27:50.338413Z",
     "shell.execute_reply": "2022-03-08T15:27:50.337816Z",
     "shell.execute_reply.started": "2022-03-08T15:20:40.815322Z"
    },
    "papermill": {
     "duration": 1.044275,
     "end_time": "2022-03-08T15:27:50.338567",
     "exception": false,
     "start_time": "2022-03-08T15:27:49.294292",
     "status": "completed"
    },
    "tags": []
   },
   "outputs": [],
   "source": [
    "from sklearn.preprocessing import LabelEncoder\n",
    "\n",
    "le=LabelEncoder()\n",
    "\n",
    "y=le.fit_transform(y)"
   ]
  },
  {
   "cell_type": "code",
   "execution_count": 8,
   "id": "5e2e7870",
   "metadata": {
    "execution": {
     "iopub.execute_input": "2022-03-08T15:27:50.369646Z",
     "iopub.status.busy": "2022-03-08T15:27:50.367578Z",
     "iopub.status.idle": "2022-03-08T15:27:50.421931Z",
     "shell.execute_reply": "2022-03-08T15:27:50.422462Z",
     "shell.execute_reply.started": "2022-03-08T15:20:48.207046Z"
    },
    "papermill": {
     "duration": 0.069838,
     "end_time": "2022-03-08T15:27:50.422643",
     "exception": false,
     "start_time": "2022-03-08T15:27:50.352805",
     "status": "completed"
    },
    "tags": []
   },
   "outputs": [],
   "source": [
    "# Import train_test_split function\n",
    "from sklearn.model_selection import train_test_split\n",
    "\n",
    "# Split dataset into training set and test set\n",
    "X_train, X_test, y_train, y_test = train_test_split(X, y, test_size=0.3)"
   ]
  },
  {
   "cell_type": "code",
   "execution_count": 9,
   "id": "d952fc65",
   "metadata": {
    "execution": {
     "iopub.execute_input": "2022-03-08T15:27:50.458152Z",
     "iopub.status.busy": "2022-03-08T15:27:50.457485Z",
     "iopub.status.idle": "2022-03-08T15:27:50.737282Z",
     "shell.execute_reply": "2022-03-08T15:27:50.736664Z",
     "shell.execute_reply.started": "2022-03-08T15:20:57.632710Z"
    },
    "papermill": {
     "duration": 0.298687,
     "end_time": "2022-03-08T15:27:50.737425",
     "exception": false,
     "start_time": "2022-03-08T15:27:50.438738",
     "status": "completed"
    },
    "tags": []
   },
   "outputs": [],
   "source": [
    "# Import the AdaBoost classifier\n",
    "from sklearn.ensemble import AdaBoostClassifier\n",
    "\n",
    "\n",
    "# Create adaboost classifer object\n",
    "abc = AdaBoostClassifier(n_estimators=50, learning_rate=1, random_state=0)\n",
    "\n",
    "# Train Adaboost Classifer\n",
    "model1 = abc.fit(X_train, y_train)\n",
    "\n",
    "\n",
    "#Predict the response for test dataset\n",
    "y_pred = model1.predict(X_test)"
   ]
  },
  {
   "cell_type": "code",
   "execution_count": 10,
   "id": "1c0a4447",
   "metadata": {
    "execution": {
     "iopub.execute_input": "2022-03-08T15:27:50.766308Z",
     "iopub.status.busy": "2022-03-08T15:27:50.763350Z",
     "iopub.status.idle": "2022-03-08T15:27:50.769793Z",
     "shell.execute_reply": "2022-03-08T15:27:50.768939Z",
     "shell.execute_reply.started": "2022-03-08T15:23:35.910716Z"
    },
    "papermill": {
     "duration": 0.020721,
     "end_time": "2022-03-08T15:27:50.769976",
     "exception": false,
     "start_time": "2022-03-08T15:27:50.749255",
     "status": "completed"
    },
    "tags": []
   },
   "outputs": [
    {
     "name": "stdout",
     "output_type": "stream",
     "text": [
      "AdaBoost Classifier Model Accuracy: 0.9555555555555556\n"
     ]
    }
   ],
   "source": [
    "#import scikit-learn metrics module for accuracy calculation\n",
    "from sklearn.metrics import accuracy_score\n",
    "\n",
    "\n",
    "# calculate and print model accuracy\n",
    "print(\"AdaBoost Classifier Model Accuracy:\", accuracy_score(y_test, y_pred))"
   ]
  },
  {
   "cell_type": "code",
   "execution_count": 11,
   "id": "872cecb8",
   "metadata": {
    "execution": {
     "iopub.execute_input": "2022-03-08T15:27:50.804504Z",
     "iopub.status.busy": "2022-03-08T15:27:50.803833Z",
     "iopub.status.idle": "2022-03-08T15:27:50.820035Z",
     "shell.execute_reply": "2022-03-08T15:27:50.819567Z",
     "shell.execute_reply.started": "2022-03-08T15:24:08.296253Z"
    },
    "papermill": {
     "duration": 0.037064,
     "end_time": "2022-03-08T15:27:50.820175",
     "exception": false,
     "start_time": "2022-03-08T15:27:50.783111",
     "status": "completed"
    },
    "tags": []
   },
   "outputs": [
    {
     "name": "stdout",
     "output_type": "stream",
     "text": [
      "Model Accuracy with SVC Base Estimator: 0.9333333333333333\n"
     ]
    }
   ],
   "source": [
    "# load required classifer\n",
    "from sklearn.ensemble import AdaBoostClassifier\n",
    "\n",
    "\n",
    "# import Support Vector Classifier\n",
    "from sklearn.svm import SVC\n",
    "\n",
    "\n",
    "# import scikit-learn metrics module for accuracy calculation\n",
    "from sklearn.metrics import accuracy_score\n",
    "svc=SVC(probability=True, kernel='linear')\n",
    "\n",
    "\n",
    "# create adaboost classifer object\n",
    "abc =AdaBoostClassifier(n_estimators=50, base_estimator=svc,learning_rate=1, random_state=0)\n",
    "\n",
    "\n",
    "# train adaboost classifer\n",
    "model2 = abc.fit(X_train, y_train)\n",
    "\n",
    "\n",
    "# predict the response for test dataset\n",
    "y_pred = model2.predict(X_test)\n",
    "\n",
    "\n",
    "# calculate and print model accuracy\n",
    "print(\"Model Accuracy with SVC Base Estimator:\",accuracy_score(y_test, y_pred))"
   ]
  },
  {
   "cell_type": "code",
   "execution_count": null,
   "id": "b01ca7a4",
   "metadata": {
    "papermill": {
     "duration": 0.011885,
     "end_time": "2022-03-08T15:27:50.844027",
     "exception": false,
     "start_time": "2022-03-08T15:27:50.832142",
     "status": "completed"
    },
    "tags": []
   },
   "outputs": [],
   "source": []
  }
 ],
 "metadata": {
  "kernelspec": {
   "display_name": "Python 3",
   "language": "python",
   "name": "python3"
  },
  "language_info": {
   "codemirror_mode": {
    "name": "ipython",
    "version": 3
   },
   "file_extension": ".py",
   "mimetype": "text/x-python",
   "name": "python",
   "nbconvert_exporter": "python",
   "pygments_lexer": "ipython3",
   "version": "3.7.12"
  },
  "papermill": {
   "default_parameters": {},
   "duration": 10.76059,
   "end_time": "2022-03-08T15:27:51.568109",
   "environment_variables": {},
   "exception": null,
   "input_path": "__notebook__.ipynb",
   "output_path": "__notebook__.ipynb",
   "parameters": {},
   "start_time": "2022-03-08T15:27:40.807519",
   "version": "2.3.3"
  }
 },
 "nbformat": 4,
 "nbformat_minor": 5
}
